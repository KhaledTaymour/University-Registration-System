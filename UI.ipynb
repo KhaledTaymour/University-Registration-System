{
 "cells": [
  {
   "cell_type": "code",
   "execution_count": 1,
   "metadata": {},
   "outputs": [],
   "source": [
    "#Data of Colleges\n",
    "colleges = [{\"id\": 1, \"name\": \"Agriculture\" }, { \"id\": 2, \"name\": \"Medicine\" }, {\"id\": 3, \"name\": \"Arts\" }, { \"id\": 4, \"name\": \"Commerce\" }, { \"id\": 5, \"name\": \"Engineering\" }, { \"id\": 6, \"name\": \"Law\" }, { \"id\": 7, \"name\": \"Science\" }, { \"id\": 8, \"name\": \"Pharmacy\" }, { \"id\": 9, \"name\": \"Nursing\" }, { \"id\": 10, \"name\": \"Physical Education\" }, { \"id\": 11, \"name\": \"Fine Arts\" }, { \"id\": 12, \"name\": \"Education\" }, { \"id\": 13, \"name\": \"Dentistry \" }, { \"id\": 14, \"name\": \"Veterinary Medicine\" }, { \"id\": 15, \"name\": \"Tourism and Hotels\" }, { \"id\": 16, \"name\": \"Education for Early Childhood\" }, { \"id\": 17, \"name\": \"Economic Studies & Political Science\" }, { \"id\": 18, \"name\": \"Computing and Data Science\" }, { \"id\": 19, \"name\": \"IGSR\" }, { \"id\": 20, \"name\": \"Institute of Medical Research\" } ]"
   ]
  },
  {
   "cell_type": "code",
   "execution_count": 2,
   "metadata": {},
   "outputs": [],
   "source": [
    "#Data of Departments\n",
    "departments = [{\"id\":1,\"name\":\"dept1\",\"collegeId\":1},{\"id\":2,\"name\":\"dept2\",\"collegeId\":1},{\"id\":3,\"name\":\"dept3\",\"collegeId\":1},{\"id\":4,\"name\":\"dept4\",\"collegeId\":1},{\"id\":5,\"name\":\"dept5\",\"collegeId\":2},{\"id\":6,\"name\":\"dept6\",\"collegeId\":2},{\"id\":7,\"name\":\"dept7\",\"collegeId\":2},{\"id\":8,\"name\":\"dept8\",\"collegeId\":2},{\"id\":9,\"name\":\"dept9\",\"collegeId\":3},{\"id\":10,\"name\":\"dept10\",\"collegeId\":3},{\"id\":11,\"name\":\"dept11\",\"collegeId\":3},{\"id\":12,\"name\":\"dept12\",\"collegeId\":3},{\"id\":13,\"name\":\"dept13\",\"collegeId\":3},{\"id\":14,\"name\":\"dept14\",\"collegeId\":3},{\"id\":15,\"name\":\"dept15\",\"collegeId\":4},{\"id\":16,\"name\":\"dept16\",\"collegeId\":4},{\"id\":17,\"name\":\"dept17\",\"collegeId\":4},{\"id\":18,\"name\":\"dept18\",\"collegeId\":4},{\"id\":19,\"name\":\"dept19\",\"collegeId\":4},{\"id\":20,\"name\":\"dept20\",\"collegeId\":4},{\"id\":21,\"name\":\"dept21\",\"collegeId\":5},{\"id\":22,\"name\":\"dept22\",\"collegeId\":5},{\"id\":23,\"name\":\"dept23\",\"collegeId\":5},{\"id\":24,\"name\":\"dept24\",\"collegeId\":5},{\"id\":25,\"name\":\"dept25\",\"collegeId\":5},{\"id\":26,\"name\":\"dept26\",\"collegeId\":5},{\"id\":27,\"name\":\"dept27\",\"collegeId\":6},{\"id\":28,\"name\":\"dept28\",\"collegeId\":6},{\"id\":29,\"name\":\"dept29\",\"collegeId\":6},{\"id\":30,\"name\":\"dept30\",\"collegeId\":6},{\"id\":31,\"name\":\"dept31\",\"collegeId\":6},{\"id\":32,\"name\":\"dept32\",\"collegeId\":6},{\"id\":33,\"name\":\"dept33\",\"collegeId\":6},{\"id\":34,\"name\":\"dept34\",\"collegeId\":6},{\"id\":35,\"name\":\"dept35\",\"collegeId\":7},{\"id\":36,\"name\":\"dept36\",\"collegeId\":7},{\"id\":37,\"name\":\"dept37\",\"collegeId\":7},{\"id\":38,\"name\":\"dept38\",\"collegeId\":7},{\"id\":39,\"name\":\"dept39\",\"collegeId\":7},{\"id\":40,\"name\":\"dept40\",\"collegeId\":7},{\"id\":41,\"name\":\"dept41\",\"collegeId\":7},{\"id\":42,\"name\":\"dept42\",\"collegeId\":7},{\"id\":43,\"name\":\"dept43\",\"collegeId\":8},{\"id\":44,\"name\":\"dept44\",\"collegeId\":8},{\"id\":45,\"name\":\"dept45\",\"collegeId\":8},{\"id\":46,\"name\":\"dept46\",\"collegeId\":8},{\"id\":47,\"name\":\"dept47\",\"collegeId\":8},{\"id\":48,\"name\":\"dept48\",\"collegeId\":8},{\"id\":49,\"name\":\"dept49\",\"collegeId\":8},{\"id\":50,\"name\":\"dept50\",\"collegeId\":8},{\"id\":51,\"name\":\"dept51\",\"collegeId\":9},{\"id\":52,\"name\":\"dept52\",\"collegeId\":9},{\"id\":53,\"name\":\"dept53\",\"collegeId\":9},{\"id\":54,\"name\":\"dept54\",\"collegeId\":9},{\"id\":55,\"name\":\"dept55\",\"collegeId\":9},{\"id\":56,\"name\":\"dept56\",\"collegeId\":9},{\"id\":57,\"name\":\"dept57\",\"collegeId\":9},{\"id\":58,\"name\":\"dept58\",\"collegeId\":9},{\"id\":59,\"name\":\"dept59\",\"collegeId\":9},{\"id\":60,\"name\":\"dept60\",\"collegeId\":9},{\"id\":61,\"name\":\"dept61\",\"collegeId\":10},{\"id\":62,\"name\":\"dept62\",\"collegeId\":10},{\"id\":63,\"name\":\"dept63\",\"collegeId\":10},{\"id\":64,\"name\":\"dept64\",\"collegeId\":10},{\"id\":65,\"name\":\"dept65\",\"collegeId\":10},{\"id\":66,\"name\":\"dept66\",\"collegeId\":10},{\"id\":67,\"name\":\"dept67\",\"collegeId\":10},{\"id\":68,\"name\":\"dept68\",\"collegeId\":10},{\"id\":69,\"name\":\"dept69\",\"collegeId\":10},{\"id\":70,\"name\":\"dept70\",\"collegeId\":10},{\"id\":71,\"name\":\"dept71\",\"collegeId\":11},{\"id\":72,\"name\":\"dept72\",\"collegeId\":11},{\"id\":73,\"name\":\"dept73\",\"collegeId\":11},{\"id\":74,\"name\":\"dept74\",\"collegeId\":11},{\"id\":75,\"name\":\"dept75\",\"collegeId\":11},{\"id\":76,\"name\":\"dept76\",\"collegeId\":11},{\"id\":77,\"name\":\"dept77\",\"collegeId\":11},{\"id\":78,\"name\":\"dept78\",\"collegeId\":11},{\"id\":79,\"name\":\"dept79\",\"collegeId\":11},{\"id\":80,\"name\":\"dept80\",\"collegeId\":11},{\"id\":81,\"name\":\"dept81\",\"collegeId\":12},{\"id\":82,\"name\":\"dept82\",\"collegeId\":12},{\"id\":83,\"name\":\"dept83\",\"collegeId\":12},{\"id\":84,\"name\":\"dept84\",\"collegeId\":12},{\"id\":85,\"name\":\"dept85\",\"collegeId\":12},{\"id\":86,\"name\":\"dept86\",\"collegeId\":12},{\"id\":87,\"name\":\"dept87\",\"collegeId\":12},{\"id\":88,\"name\":\"dept88\",\"collegeId\":12},{\"id\":89,\"name\":\"dept89\",\"collegeId\":12},{\"id\":90,\"name\":\"dept90\",\"collegeId\":12},{\"id\":91,\"name\":\"dept91\",\"collegeId\":12},{\"id\":92,\"name\":\"dept92\",\"collegeId\":12},{\"id\":93,\"name\":\"dept93\",\"collegeId\":13},{\"id\":94,\"name\":\"dept94\",\"collegeId\":13},{\"id\":95,\"name\":\"dept95\",\"collegeId\":13},{\"id\":96,\"name\":\"dept96\",\"collegeId\":13},{\"id\":97,\"name\":\"dept97\",\"collegeId\":13},{\"id\":98,\"name\":\"dept98\",\"collegeId\":13},{\"id\":99,\"name\":\"dept99\",\"collegeId\":13},{\"id\":100,\"name\":\"dept100\",\"collegeId\":13},{\"id\":101,\"name\":\"dept101\",\"collegeId\":13},{\"id\":102,\"name\":\"dept102\",\"collegeId\":13},{\"id\":103,\"name\":\"dept103\",\"collegeId\":13},{\"id\":104,\"name\":\"dept104\",\"collegeId\":13},{\"id\":105,\"name\":\"dept105\",\"collegeId\":14},{\"id\":106,\"name\":\"dept106\",\"collegeId\":14},{\"id\":107,\"name\":\"dept107\",\"collegeId\":14},{\"id\":108,\"name\":\"dept108\",\"collegeId\":14},{\"id\":109,\"name\":\"dept109\",\"collegeId\":14},{\"id\":110,\"name\":\"dept110\",\"collegeId\":14},{\"id\":111,\"name\":\"dept111\",\"collegeId\":14},{\"id\":112,\"name\":\"dept112\",\"collegeId\":14},{\"id\":113,\"name\":\"dept113\",\"collegeId\":14},{\"id\":114,\"name\":\"dept114\",\"collegeId\":14},{\"id\":115,\"name\":\"dept115\",\"collegeId\":14},{\"id\":116,\"name\":\"dept116\",\"collegeId\":14},{\"id\":117,\"name\":\"dept117\",\"collegeId\":15},{\"id\":118,\"name\":\"dept118\",\"collegeId\":15},{\"id\":119,\"name\":\"dept119\",\"collegeId\":15},{\"id\":120,\"name\":\"dept120\",\"collegeId\":15},{\"id\":121,\"name\":\"dept121\",\"collegeId\":15},{\"id\":122,\"name\":\"dept122\",\"collegeId\":15},{\"id\":123,\"name\":\"dept123\",\"collegeId\":15},{\"id\":124,\"name\":\"dept124\",\"collegeId\":15},{\"id\":125,\"name\":\"dept125\",\"collegeId\":15},{\"id\":126,\"name\":\"dept126\",\"collegeId\":15},{\"id\":127,\"name\":\"dept127\",\"collegeId\":15},{\"id\":128,\"name\":\"dept128\",\"collegeId\":15},{\"id\":129,\"name\":\"dept129\",\"collegeId\":15},{\"id\":130,\"name\":\"dept130\",\"collegeId\":15},{\"id\":131,\"name\":\"dept131\",\"collegeId\":16},{\"id\":132,\"name\":\"dept132\",\"collegeId\":16},{\"id\":133,\"name\":\"dept133\",\"collegeId\":16},{\"id\":134,\"name\":\"dept134\",\"collegeId\":16},{\"id\":135,\"name\":\"dept135\",\"collegeId\":16},{\"id\":136,\"name\":\"dept136\",\"collegeId\":16},{\"id\":137,\"name\":\"dept137\",\"collegeId\":16},{\"id\":138,\"name\":\"dept138\",\"collegeId\":16},{\"id\":139,\"name\":\"dept139\",\"collegeId\":16},{\"id\":140,\"name\":\"dept140\",\"collegeId\":16},{\"id\":141,\"name\":\"dept141\",\"collegeId\":16},{\"id\":142,\"name\":\"dept142\",\"collegeId\":16},{\"id\":143,\"name\":\"dept143\",\"collegeId\":16},{\"id\":144,\"name\":\"dept144\",\"collegeId\":16},{\"id\":145,\"name\":\"dept145\",\"collegeId\":17},{\"id\":146,\"name\":\"dept146\",\"collegeId\":17},{\"id\":147,\"name\":\"dept147\",\"collegeId\":17},{\"id\":148,\"name\":\"dept148\",\"collegeId\":17},{\"id\":149,\"name\":\"dept149\",\"collegeId\":17},{\"id\":150,\"name\":\"dept150\",\"collegeId\":17},{\"id\":151,\"name\":\"dept151\",\"collegeId\":17},{\"id\":152,\"name\":\"dept152\",\"collegeId\":17},{\"id\":153,\"name\":\"dept153\",\"collegeId\":17},{\"id\":154,\"name\":\"dept154\",\"collegeId\":17},{\"id\":155,\"name\":\"dept155\",\"collegeId\":17},{\"id\":156,\"name\":\"dept156\",\"collegeId\":17},{\"id\":157,\"name\":\"dept157\",\"collegeId\":17},{\"id\":158,\"name\":\"dept158\",\"collegeId\":17},{\"id\":159,\"name\":\"dept159\",\"collegeId\":17},{\"id\":160,\"name\":\"dept160\",\"collegeId\":17},{\"id\":161,\"name\":\"dept161\",\"collegeId\":17},{\"id\":162,\"name\":\"dept162\",\"collegeId\":17},{\"id\":163,\"name\":\"dept163\",\"collegeId\":18},{\"id\":164,\"name\":\"dept164\",\"collegeId\":18},{\"id\":165,\"name\":\"dept165\",\"collegeId\":18},{\"id\":166,\"name\":\"dept166\",\"collegeId\":18},{\"id\":167,\"name\":\"dept167\",\"collegeId\":18},{\"id\":168,\"name\":\"dept168\",\"collegeId\":18},{\"id\":169,\"name\":\"dept169\",\"collegeId\":18},{\"id\":170,\"name\":\"dept170\",\"collegeId\":18},{\"id\":171,\"name\":\"dept171\",\"collegeId\":18},{\"id\":172,\"name\":\"dept172\",\"collegeId\":18},{\"id\":173,\"name\":\"dept173\",\"collegeId\":18},{\"id\":174,\"name\":\"dept174\",\"collegeId\":18},{\"id\":175,\"name\":\"dept175\",\"collegeId\":18},{\"id\":176,\"name\":\"dept176\",\"collegeId\":18},{\"id\":177,\"name\":\"dept177\",\"collegeId\":18},{\"id\":178,\"name\":\"dept178\",\"collegeId\":18},{\"id\":179,\"name\":\"dept179\",\"collegeId\":18},{\"id\":180,\"name\":\"dept180\",\"collegeId\":18},{\"id\":181,\"name\":\"dept181\",\"collegeId\":19},{\"id\":182,\"name\":\"dept182\",\"collegeId\":19},{\"id\":183,\"name\":\"dept183\",\"collegeId\":19},{\"id\":184,\"name\":\"dept184\",\"collegeId\":19},{\"id\":185,\"name\":\"dept185\",\"collegeId\":19},{\"id\":186,\"name\":\"dept186\",\"collegeId\":19},{\"id\":187,\"name\":\"dept187\",\"collegeId\":19},{\"id\":188,\"name\":\"dept188\",\"collegeId\":19},{\"id\":189,\"name\":\"dept189\",\"collegeId\":19},{\"id\":190,\"name\":\"dept190\",\"collegeId\":19},{\"id\":191,\"name\":\"dept191\",\"collegeId\":19},{\"id\":192,\"name\":\"dept192\",\"collegeId\":19},{\"id\":193,\"name\":\"dept193\",\"collegeId\":19},{\"id\":194,\"name\":\"dept194\",\"collegeId\":19},{\"id\":195,\"name\":\"dept195\",\"collegeId\":19},{\"id\":196,\"name\":\"dept196\",\"collegeId\":19},{\"id\":197,\"name\":\"dept197\",\"collegeId\":19},{\"id\":198,\"name\":\"dept198\",\"collegeId\":19},{\"id\":199,\"name\":\"dept199\",\"collegeId\":19},{\"id\":200,\"name\":\"dept200\",\"collegeId\":19},{\"id\":201,\"name\":\"dept201\",\"collegeId\":20},{\"id\":202,\"name\":\"dept202\",\"collegeId\":20},{\"id\":203,\"name\":\"dept203\",\"collegeId\":20},{\"id\":204,\"name\":\"dept204\",\"collegeId\":20},{\"id\":205,\"name\":\"dept205\",\"collegeId\":20},{\"id\":206,\"name\":\"dept206\",\"collegeId\":20},{\"id\":207,\"name\":\"dept207\",\"collegeId\":20},{\"id\":208,\"name\":\"dept208\",\"collegeId\":20},{\"id\":209,\"name\":\"dept209\",\"collegeId\":20},{\"id\":210,\"name\":\"dept210\",\"collegeId\":20},{\"id\":211,\"name\":\"dept211\",\"collegeId\":20},{\"id\":212,\"name\":\"dept212\",\"collegeId\":20},{\"id\":213,\"name\":\"dept213\",\"collegeId\":20},{\"id\":214,\"name\":\"dept214\",\"collegeId\":20},{\"id\":215,\"name\":\"dept215\",\"collegeId\":20},{\"id\":216,\"name\":\"dept216\",\"collegeId\":20},{\"id\":217,\"name\":\"dept217\",\"collegeId\":20},{\"id\":218,\"name\":\"dept218\",\"collegeId\":20},{\"id\":219,\"name\":\"dept219\",\"collegeId\":20},{\"id\":220,\"name\":\"dept220\",\"collegeId\":20}]"
   ]
  },
  {
   "cell_type": "code",
   "execution_count": 3,
   "metadata": {},
   "outputs": [],
   "source": [
    "#Data of Courses\n",
    "courses = [{\"id\": 1,\"name\": \"crs 1\",\"departmentId\": 1, \"firstNode\": None},   {     \"id\": 2,\"name\": \"crs 2\",     \"departmentId\": 1   , \"firstNode\": None},   {     \"id\": 3,\"name\": \"crs 3\",     \"departmentId\": 1   , \"firstNode\": None},   {     \"id\": 4,\"name\": \"crs 4\",     \"departmentId\": 1   , \"firstNode\": None},   {     \"id\": 5,\"name\": \"crs 5\",     \"departmentId\": 1   , \"firstNode\": None},   {     \"id\": 6,\"name\": \"crs 6\",     \"departmentId\": 1   , \"firstNode\": None},   {     \"id\": 7,\"name\": \"crs 7\",     \"departmentId\": 1   , \"firstNode\": None},   {     \"id\": 8,\"name\": \"crs 8\",     \"departmentId\": 1   , \"firstNode\": None},   {     \"id\": 9,\"name\": \"crs 9\",     \"departmentId\": 1   , \"firstNode\": None},   {     \"id\": 10,\"name\": \"crs 10\",     \"departmentId\": 1   , \"firstNode\": None},   {     \"id\": 11,\"name\": \"crs 11\",     \"departmentId\": 2   , \"firstNode\": None},   {     \"id\": 12,\"name\": \"crs 12\",     \"departmentId\": 2   , \"firstNode\": None},   {     \"id\": 13,\"name\": \"crs 13\",     \"departmentId\": 2   , \"firstNode\": None},   {     \"id\": 14,\"name\": \"crs 14\",     \"departmentId\": 2   , \"firstNode\": None},   {     \"id\": 15,\"name\": \"crs 15\",     \"departmentId\": 2   , \"firstNode\": None},   {     \"id\": 16,\"name\": \"crs 16\",     \"departmentId\": 2   , \"firstNode\": None},   {     \"id\": 17,\"name\": \"crs 17\",     \"departmentId\": 2   , \"firstNode\": None},   {     \"id\": 18,\"name\": \"crs 18\",     \"departmentId\": 2   , \"firstNode\": None},   {     \"id\": 19,\"name\": \"crs 19\",     \"departmentId\": 3   , \"firstNode\": None},   {     \"id\": 20,\"name\": \"crs 20\",     \"departmentId\": 3   , \"firstNode\": None},   {     \"id\": 21,\"name\": \"crs 21\",     \"departmentId\": 3   , \"firstNode\": None},   {     \"id\": 22,\"name\": \"crs 22\",     \"departmentId\": 3   , \"firstNode\": None},   {     \"id\": 23,\"name\": \"crs 23\",     \"departmentId\": 3   , \"firstNode\": None},   {     \"id\": 24,\"name\": \"crs 24\",     \"departmentId\": 3   , \"firstNode\": None},   {     \"id\": 25,\"name\": \"crs 25\",     \"departmentId\": 3   , \"firstNode\": None},   {     \"id\": 26,\"name\": \"crs 26\",     \"departmentId\": 3   , \"firstNode\": None},   {     \"id\": 27,\"name\": \"crs 27\",     \"departmentId\": 3   , \"firstNode\": None},   {     \"id\": 28,\"name\": \"crs 28\",     \"departmentId\": 3   , \"firstNode\": None},   {     \"id\": 29,\"name\": \"crs 29\",     \"departmentId\": 3   , \"firstNode\": None},   {     \"id\": 30,\"name\": \"crs 30\",     \"departmentId\": 3   , \"firstNode\": None},   {     \"id\": 31,\"name\": \"crs 31\",     \"departmentId\": 4   , \"firstNode\": None},   {     \"id\": 32,\"name\": \"crs 32\",     \"departmentId\": 4   , \"firstNode\": None},   {     \"id\": 33,\"name\": \"crs 33\",     \"departmentId\": 4   , \"firstNode\": None},   {     \"id\": 34,\"name\": \"crs 34\",     \"departmentId\": 4   , \"firstNode\": None},   {     \"id\": 35,\"name\": \"crs 35\",     \"departmentId\": 4   , \"firstNode\": None},   {     \"id\": 36,\"name\": \"crs 36\",     \"departmentId\": 4   , \"firstNode\": None},   {     \"id\": 37,\"name\": \"crs 37\",     \"departmentId\": 4   , \"firstNode\": None},   {     \"id\": 38,\"name\": \"crs 38\",     \"departmentId\": 4   , \"firstNode\": None},   {     \"id\": 39,\"name\": \"crs 39\",     \"departmentId\": 4   , \"firstNode\": None},   {     \"id\": 40,\"name\": \"crs 40\",     \"departmentId\": 4   , \"firstNode\": None},   {     \"id\": 41,\"name\": \"crs 41\",     \"departmentId\": 4   , \"firstNode\": None},   {     \"id\": 42,\"name\": \"crs 42\",     \"departmentId\": 4   , \"firstNode\": None},   {     \"id\": 43,\"name\": \"crs 43\",     \"departmentId\": 4   , \"firstNode\": None},   {     \"id\": 44,\"name\": \"crs 44\",     \"departmentId\": 4   , \"firstNode\": None},   {     \"id\": 45,\"name\": \"crs 45\",     \"departmentId\": 5   , \"firstNode\": None},   {     \"id\": 46,\"name\": \"crs 46\",     \"departmentId\": 5   , \"firstNode\": None},   {     \"id\": 47,\"name\": \"crs 47\",     \"departmentId\": 5   , \"firstNode\": None},   {     \"id\": 48,\"name\": \"crs 48\",     \"departmentId\": 5   , \"firstNode\": None},   {     \"id\": 49,\"name\": \"crs 49\",     \"departmentId\": 5   , \"firstNode\": None},   {     \"id\": 50,\"name\": \"crs 50\",     \"departmentId\": 5   , \"firstNode\": None},   {     \"id\": 51,\"name\": \"crs 51\",     \"departmentId\": 5   , \"firstNode\": None},   {     \"id\": 52,\"name\": \"crs 52\",     \"departmentId\": 5   , \"firstNode\": None},   {     \"id\": 53,\"name\": \"crs 53\",     \"departmentId\": 5   , \"firstNode\": None},   {     \"id\": 54,\"name\": \"crs 54\",     \"departmentId\": 5   , \"firstNode\": None},   {     \"id\": 55,\"name\": \"crs 55\",     \"departmentId\": 5   , \"firstNode\": None},   {     \"id\": 56,\"name\": \"crs 56\",     \"departmentId\": 5   , \"firstNode\": None},   {     \"id\": 57,\"name\": \"crs 57\",     \"departmentId\": 6   , \"firstNode\": None},   {     \"id\": 58,\"name\": \"crs 58\",     \"departmentId\": 6   , \"firstNode\": None},   {     \"id\": 59,\"name\": \"crs 59\",     \"departmentId\": 6   , \"firstNode\": None},   {     \"id\": 60,\"name\": \"crs 60\",     \"departmentId\": 6   , \"firstNode\": None},   {     \"id\": 61,\"name\": \"crs 61\",     \"departmentId\": 6   , \"firstNode\": None},   {     \"id\": 62,\"name\": \"crs 62\",     \"departmentId\": 6   , \"firstNode\": None},   {     \"id\": 63,\"name\": \"crs 63\",     \"departmentId\": 6   , \"firstNode\": None},   {     \"id\": 64,\"name\": \"crs 64\",     \"departmentId\": 6   , \"firstNode\": None},   {     \"id\": 65,\"name\": \"crs 65\",     \"departmentId\": 7   , \"firstNode\": None},   {     \"id\": 66,\"name\": \"crs 66\",     \"departmentId\": 7   , \"firstNode\": None},   {     \"id\": 67,\"name\": \"crs 67\",     \"departmentId\": 7   , \"firstNode\": None},   {     \"id\": 68,\"name\": \"crs 68\",     \"departmentId\": 7   , \"firstNode\": None},   {     \"id\": 69,\"name\": \"crs 69\",     \"departmentId\": 7   , \"firstNode\": None},   {     \"id\": 70,\"name\": \"crs 70\",     \"departmentId\": 7   , \"firstNode\": None},   {     \"id\": 71,\"name\": \"crs 71\",     \"departmentId\": 7   , \"firstNode\": None},   {     \"id\": 72,\"name\": \"crs 72\",     \"departmentId\": 7   , \"firstNode\": None},   {     \"id\": 73,\"name\": \"crs 73\",     \"departmentId\": 7   , \"firstNode\": None},   {     \"id\": 74,\"name\": \"crs 74\",     \"departmentId\": 7   , \"firstNode\": None},   {     \"id\": 75,\"name\": \"crs 75\",     \"departmentId\": 7   , \"firstNode\": None},   {     \"id\": 76,\"name\": \"crs 76\",     \"departmentId\": 7   , \"firstNode\": None},   {     \"id\": 77,\"name\": \"crs 77\",     \"departmentId\": 7   , \"firstNode\": None},   {     \"id\": 78,\"name\": \"crs 78\",     \"departmentId\": 7   , \"firstNode\": None},   {     \"id\": 79,\"name\": \"crs 79\",     \"departmentId\": 7   , \"firstNode\": None},   {     \"id\": 80,\"name\": \"crs 80\",     \"departmentId\": 7   , \"firstNode\": None},   {     \"id\": 81,\"name\": \"crs 81\",     \"departmentId\": 7   , \"firstNode\": None},   {     \"id\": 82,\"name\": \"crs 82\",     \"departmentId\": 7   , \"firstNode\": None},   {     \"id\": 83,\"name\": \"crs 83\",     \"departmentId\": 7   , \"firstNode\": None},   {     \"id\": 84,\"name\": \"crs 84\",     \"departmentId\": 7   , \"firstNode\": None},   {     \"id\": 85,\"name\": \"crs 85\",     \"departmentId\": 8   , \"firstNode\": None},   {     \"id\": 86,\"name\": \"crs 86\",     \"departmentId\": 8   , \"firstNode\": None},   {     \"id\": 87,\"name\": \"crs 87\",     \"departmentId\": 8   , \"firstNode\": None},   {     \"id\": 88,\"name\": \"crs 88\",     \"departmentId\": 8   , \"firstNode\": None},   {     \"id\": 89,\"name\": \"crs 89\",     \"departmentId\": 8   , \"firstNode\": None},   {     \"id\": 90,\"name\": \"crs 90\",     \"departmentId\": 8   , \"firstNode\": None},   {     \"id\": 91,\"name\": \"crs 91\",     \"departmentId\": 8   , \"firstNode\": None},   {     \"id\": 92,\"name\": \"crs 92\",     \"departmentId\": 8   , \"firstNode\": None},   {     \"id\": 93,\"name\": \"crs 93\",     \"departmentId\": 8   , \"firstNode\": None},   {     \"id\": 94,\"name\": \"crs 94\",     \"departmentId\": 8   , \"firstNode\": None},   {     \"id\": 95,\"name\": \"crs 95\",     \"departmentId\": 8   , \"firstNode\": None},   {     \"id\": 96,\"name\": \"crs 96\",     \"departmentId\": 8   , \"firstNode\": None},   {     \"id\": 97,\"name\": \"crs 97\",     \"departmentId\": 8   , \"firstNode\": None},   {     \"id\": 98,\"name\": \"crs 98\",     \"departmentId\": 8   , \"firstNode\": None},   {     \"id\": 99,\"name\": \"crs 99\",     \"departmentId\": 8   , \"firstNode\": None},   {     \"id\": 100,\"name\": \"crs 100\",     \"departmentId\": 8   , \"firstNode\": None},   {     \"id\": 101,\"name\": \"crs 101\",     \"departmentId\": 8   , \"firstNode\": None},   {     \"id\": 102,\"name\": \"crs 102\",     \"departmentId\": 8   , \"firstNode\": None},   {     \"id\": 103,\"name\": \"crs 103\",     \"departmentId\": 9   , \"firstNode\": None},   {     \"id\": 104,\"name\": \"crs 104\",     \"departmentId\": 9   , \"firstNode\": None},   {     \"id\": 105,\"name\": \"crs 105\",     \"departmentId\": 9   , \"firstNode\": None},   {     \"id\": 106,\"name\": \"crs 106\",     \"departmentId\": 9   , \"firstNode\": None},   {     \"id\": 107,\"name\": \"crs 107\",     \"departmentId\": 9   , \"firstNode\": None},   {     \"id\": 108,\"name\": \"crs 108\",     \"departmentId\": 9   , \"firstNode\": None},   {     \"id\": 109,\"name\": \"crs 109\",     \"departmentId\": 9   , \"firstNode\": None},   {     \"id\": 110,\"name\": \"crs 110\",     \"departmentId\": 9   , \"firstNode\": None},   {     \"id\": 111,\"name\": \"crs 111\",     \"departmentId\": 9   , \"firstNode\": None},   {     \"id\": 112,\"name\": \"crs 112\",     \"departmentId\": 9   , \"firstNode\": None},   {     \"id\": 113,\"name\": \"crs 113\",     \"departmentId\": 10   , \"firstNode\": None},   {     \"id\": 114,\"name\": \"crs 114\",     \"departmentId\": 10   , \"firstNode\": None},   {     \"id\": 115,\"name\": \"crs 115\",     \"departmentId\": 10   , \"firstNode\": None},   {     \"id\": 116,\"name\": \"crs 116\",     \"departmentId\": 10   , \"firstNode\": None},   {     \"id\": 117,\"name\": \"crs 117\",     \"departmentId\": 10   , \"firstNode\": None},   {     \"id\": 118,\"name\": \"crs 118\",     \"departmentId\": 10   , \"firstNode\": None},   {     \"id\": 119,\"name\": \"crs 119\",     \"departmentId\": 10   , \"firstNode\": None},   {     \"id\": 120,\"name\": \"crs 120\",     \"departmentId\": 10   , \"firstNode\": None},   {     \"id\": 121,\"name\": \"crs 121\",     \"departmentId\": 10   , \"firstNode\": None},   {     \"id\": 122,\"name\": \"crs 122\",     \"departmentId\": 10   , \"firstNode\": None},   {     \"id\": 123,\"name\": \"crs 123\",     \"departmentId\": 11   , \"firstNode\": None},   {     \"id\": 124,\"name\": \"crs 124\",     \"departmentId\": 11   , \"firstNode\": None},   {     \"id\": 125,\"name\": \"crs 125\",     \"departmentId\": 11   , \"firstNode\": None},   {     \"id\": 126,\"name\": \"crs 126\",     \"departmentId\": 11   , \"firstNode\": None},   {     \"id\": 127,\"name\": \"crs 127\",     \"departmentId\": 11   , \"firstNode\": None},   {     \"id\": 128,\"name\": \"crs 128\",     \"departmentId\": 11   , \"firstNode\": None},   {     \"id\": 129,\"name\": \"crs 129\",     \"departmentId\": 11   , \"firstNode\": None},   {     \"id\": 130,\"name\": \"crs 130\",     \"departmentId\": 11   , \"firstNode\": None},   {     \"id\": 131,\"name\": \"crs 131\",     \"departmentId\": 11   , \"firstNode\": None},   {     \"id\": 132,\"name\": \"crs 132\",     \"departmentId\": 11   , \"firstNode\": None},   {     \"id\": 133,\"name\": \"crs 133\",     \"departmentId\": 11   , \"firstNode\": None},   {     \"id\": 134,\"name\": \"crs 134\",     \"departmentId\": 11   , \"firstNode\": None},   {     \"id\": 135,\"name\": \"crs 135\",     \"departmentId\": 12   , \"firstNode\": None},   {     \"id\": 136,\"name\": \"crs 136\",     \"departmentId\": 12   , \"firstNode\": None},   {     \"id\": 137,\"name\": \"crs 137\",     \"departmentId\": 12   , \"firstNode\": None},   {     \"id\": 138,\"name\": \"crs 138\",     \"departmentId\": 12   , \"firstNode\": None},   {     \"id\": 139,\"name\": \"crs 139\",     \"departmentId\": 12   , \"firstNode\": None},   {     \"id\": 140,\"name\": \"crs 140\",     \"departmentId\": 12   , \"firstNode\": None},   {     \"id\": 141,\"name\": \"crs 141\",     \"departmentId\": 12   , \"firstNode\": None},   {     \"id\": 142,\"name\": \"crs 142\",     \"departmentId\": 12   , \"firstNode\": None},   {     \"id\": 143,\"name\": \"crs 143\",     \"departmentId\": 12   , \"firstNode\": None},   {     \"id\": 144,\"name\": \"crs 144\",     \"departmentId\": 12   , \"firstNode\": None},   {     \"id\": 145,\"name\": \"crs 145\",     \"departmentId\": 12   , \"firstNode\": None},   {     \"id\": 146,\"name\": \"crs 146\",     \"departmentId\": 12   , \"firstNode\": None},   {     \"id\": 147,\"name\": \"crs 147\",     \"departmentId\": 12   , \"firstNode\": None},   {     \"id\": 148,\"name\": \"crs 148\",     \"departmentId\": 12   , \"firstNode\": None},   {     \"id\": 149,\"name\": \"crs 149\",     \"departmentId\": 13   , \"firstNode\": None},   {     \"id\": 150,\"name\": \"crs 150\",     \"departmentId\": 13   , \"firstNode\": None},   {     \"id\": 151,\"name\": \"crs 151\",     \"departmentId\": 13   , \"firstNode\": None},   {     \"id\": 152,\"name\": \"crs 152\",     \"departmentId\": 13   , \"firstNode\": None},   {     \"id\": 153,\"name\": \"crs 153\",     \"departmentId\": 13   , \"firstNode\": None},   {     \"id\": 154,\"name\": \"crs 154\",     \"departmentId\": 13   , \"firstNode\": None},   {     \"id\": 155,\"name\": \"crs 155\",     \"departmentId\": 13   , \"firstNode\": None},   {     \"id\": 156,\"name\": \"crs 156\",     \"departmentId\": 13   , \"firstNode\": None},   {     \"id\": 157,\"name\": \"crs 157\",     \"departmentId\": 13   , \"firstNode\": None},   {     \"id\": 158,\"name\": \"crs 158\",     \"departmentId\": 13   , \"firstNode\": None},   {     \"id\": 159,\"name\": \"crs 159\",     \"departmentId\": 13   , \"firstNode\": None},   {     \"id\": 160,\"name\": \"crs 160\",     \"departmentId\": 13   , \"firstNode\": None},   {     \"id\": 161,\"name\": \"crs 161\",     \"departmentId\": 13   , \"firstNode\": None},   {     \"id\": 162,\"name\": \"crs 162\",     \"departmentId\": 13   , \"firstNode\": None},   {     \"id\": 163,\"name\": \"crs 163\",     \"departmentId\": 13   , \"firstNode\": None},   {     \"id\": 164,\"name\": \"crs 164\",     \"departmentId\": 13   , \"firstNode\": None},   {     \"id\": 165,\"name\": \"crs 165\",     \"departmentId\": 13   , \"firstNode\": None},   {     \"id\": 166,\"name\": \"crs 166\",     \"departmentId\": 14   , \"firstNode\": None},   {     \"id\": 167,\"name\": \"crs 167\",     \"departmentId\": 14   , \"firstNode\": None},   {     \"id\": 168,\"name\": \"crs 168\",     \"departmentId\": 14   , \"firstNode\": None},   {     \"id\": 169,\"name\": \"crs 169\",     \"departmentId\": 14   , \"firstNode\": None},   {     \"id\": 170,\"name\": \"crs 170\",     \"departmentId\": 14   , \"firstNode\": None},   {     \"id\": 171,\"name\": \"crs 171\",     \"departmentId\": 14   , \"firstNode\": None},   {     \"id\": 172,\"name\": \"crs 172\",     \"departmentId\": 14   , \"firstNode\": None},   {     \"id\": 173,\"name\": \"crs 173\",     \"departmentId\": 14   , \"firstNode\": None},   {     \"id\": 174,\"name\": \"crs 174\",     \"departmentId\": 14   , \"firstNode\": None},   {     \"id\": 175,\"name\": \"crs 175\",     \"departmentId\": 14   , \"firstNode\": None},   {     \"id\": 176,\"name\": \"crs 176\",     \"departmentId\": 14   , \"firstNode\": None},   {     \"id\": 177,\"name\": \"crs 177\",     \"departmentId\": 14   , \"firstNode\": None},   {     \"id\": 178,\"name\": \"crs 178\",     \"departmentId\": 14   , \"firstNode\": None},   {     \"id\": 179,\"name\": \"crs 179\",     \"departmentId\": 14   , \"firstNode\": None},   {     \"id\": 180,\"name\": \"crs 180\",     \"departmentId\": 14   , \"firstNode\": None},   {     \"id\": 181,\"name\": \"crs 181\",     \"departmentId\": 14   , \"firstNode\": None},   {     \"id\": 182,\"name\": \"crs 182\",     \"departmentId\": 14   , \"firstNode\": None},   {     \"id\": 183,\"name\": \"crs 183\",     \"departmentId\": 15   , \"firstNode\": None},   {     \"id\": 184,\"name\": \"crs 184\",     \"departmentId\": 15   , \"firstNode\": None},   {     \"id\": 185,\"name\": \"crs 185\",     \"departmentId\": 15   , \"firstNode\": None},   {     \"id\": 186,\"name\": \"crs 186\",     \"departmentId\": 15   , \"firstNode\": None},   {     \"id\": 187,\"name\": \"crs 187\",     \"departmentId\": 15   , \"firstNode\": None},   {     \"id\": 188,\"name\": \"crs 188\",     \"departmentId\": 15   , \"firstNode\": None},   {     \"id\": 189,\"name\": \"crs 189\",     \"departmentId\": 15   , \"firstNode\": None},   {     \"id\": 190,\"name\": \"crs 190\",     \"departmentId\": 15   , \"firstNode\": None},   {     \"id\": 191,\"name\": \"crs 191\",     \"departmentId\": 15   , \"firstNode\": None},   {     \"id\": 192,\"name\": \"crs 192\",     \"departmentId\": 15   , \"firstNode\": None},   {     \"id\": 193,\"name\": \"crs 193\",     \"departmentId\": 15   , \"firstNode\": None},   {     \"id\": 194,\"name\": \"crs 194\",     \"departmentId\": 15   , \"firstNode\": None},   {     \"id\": 195,\"name\": \"crs 195\",     \"departmentId\": \"\"   , \"firstNode\": None},   {     \"id\": 196,\"name\": \"crs 196\",     \"departmentId\": 16   , \"firstNode\": None},   {     \"id\": 197,\"name\": \"crs 197\",     \"departmentId\": 16   , \"firstNode\": None},   {     \"id\": 198,\"name\": \"crs 198\",     \"departmentId\": 16   , \"firstNode\": None},   {     \"id\": 199,\"name\": \"crs 199\",     \"departmentId\": 16   , \"firstNode\": None},   {     \"id\": 200,\"name\": \"crs 200\",     \"departmentId\": 16   , \"firstNode\": None},   {     \"id\": 201,\"name\": \"crs 201\",     \"departmentId\": 16   , \"firstNode\": None},   {     \"id\": 202,\"name\": \"crs 202\",     \"departmentId\": 16   , \"firstNode\": None},   {     \"id\": 203,\"name\": \"crs 203\",     \"departmentId\": 16   , \"firstNode\": None},   {     \"id\": 204,\"name\": \"crs 204\",     \"departmentId\": 16   , \"firstNode\": None},   {     \"id\": 205,\"name\": \"crs 205\",     \"departmentId\": 16   , \"firstNode\": None},   {     \"id\": 206,\"name\": \"crs 206\",     \"departmentId\": 16   , \"firstNode\": None},   {     \"id\": 207,\"name\": \"crs 207\",     \"departmentId\": 16   , \"firstNode\": None},   {     \"id\": 208,\"name\": \"crs 208\",     \"departmentId\": 17   , \"firstNode\": None},   {     \"id\": 209,\"name\": \"crs 209\",     \"departmentId\": 17   , \"firstNode\": None},   {     \"id\": 210,\"name\": \"crs 210\",     \"departmentId\": 17   , \"firstNode\": None},   {     \"id\": 211,\"name\": \"crs 211\",     \"departmentId\": 17   , \"firstNode\": None},   {     \"id\": 212,\"name\": \"crs 212\",     \"departmentId\": 17   , \"firstNode\": None},   {     \"id\": 213,\"name\": \"crs 213\",     \"departmentId\": 17   , \"firstNode\": None},   {     \"id\": 214,\"name\": \"crs 214\",     \"departmentId\": 17   , \"firstNode\": None},   {     \"id\": 215,\"name\": \"crs 215\",     \"departmentId\": 17   , \"firstNode\": None},   {     \"id\": 216,\"name\": \"crs 216\",     \"departmentId\": 17   , \"firstNode\": None},   {     \"id\": 217,\"name\": \"crs 217\",     \"departmentId\": 17   , \"firstNode\": None},   {     \"id\": 218,\"name\": \"crs 218\",     \"departmentId\": 17   , \"firstNode\": None},   {     \"id\": 219,\"name\": \"crs 219\",     \"departmentId\": 17   , \"firstNode\": None},   {     \"id\": 220,\"name\": \"crs 220\",     \"departmentId\": 17   , \"firstNode\": None},   {     \"id\": 221,\"name\": \"crs 221\",     \"departmentId\": 17   , \"firstNode\": None},   {     \"id\": 222,\"name\": \"crs 222\",     \"departmentId\": 17   , \"firstNode\": None},   {     \"id\": 223,\"name\": \"crs 223\",     \"departmentId\": 17   , \"firstNode\": None},   {     \"id\": 224,\"name\": \"crs 224\",     \"departmentId\": 18   , \"firstNode\": None},   {     \"id\": 225,\"name\": \"crs 225\",     \"departmentId\": 18   , \"firstNode\": None},   {     \"id\": 226,\"name\": \"crs 226\",     \"departmentId\": 18   , \"firstNode\": None},   {     \"id\": 227,\"name\": \"crs 227\",     \"departmentId\": 18   , \"firstNode\": None},   {     \"id\": 228,\"name\": \"crs 228\",     \"departmentId\": 18   , \"firstNode\": None},   {     \"id\": 229,\"name\": \"crs 229\",     \"departmentId\": 18   , \"firstNode\": None},   {     \"id\": 230,\"name\": \"crs 230\",     \"departmentId\": 18   , \"firstNode\": None},   {     \"id\": 231,\"name\": \"crs 231\",     \"departmentId\": 18   , \"firstNode\": None},   {     \"id\": 232,\"name\": \"crs 232\",     \"departmentId\": 18   , \"firstNode\": None},   {     \"id\": 233,\"name\": \"crs 233\",     \"departmentId\": 18   , \"firstNode\": None},   {     \"id\": 234,\"name\": \"crs 234\",     \"departmentId\": 18   , \"firstNode\": None},   {     \"id\": 235,\"name\": \"crs 235\",     \"departmentId\": 18   , \"firstNode\": None},   {     \"id\": 236,\"name\": \"crs 236\",     \"departmentId\": 18   , \"firstNode\": None},   {     \"id\": 237,\"name\": \"crs 237\",     \"departmentId\": 18   , \"firstNode\": None},   {     \"id\": 238,\"name\": \"crs 238\",     \"departmentId\": 18   , \"firstNode\": None},   {     \"id\": 239,\"name\": \"crs 239\",     \"departmentId\": 18   , \"firstNode\": None},   {     \"id\": 240,\"name\": \"crs 240\",     \"departmentId\": 18   , \"firstNode\": None},   {     \"id\": 241,\"name\": \"crs 241\",     \"departmentId\": 20   , \"firstNode\": None},   {     \"id\": 242,\"name\": \"crs 242\",     \"departmentId\": 20   , \"firstNode\": None},   {     \"id\": 243,\"name\": \"crs 243\",     \"departmentId\": 20   , \"firstNode\": None},   {     \"id\": 244,\"name\": \"crs 244\",     \"departmentId\": 20   , \"firstNode\": None},   {     \"id\": 245,\"name\": \"crs 245\",     \"departmentId\": 20   , \"firstNode\": None},   {     \"id\": 246,\"name\": \"crs 246\",     \"departmentId\": 20   , \"firstNode\": None},   {     \"id\": 247,\"name\": \"crs 247\",     \"departmentId\": 20   , \"firstNode\": None},   {     \"id\": 248,\"name\": \"crs 248\",     \"departmentId\": 20   , \"firstNode\": None},   {     \"id\": 249,\"name\": \"crs 249\",     \"departmentId\": 20   , \"firstNode\": None},   {     \"id\": 250,\"name\": \"crs 250\",     \"departmentId\": 20   , \"firstNode\": None},   {     \"id\": 251,\"name\": \"crs 251\",     \"departmentId\": 20   , \"firstNode\": None},   {     \"id\": 252,\"name\": \"crs 252\",     \"departmentId\": 20   , \"firstNode\": None},   {     \"id\": 253,\"name\": \"crs 253\",     \"departmentId\": 20   , \"firstNode\": None},   {     \"id\": 254,\"name\": \"crs 254\",     \"departmentId\": 20   , \"firstNode\": None},   {     \"id\": 255,\"name\": \"crs 255\",     \"departmentId\": 20   , \"firstNode\": None},   {     \"id\": 256,\"name\": \"crs 256\",     \"departmentId\": 20   , \"firstNode\": None},   {     \"id\": 257,\"name\": \"crs 257\",     \"departmentId\": 20   , \"firstNode\": None},   {     \"id\": 258,\"name\": \"crs 258\",     \"departmentId\": 20   , \"firstNode\": None},   {     \"id\": 259,\"name\": \"crs 259\",     \"departmentId\": 20   , \"firstNode\": None},   {     \"id\": 260,\"name\": \"crs 260\",     \"departmentId\": 21   , \"firstNode\": None},   {     \"id\": 261,\"name\": \"crs 261\",     \"departmentId\": 21   , \"firstNode\": None},   {     \"id\": 262,\"name\": \"crs 262\",     \"departmentId\": 21   , \"firstNode\": None},   {     \"id\": 263,\"name\": \"crs 263\",     \"departmentId\": 21   , \"firstNode\": None},   {     \"id\": 264,\"name\": \"crs 264\",     \"departmentId\": 21   , \"firstNode\": None},   {     \"id\": 265,\"name\": \"crs 265\",     \"departmentId\": 21   , \"firstNode\": None},   {     \"id\": 266,\"name\": \"crs 266\",     \"departmentId\": 21   , \"firstNode\": None},   {     \"id\": 267,\"name\": \"crs 267\",     \"departmentId\": 21   , \"firstNode\": None},   {     \"id\": 268,\"name\": \"crs 268\",     \"departmentId\": 21   , \"firstNode\": None},   {     \"id\": 269,\"name\": \"crs 269\",     \"departmentId\": 21   , \"firstNode\": None},   {     \"id\": 270,\"name\": \"crs 270\",     \"departmentId\": 21   , \"firstNode\": None},   {     \"id\": 271,\"name\": \"crs 271\",     \"departmentId\": 21   , \"firstNode\": None},   {     \"id\": 272,\"name\": \"crs 272\",     \"departmentId\": 21   , \"firstNode\": None},   {     \"id\": 273,\"name\": \"crs 273\",     \"departmentId\": 21   , \"firstNode\": None},   {     \"id\": 274,\"name\": \"crs 274\",     \"departmentId\": 21   , \"firstNode\": None},   {     \"id\": 275,\"name\": \"crs 275\",     \"departmentId\": 21   , \"firstNode\": None},   {     \"id\": 276,\"name\": \"crs 276\",     \"departmentId\": 21   , \"firstNode\": None},   {     \"id\": 277,\"name\": \"crs 277\",     \"departmentId\": 21   , \"firstNode\": None},   {     \"id\": 278,\"name\": \"crs 278\",     \"departmentId\": 21   , \"firstNode\": None},   {     \"id\": 279,\"name\": \"crs 279\",     \"departmentId\": 21   , \"firstNode\": None},   {     \"id\": 280,\"name\": \"crs 280\",     \"departmentId\": 21   , \"firstNode\": None},   {     \"id\": 281,\"name\": \"crs 281\",     \"departmentId\": 21   , \"firstNode\": None},   {     \"id\": 282,\"name\": \"crs 282\",     \"departmentId\": 21   , \"firstNode\": None},   {     \"id\": 283,\"name\": \"crs 283\",     \"departmentId\": 21   , \"firstNode\": None},   {     \"id\": 284,\"name\": \"crs 284\",     \"departmentId\": 21   , \"firstNode\": None},   {     \"id\": 285,\"name\": \"crs 285\",     \"departmentId\": 21   , \"firstNode\": None},   {     \"id\": 286,\"name\": \"crs 286\",     \"departmentId\": 21   , \"firstNode\": None},   {     \"id\": 287,\"name\": \"crs 287\",     \"departmentId\": 21   , \"firstNode\": None},   {     \"id\": 288,\"name\": \"crs 288\",     \"departmentId\": 21   , \"firstNode\": None},   {     \"id\": 289,\"name\": \"crs 289\",     \"departmentId\": 21   , \"firstNode\": None},   {     \"id\": 290,\"name\": \"crs 290\",     \"departmentId\": 21   , \"firstNode\": None},   {     \"id\": 291,\"name\": \"crs 291\",     \"departmentId\": 21   , \"firstNode\": None},   {     \"id\": 292,\"name\": \"crs 292\",     \"departmentId\": 21   , \"firstNode\": None},   {     \"id\": 293,\"name\": \"crs 293\",     \"departmentId\": 21   , \"firstNode\": None},   {     \"id\": 294,\"name\": \"crs 294\",     \"departmentId\": 21   , \"firstNode\": None},   {     \"id\": 295,\"name\": \"crs 295\",     \"departmentId\": 21   , \"firstNode\": None},   {     \"id\": 296,\"name\": \"crs 296\",     \"departmentId\": 21   , \"firstNode\": None},   {     \"id\": 297,\"name\": \"crs 297\",     \"departmentId\": 21   , \"firstNode\": None},   {     \"id\": 298,\"name\": \"crs 298\",     \"departmentId\": 21   , \"firstNode\": None},   {     \"id\": 299,\"name\": \"crs 299\",     \"departmentId\": 21   , \"firstNode\": None},   {     \"id\": 300,\"name\": \"crs 300\",     \"departmentId\": 21   , \"firstNode\": None},   {     \"id\": 301,\"name\": \"crs 301\",     \"departmentId\": 21   , \"firstNode\": None},   {     \"id\": 302,\"name\": \"crs 302\",     \"departmentId\": 21   , \"firstNode\": None},   {     \"id\": 303,\"name\": \"crs 303\",     \"departmentId\": 21   , \"firstNode\": None},   {     \"id\": 304,\"name\": \"crs 304\",     \"departmentId\": 21   , \"firstNode\": None},   {     \"id\": 305,\"name\": \"crs 305\",     \"departmentId\": 21   , \"firstNode\": None},   {     \"id\": 306,\"name\": \"crs 306\",     \"departmentId\": 22   , \"firstNode\": None},   {     \"id\": 307,\"name\": \"crs 307\",     \"departmentId\": 22   , \"firstNode\": None},   {     \"id\": 308,\"name\": \"crs 308\",     \"departmentId\": 22   , \"firstNode\": None},   {     \"id\": 309,\"name\": \"crs 309\",     \"departmentId\": 22   , \"firstNode\": None},   {     \"id\": 310,\"name\": \"crs 310\",     \"departmentId\": 22   , \"firstNode\": None},   {     \"id\": 311,\"name\": \"crs 311\",     \"departmentId\": 22   , \"firstNode\": None},   {     \"id\": 312,\"name\": \"crs 312\",     \"departmentId\": 22   , \"firstNode\": None},   {     \"id\": 313,\"name\": \"crs 313\",     \"departmentId\": 22   , \"firstNode\": None},   {     \"id\": 314,\"name\": \"crs 314\",     \"departmentId\": 22   , \"firstNode\": None},   {     \"id\": 315,\"name\": \"crs 315\",     \"departmentId\": 22   , \"firstNode\": None},   {     \"id\": 316,\"name\": \"crs 316\",     \"departmentId\": 22   , \"firstNode\": None},   {     \"id\": 317,\"name\": \"crs 317\",     \"departmentId\": 22   , \"firstNode\": None},   {     \"id\": 318,\"name\": \"crs 318\",     \"departmentId\": 22   , \"firstNode\": None},   {     \"id\": 319,\"name\": \"crs 319\",     \"departmentId\": 22   , \"firstNode\": None},   {     \"id\": 320,\"name\": \"crs 320\",     \"departmentId\": 22   , \"firstNode\": None},   {     \"id\": 321,\"name\": \"crs 321\",     \"departmentId\": 22   , \"firstNode\": None},   {     \"id\": 322,\"name\": \"crs 322\",     \"departmentId\": 22   , \"firstNode\": None},   {     \"id\": 323,\"name\": \"crs 323\",     \"departmentId\": 22   , \"firstNode\": None},   {     \"id\": 324,\"name\": \"crs 324\",     \"departmentId\": 22   , \"firstNode\": None},   {     \"id\": 325,\"name\": \"crs 325\",     \"departmentId\": 22   , \"firstNode\": None},   {     \"id\": 326,\"name\": \"crs 326\",     \"departmentId\": 22   , \"firstNode\": None},   {     \"id\": 327,\"name\": \"crs 327\",     \"departmentId\": 22   , \"firstNode\": None},   {     \"id\": 328,\"name\": \"crs 328\",     \"departmentId\": 22   , \"firstNode\": None},   {     \"id\": 329,\"name\": \"crs 329\",     \"departmentId\": 22   , \"firstNode\": None},   {     \"id\": 330,\"name\": \"crs 330\",     \"departmentId\": 22   , \"firstNode\": None},   {     \"id\": 331,\"name\": \"crs 331\",     \"departmentId\": 22   , \"firstNode\": None},   {     \"id\": 332,\"name\": \"crs 332\",     \"departmentId\": 22   , \"firstNode\": None},   {     \"id\": 333,\"name\": \"crs 333\",     \"departmentId\": 22   , \"firstNode\": None},   {     \"id\": 334,\"name\": \"crs 334\",     \"departmentId\": 22   , \"firstNode\": None},   {     \"id\": 335,\"name\": \"crs 335\",     \"departmentId\": 22   , \"firstNode\": None},   {     \"id\": 336,\"name\": \"crs 336\",     \"departmentId\": 22   , \"firstNode\": None},   {     \"id\": 337,\"name\": \"crs 337\",     \"departmentId\": 22   , \"firstNode\": None},   {     \"id\": 338,\"name\": \"crs 338\",     \"departmentId\": 22   , \"firstNode\": None},   {     \"id\": 339,\"name\": \"crs 339\",     \"departmentId\": 22   , \"firstNode\": None},   {     \"id\": 340,\"name\": \"crs 340\",     \"departmentId\": 22   , \"firstNode\": None},   {     \"id\": 341,\"name\": \"crs 341\",     \"departmentId\": 22   , \"firstNode\": None},   {     \"id\": 342,\"name\": \"crs 342\",     \"departmentId\": 22   , \"firstNode\": None},   {     \"id\": 343,\"name\": \"crs 343\",     \"departmentId\": 22   , \"firstNode\": None},   {     \"id\": 344,\"name\": \"crs 344\",     \"departmentId\": 22   , \"firstNode\": None},   {     \"id\": 345,\"name\": \"crs 345\",     \"departmentId\": 22   , \"firstNode\": None},   {     \"id\": 346,\"name\": \"crs 346\",     \"departmentId\": 22   , \"firstNode\": None},   {     \"id\": 347,\"name\": \"crs 347\",     \"departmentId\": 22   , \"firstNode\": None},   {     \"id\": 348,\"name\": \"crs 348\",     \"departmentId\": 22   , \"firstNode\": None},   {     \"id\": 349,\"name\": \"crs 349\",     \"departmentId\": 22   , \"firstNode\": None},   {     \"id\": 350,\"name\": \"crs 350\",     \"departmentId\": 22   , \"firstNode\": None},   {     \"id\": 351,\"name\": \"crs 351\",     \"departmentId\": 22   , \"firstNode\": None},   {     \"id\": 352,\"name\": \"crs 352\",     \"departmentId\": 22   , \"firstNode\": None},   {     \"id\": 353,\"name\": \"crs 353\",     \"departmentId\": 22   , \"firstNode\": None},   {     \"id\": 354,\"name\": \"crs 354\",     \"departmentId\": 22   , \"firstNode\": None},   {     \"id\": 355,\"name\": \"crs 355\",     \"departmentId\": 22   , \"firstNode\": None},   {     \"id\": 356,\"name\": \"crs 356\",     \"departmentId\": 22   , \"firstNode\": None},   {     \"id\": 357,\"name\": \"crs 357\",     \"departmentId\": 22   , \"firstNode\": None},   {     \"id\": 358,\"name\": \"crs 358\",     \"departmentId\": 22   , \"firstNode\": None},   {     \"id\": 359,\"name\": \"crs 359\",     \"departmentId\": 22   , \"firstNode\": None},   {     \"id\": 360,\"name\": \"crs 360\",     \"departmentId\": 22   , \"firstNode\": None},   {     \"id\": 361,\"name\": \"crs 361\",     \"departmentId\": 22   , \"firstNode\": None},   {     \"id\": 362,\"name\": \"crs 362\",     \"departmentId\": 22   , \"firstNode\": None},   {     \"id\": 363,\"name\": \"crs 363\",     \"departmentId\": 22   , \"firstNode\": None},   {     \"id\": 364,\"name\": \"crs 364\",     \"departmentId\": 22   , \"firstNode\": None},   {     \"id\": 365,\"name\": \"crs 365\",     \"departmentId\": 22   , \"firstNode\": None},   {     \"id\": 366,\"name\": \"crs 366\",     \"departmentId\": 22   , \"firstNode\": None},   {     \"id\": 367,\"name\": \"crs 367\",     \"departmentId\": 22   , \"firstNode\": None},   {     \"id\": 368,\"name\": \"crs 368\",     \"departmentId\": 22   , \"firstNode\": None},   {     \"id\": 369,\"name\": \"crs 369\",     \"departmentId\": 22   , \"firstNode\": None},   {     \"id\": 370,\"name\": \"crs 370\",     \"departmentId\": 22   , \"firstNode\": None},   {     \"id\": 371,\"name\": \"crs 371\",     \"departmentId\": 22   , \"firstNode\": None},   {     \"id\": 372,\"name\": \"crs 372\",     \"departmentId\": 22   , \"firstNode\": None},   {     \"id\": 373,\"name\": \"crs 373\",     \"departmentId\": 22   , \"firstNode\": None},   {     \"id\": 374,\"name\": \"crs 374\",     \"departmentId\": 22   , \"firstNode\": None},   {     \"id\": 375,\"name\": \"crs 375\",     \"departmentId\": 22   , \"firstNode\": None},   {     \"id\": 376,\"name\": \"crs 376\",     \"departmentId\": 22   , \"firstNode\": None},   {     \"id\": 377,\"name\": \"crs 377\",     \"departmentId\": 22   , \"firstNode\": None},   {     \"id\": 378,\"name\": \"crs 378\",     \"departmentId\": 22   , \"firstNode\": None},   {     \"id\": 379,\"name\": \"crs 379\",     \"departmentId\": 22   , \"firstNode\": None},   {     \"id\": 380,\"name\": \"crs 380\",     \"departmentId\": 22   , \"firstNode\": None},   {     \"id\": 381,\"name\": \"crs 381\",     \"departmentId\": 22   , \"firstNode\": None},   {     \"id\": 382,\"name\": \"crs 382\",     \"departmentId\": 22   , \"firstNode\": None},   {     \"id\": 383,\"name\": \"crs 383\",     \"departmentId\": 22   , \"firstNode\": None},   {     \"id\": 384,\"name\": \"crs 384\",     \"departmentId\": 22   , \"firstNode\": None},   {     \"id\": 385,\"name\": \"crs 385\",     \"departmentId\": 22   , \"firstNode\": None},   {     \"id\": 386,\"name\": \"crs 386\",     \"departmentId\": 22   , \"firstNode\": None},   {     \"id\": 387,\"name\": \"crs 387\",     \"departmentId\": 22   , \"firstNode\": None},   {     \"id\": 388,\"name\": \"crs 388\",     \"departmentId\": 22   , \"firstNode\": None},   {     \"id\": 389,\"name\": \"crs 389\",     \"departmentId\": 22   , \"firstNode\": None},   {     \"id\": 390,\"name\": \"crs 390\",     \"departmentId\": 22   , \"firstNode\": None},   {     \"id\": 391,\"name\": \"crs 391\",     \"departmentId\": 22   , \"firstNode\": None},   {     \"id\": 392,\"name\": \"crs 392\",     \"departmentId\": 22   , \"firstNode\": None},   {     \"id\": 393,\"name\": \"crs 393\",     \"departmentId\": 22   , \"firstNode\": None},   {     \"id\": 394,\"name\": \"crs 394\",     \"departmentId\": 23   , \"firstNode\": None},   {     \"id\": 395,\"name\": \"crs 395\",     \"departmentId\": 23   , \"firstNode\": None},   {     \"id\": 396,\"name\": \"crs 396\",     \"departmentId\": 23   , \"firstNode\": None},   {     \"id\": 397,\"name\": \"crs 397\",     \"departmentId\": 23   , \"firstNode\": None},   {     \"id\": 398,\"name\": \"crs 398\",     \"departmentId\": 23   , \"firstNode\": None},   {     \"id\": 399,\"name\": \"crs 399\",     \"departmentId\": 23   , \"firstNode\": None},   {     \"id\": 400,\"name\": \"crs 400\",     \"departmentId\": 23   , \"firstNode\": None},   {     \"id\": 401,\"name\": \"crs 401\",     \"departmentId\": 23   , \"firstNode\": None},   {     \"id\": 402,\"name\": \"crs 402\",     \"departmentId\": 23   , \"firstNode\": None},   {     \"id\": 403,\"name\": \"crs 403\",     \"departmentId\": 23   , \"firstNode\": None},   {     \"id\": 404,\"name\": \"crs 404\",     \"departmentId\": 23   , \"firstNode\": None},   {     \"id\": 405,\"name\": \"crs 405\",     \"departmentId\": 23   , \"firstNode\": None},   {     \"id\": 406,\"name\": \"crs 406\",     \"departmentId\": 23   , \"firstNode\": None},   {     \"id\": 407,\"name\": \"crs 407\",     \"departmentId\": 23   , \"firstNode\": None},   {     \"id\": 408,\"name\": \"crs 408\",     \"departmentId\": 23   , \"firstNode\": None},   {     \"id\": 409,\"name\": \"crs 409\",     \"departmentId\": 23   , \"firstNode\": None},   {     \"id\": 410,\"name\": \"crs 410\",     \"departmentId\": 23   , \"firstNode\": None},   {     \"id\": 411,\"name\": \"crs 411\",     \"departmentId\": 23   , \"firstNode\": None},   {     \"id\": 412,\"name\": \"crs 412\",     \"departmentId\": 23   , \"firstNode\": None},   {     \"id\": 413,\"name\": \"crs 413\",     \"departmentId\": 23   , \"firstNode\": None},   {     \"id\": 414,\"name\": \"crs 414\",     \"departmentId\": 23   , \"firstNode\": None},   {     \"id\": 415,\"name\": \"crs 415\",     \"departmentId\": 23   , \"firstNode\": None},   {     \"id\": 416,\"name\": \"crs 416\",     \"departmentId\": 23   , \"firstNode\": None},   {     \"id\": 417,\"name\": \"crs 417\",     \"departmentId\": 23   , \"firstNode\": None},   {     \"id\": 418,\"name\": \"crs 418\",     \"departmentId\": 23   , \"firstNode\": None},   {     \"id\": 419,\"name\": \"crs 419\",     \"departmentId\": 23   , \"firstNode\": None},   {     \"id\": 420,\"name\": \"crs 420\",     \"departmentId\": 23   , \"firstNode\": None},   {     \"id\": 421,\"name\": \"crs 421\",     \"departmentId\": 23   , \"firstNode\": None},   {     \"id\": 422,\"name\": \"crs 422\",     \"departmentId\": 24   , \"firstNode\": None},   {     \"id\": 423,\"name\": \"crs 423\",     \"departmentId\": 24   , \"firstNode\": None},   {     \"id\": 424,\"name\": \"crs 424\",     \"departmentId\": 24   , \"firstNode\": None},   {     \"id\": 425,\"name\": \"crs 425\",     \"departmentId\": 24   , \"firstNode\": None},   {     \"id\": 426,\"name\": \"crs 426\",     \"departmentId\": 24   , \"firstNode\": None},   {     \"id\": 427,\"name\": \"crs 427\",     \"departmentId\": 24   , \"firstNode\": None},   {     \"id\": 428,\"name\": \"crs 428\",     \"departmentId\": 24   , \"firstNode\": None},   {     \"id\": 429,\"name\": \"crs 429\",     \"departmentId\": 24   , \"firstNode\": None},   {     \"id\": 430,\"name\": \"crs 430\",     \"departmentId\": 24   , \"firstNode\": None},   {     \"id\": 431,\"name\": \"crs 431\",     \"departmentId\": 24   , \"firstNode\": None},   {     \"id\": 432,\"name\": \"crs 432\",     \"departmentId\": 24   , \"firstNode\": None},   {     \"id\": 433,\"name\": \"crs 433\",     \"departmentId\": 24   , \"firstNode\": None},   {     \"id\": 434,\"name\": \"crs 434\",     \"departmentId\": 24   , \"firstNode\": None},   {     \"id\": 435,\"name\": \"crs 435\",     \"departmentId\": 24   , \"firstNode\": None},   {     \"id\": 436,\"name\": \"crs 436\",     \"departmentId\": 24   , \"firstNode\": None},   {     \"id\": 437,\"name\": \"crs 437\",     \"departmentId\": 24   , \"firstNode\": None},   {     \"id\": 438,\"name\": \"crs 438\",     \"departmentId\": 24   , \"firstNode\": None},   {     \"id\": 439,\"name\": \"crs 439\",     \"departmentId\": 24   , \"firstNode\": None},   {     \"id\": 440,\"name\": \"crs 440\",     \"departmentId\": 24   , \"firstNode\": None},   {     \"id\": 441,\"name\": \"crs 441\",     \"departmentId\": 24   , \"firstNode\": None},   {     \"id\": 442,\"name\": \"crs 442\",     \"departmentId\": 24   , \"firstNode\": None},   {     \"id\": 443,\"name\": \"crs 443\",     \"departmentId\": 24   , \"firstNode\": None},   {     \"id\": 444,\"name\": \"crs 444\",     \"departmentId\": 24   , \"firstNode\": None},   {     \"id\": 445,\"name\": \"crs 445\",     \"departmentId\": 24   , \"firstNode\": None},   {     \"id\": 446,\"name\": \"crs 446\",     \"departmentId\": 24   , \"firstNode\": None},   {     \"id\": 447,\"name\": \"crs 447\",     \"departmentId\": 24   , \"firstNode\": None},   {     \"id\": 448,\"name\": \"crs 448\",     \"departmentId\": 24   , \"firstNode\": None},   {     \"id\": 449,\"name\": \"crs 449\",     \"departmentId\": 24   , \"firstNode\": None},   {     \"id\": 450,\"name\": \"crs 450\",     \"departmentId\": 24   , \"firstNode\": None},   {     \"id\": 451,\"name\": \"crs 451\",     \"departmentId\": 24   , \"firstNode\": None},   {     \"id\": 452,\"name\": \"crs 452\",     \"departmentId\": 24   , \"firstNode\": None},   {     \"id\": 453,\"name\": \"crs 453\",     \"departmentId\": 24   , \"firstNode\": None},   {     \"id\": 454,\"name\": \"crs 454\",     \"departmentId\": 24   , \"firstNode\": None},   {     \"id\": 455,\"name\": \"crs 455\",     \"departmentId\": 24   , \"firstNode\": None},   {     \"id\": 456,\"name\": \"crs 456\",     \"departmentId\": 24   , \"firstNode\": None},   {     \"id\": 457,\"name\": \"crs 457\",     \"departmentId\": 25   , \"firstNode\": None},   {     \"id\": 458,\"name\": \"crs 458\",     \"departmentId\": 25   , \"firstNode\": None},   {     \"id\": 459,\"name\": \"crs 459\",     \"departmentId\": 25   , \"firstNode\": None},   {     \"id\": 460,\"name\": \"crs 460\",     \"departmentId\": 25   , \"firstNode\": None},   {     \"id\": 461,\"name\": \"crs 461\",     \"departmentId\": 25   , \"firstNode\": None},   {     \"id\": 462,\"name\": \"crs 462\",     \"departmentId\": 25   , \"firstNode\": None},   {     \"id\": 463,\"name\": \"crs 463\",     \"departmentId\": 25   , \"firstNode\": None},   {     \"id\": 464,\"name\": \"crs 464\",     \"departmentId\": 25   , \"firstNode\": None},   {     \"id\": 465,\"name\": \"crs 465\",     \"departmentId\": 25   , \"firstNode\": None},   {     \"id\": 466,\"name\": \"crs 466\",     \"departmentId\": 25   , \"firstNode\": None},   {     \"id\": 467,\"name\": \"crs 467\",     \"departmentId\": 25   , \"firstNode\": None},   {     \"id\": 468,\"name\": \"crs 468\",     \"departmentId\": 25   , \"firstNode\": None},   {     \"id\": 469,\"name\": \"crs 469\",     \"departmentId\": 25   , \"firstNode\": None},   {     \"id\": 470,\"name\": \"crs 470\",     \"departmentId\": 25   , \"firstNode\": None},   {     \"id\": 471,\"name\": \"crs 471\",     \"departmentId\": 25   , \"firstNode\": None},   {     \"id\": 472,\"name\": \"crs 472\",     \"departmentId\": 25   , \"firstNode\": None}, {     \"id\": 473,\"name\": \"crs 473\",     \"departmentId\": 26   , \"firstNode\": None},   {     \"id\": 474,\"name\": \"crs 474\",     \"departmentId\": 27   , \"firstNode\": None},   {     \"id\": 475,\"name\": \"crs 475\",     \"departmentId\": 28   , \"firstNode\": None},   {     \"id\": 476,\"name\": \"crs 476\",     \"departmentId\": 29   , \"firstNode\": None},   {     \"id\": 477,\"name\": \"crs 477\",     \"departmentId\": 30   , \"firstNode\": None},   {     \"id\": 478,\"name\": \"crs 478\",     \"departmentId\": 31   , \"firstNode\": None},   {     \"id\": 479,\"name\": \"crs 479\",     \"departmentId\": 32   , \"firstNode\": None},   {     \"id\": 480,\"name\": \"crs 480\",     \"departmentId\": 33   , \"firstNode\": None},   {     \"id\": 481,\"name\": \"crs 481\",     \"departmentId\": 34   , \"firstNode\": None},   {     \"id\": 482,\"name\": \"crs 482\",     \"departmentId\": 35   , \"firstNode\": None},   {     \"id\": 483,\"name\": \"crs 483\",     \"departmentId\": 36   , \"firstNode\": None},   {     \"id\": 484,\"name\": \"crs 484\",     \"departmentId\": 37   , \"firstNode\": None},   {     \"id\": 485,\"name\": \"crs 485\",     \"departmentId\": 38   , \"firstNode\": None},   {     \"id\": 486,\"name\": \"crs 486\",     \"departmentId\": 39   , \"firstNode\": None},   {     \"id\": 487,\"name\": \"crs 487\",     \"departmentId\": 40   , \"firstNode\": None},   {     \"id\": 488,\"name\": \"crs 488\",     \"departmentId\": 41   , \"firstNode\": None},   {     \"id\": 489,\"name\": \"crs 489\",     \"departmentId\": 42   , \"firstNode\": None},   {     \"id\": 490,\"name\": \"crs 490\",     \"departmentId\": 43   , \"firstNode\": None},   {     \"id\": 491,\"name\": \"crs 491\",     \"departmentId\": 44   , \"firstNode\": None},   {     \"id\": 492,\"name\": \"crs 492\",     \"departmentId\": 45   , \"firstNode\": None},   {     \"id\": 493,\"name\": \"crs 493\",     \"departmentId\": 46   , \"firstNode\": None},   {     \"id\": 494,\"name\": \"crs 494\",     \"departmentId\": 47   , \"firstNode\": None},   {     \"id\": 495,\"name\": \"crs 495\",     \"departmentId\": 48   , \"firstNode\": None},   {     \"id\": 496,\"name\": \"crs 496\",     \"departmentId\": 49   , \"firstNode\": None},   {     \"id\": 497,\"name\": \"crs 497\",     \"departmentId\": 50   , \"firstNode\": None},   {     \"id\": 498,\"name\": \"crs 498\",     \"departmentId\": 51   , \"firstNode\": None},   {     \"id\": 499,\"name\": \"crs 499\",     \"departmentId\": 52   , \"firstNode\": None},   {     \"id\": 500,\"name\": \"crs 500\",     \"departmentId\": 53   , \"firstNode\": None},   {     \"id\": 501,\"name\": \"crs 501\",     \"departmentId\": 54   , \"firstNode\": None},   {     \"id\": 502,\"name\": \"crs 502\",     \"departmentId\": 55   , \"firstNode\": None},   {     \"id\": 503,\"name\": \"crs 503\",     \"departmentId\": 56   , \"firstNode\": None},   {     \"id\": 504,\"name\": \"crs 504\",     \"departmentId\": 57   , \"firstNode\": None},   {     \"id\": 505,\"name\": \"crs 505\",     \"departmentId\": 58   , \"firstNode\": None},   {     \"id\": 506,\"name\": \"crs 506\",     \"departmentId\": 59   , \"firstNode\": None},   {     \"id\": 507,\"name\": \"crs 507\",     \"departmentId\": 60   , \"firstNode\": None},   {     \"id\": 508,\"name\": \"crs 508\",     \"departmentId\": 61   , \"firstNode\": None},   {     \"id\": 509,\"name\": \"crs 509\",     \"departmentId\": 62   , \"firstNode\": None},   {     \"id\": 510,\"name\": \"crs 510\",     \"departmentId\": 63   , \"firstNode\": None},   {     \"id\": 511,\"name\": \"crs 511\",     \"departmentId\": 64   , \"firstNode\": None},   {     \"id\": 512,\"name\": \"crs 512\",     \"departmentId\": 65   , \"firstNode\": None},   {     \"id\": 513,\"name\": \"crs 513\",     \"departmentId\": 66   , \"firstNode\": None},   {     \"id\": 514,\"name\": \"crs 514\",     \"departmentId\": 67   , \"firstNode\": None},   {     \"id\": 515,\"name\": \"crs 515\",     \"departmentId\": 68   , \"firstNode\": None},   {     \"id\": 516,\"name\": \"crs 516\",     \"departmentId\": 69   , \"firstNode\": None},   {     \"id\": 517,\"name\": \"crs 517\",     \"departmentId\": 70   , \"firstNode\": None},   {     \"id\": 518,\"name\": \"crs 518\",     \"departmentId\": 71   , \"firstNode\": None},   {     \"id\": 519,\"name\": \"crs 519\",     \"departmentId\": 72   , \"firstNode\": None},   {     \"id\": 520,\"name\": \"crs 520\",     \"departmentId\": 73   , \"firstNode\": None},   {     \"id\": 521,\"name\": \"crs 521\",     \"departmentId\": 74   , \"firstNode\": None},   {     \"id\": 522,\"name\": \"crs 522\",     \"departmentId\": 75   , \"firstNode\": None},   {     \"id\": 523,\"name\": \"crs 523\",     \"departmentId\": 76   , \"firstNode\": None},   {     \"id\": 524,\"name\": \"crs 524\",     \"departmentId\": 77   , \"firstNode\": None},   {     \"id\": 525,\"name\": \"crs 525\",     \"departmentId\": 78   , \"firstNode\": None},   {     \"id\": 526,\"name\": \"crs 526\",     \"departmentId\": 79   , \"firstNode\": None},   {     \"id\": 527,\"name\": \"crs 527\",     \"departmentId\": 80   , \"firstNode\": None},   {     \"id\": 528,\"name\": \"crs 528\",     \"departmentId\": 81   , \"firstNode\": None},   {     \"id\": 529,\"name\": \"crs 529\",     \"departmentId\": 82   , \"firstNode\": None},   {     \"id\": 530,\"name\": \"crs 530\",     \"departmentId\": 83   , \"firstNode\": None},   {     \"id\": 531,\"name\": \"crs 531\",     \"departmentId\": 84   , \"firstNode\": None},   {     \"id\": 532,\"name\": \"crs 532\",     \"departmentId\": 85   , \"firstNode\": None},   {     \"id\": 533,\"name\": \"crs 533\",     \"departmentId\": 86   , \"firstNode\": None},   {     \"id\": 534,\"name\": \"crs 534\",     \"departmentId\": 87   , \"firstNode\": None},   {     \"id\": 535,\"name\": \"crs 535\",     \"departmentId\": 88   , \"firstNode\": None},   {     \"id\": 536,\"name\": \"crs 536\",     \"departmentId\": 89   , \"firstNode\": None},   {     \"id\": 537,\"name\": \"crs 537\",     \"departmentId\": 90   , \"firstNode\": None},   {     \"id\": 538,\"name\": \"crs 538\",     \"departmentId\": 91   , \"firstNode\": None},   {     \"id\": 539,\"name\": \"crs 539\",     \"departmentId\": 92   , \"firstNode\": None},   {     \"id\": 540,\"name\": \"crs 540\",     \"departmentId\": 93   , \"firstNode\": None},   {     \"id\": 541,\"name\": \"crs 541\",     \"departmentId\": 94   , \"firstNode\": None},   {     \"id\": 542,\"name\": \"crs 542\",     \"departmentId\": 95   , \"firstNode\": None},   {     \"id\": 543,\"name\": \"crs 543\",     \"departmentId\": 96   , \"firstNode\": None},   {     \"id\": 544,\"name\": \"crs 544\",     \"departmentId\": 97   , \"firstNode\": None},   {     \"id\": 545,\"name\": \"crs 545\",     \"departmentId\": 98   , \"firstNode\": None},   {     \"id\": 546,\"name\": \"crs 546\",     \"departmentId\": 99   , \"firstNode\": None},   {     \"id\": 547,\"name\": \"crs 547\",     \"departmentId\": 100   , \"firstNode\": None},   {     \"id\": 548,\"name\": \"crs 548\",     \"departmentId\": 101   , \"firstNode\": None},   {     \"id\": 549,\"name\": \"crs 549\",     \"departmentId\": 102   , \"firstNode\": None},   {     \"id\": 550,\"name\": \"crs 550\",     \"departmentId\": 103   , \"firstNode\": None},   {     \"id\": 551,\"name\": \"crs 551\",     \"departmentId\": 104   , \"firstNode\": None},   {     \"id\": 552,\"name\": \"crs 552\",     \"departmentId\": 105   , \"firstNode\": None},   {     \"id\": 553,\"name\": \"crs 553\",     \"departmentId\": 106   , \"firstNode\": None},   {     \"id\": 554,\"name\": \"crs 554\",     \"departmentId\": 107   , \"firstNode\": None},   {     \"id\": 555,\"name\": \"crs 555\",     \"departmentId\": 108   , \"firstNode\": None},   {     \"id\": 556,\"name\": \"crs 556\",     \"departmentId\": 109   , \"firstNode\": None},   {     \"id\": 557,\"name\": \"crs 557\",     \"departmentId\": 110   , \"firstNode\": None},   {     \"id\": 558,\"name\": \"crs 558\",     \"departmentId\": 111   , \"firstNode\": None},   {     \"id\": 559,\"name\": \"crs 559\",     \"departmentId\": 112   , \"firstNode\": None},   {     \"id\": 560,\"name\": \"crs 560\",     \"departmentId\": 113   , \"firstNode\": None},   {     \"id\": 561,\"name\": \"crs 561\",     \"departmentId\": 114   , \"firstNode\": None},   {     \"id\": 562,\"name\": \"crs 562\",     \"departmentId\": 115   , \"firstNode\": None},   {     \"id\": 563,\"name\": \"crs 563\",     \"departmentId\": 116   , \"firstNode\": None},   {     \"id\": 564,\"name\": \"crs 564\",     \"departmentId\": 117   , \"firstNode\": None},   {     \"id\": 565,\"name\": \"crs 565\",     \"departmentId\": 118   , \"firstNode\": None},   {     \"id\": 566,\"name\": \"crs 566\",     \"departmentId\": 119   , \"firstNode\": None},   {     \"id\": 567,\"name\": \"crs 567\",     \"departmentId\": 120   , \"firstNode\": None},   {     \"id\": 568,\"name\": \"crs 568\",     \"departmentId\": 121   , \"firstNode\": None},   {     \"id\": 569,\"name\": \"crs 569\",     \"departmentId\": 122   , \"firstNode\": None},   {     \"id\": 570,\"name\": \"crs 570\",     \"departmentId\": 123   , \"firstNode\": None},   {     \"id\": 571,\"name\": \"crs 571\",     \"departmentId\": 124   , \"firstNode\": None},   {     \"id\": 572,\"name\": \"crs 572\",     \"departmentId\": 125   , \"firstNode\": None},   {     \"id\": 573,\"name\": \"crs 573\",     \"departmentId\": 126   , \"firstNode\": None},   {     \"id\": 574,\"name\": \"crs 574\",     \"departmentId\": 127   , \"firstNode\": None},   {     \"id\": 575,\"name\": \"crs 575\",     \"departmentId\": 128   , \"firstNode\": None},   {     \"id\": 576,\"name\": \"crs 576\",     \"departmentId\": 129   , \"firstNode\": None},   {     \"id\": 577,\"name\": \"crs 577\",     \"departmentId\": 130   , \"firstNode\": None},   {     \"id\": 578,\"name\": \"crs 578\",     \"departmentId\": 131   , \"firstNode\": None},   {     \"id\": 579,\"name\": \"crs 579\",     \"departmentId\": 132   , \"firstNode\": None},   {     \"id\": 580,\"name\": \"crs 580\",     \"departmentId\": 133   , \"firstNode\": None},   {     \"id\": 581,\"name\": \"crs 581\",     \"departmentId\": 134   , \"firstNode\": None},   {     \"id\": 582,\"name\": \"crs 582\",     \"departmentId\": 135   , \"firstNode\": None},   {     \"id\": 583,\"name\": \"crs 583\",     \"departmentId\": 136   , \"firstNode\": None},   {     \"id\": 584,\"name\": \"crs 584\",     \"departmentId\": 137   , \"firstNode\": None},   {     \"id\": 585,\"name\": \"crs 585\",     \"departmentId\": 138   , \"firstNode\": None},   {     \"id\": 586,\"name\": \"crs 586\",     \"departmentId\": 139   , \"firstNode\": None},   {     \"id\": 587,\"name\": \"crs 587\",     \"departmentId\": 140   , \"firstNode\": None},   {     \"id\": 588,\"name\": \"crs 588\",     \"departmentId\": 141   , \"firstNode\": None},   {     \"id\": 589,\"name\": \"crs 589\",     \"departmentId\": 142   , \"firstNode\": None},   {     \"id\": 590,\"name\": \"crs 590\",     \"departmentId\": 143   , \"firstNode\": None},   {     \"id\": 591,\"name\": \"crs 591\",     \"departmentId\": 144   , \"firstNode\": None},   {     \"id\": 592,\"name\": \"crs 592\",     \"departmentId\": 145   , \"firstNode\": None},   {     \"id\": 593,\"name\": \"crs 593\",     \"departmentId\": 146   , \"firstNode\": None},   {     \"id\": 594,\"name\": \"crs 594\",     \"departmentId\": 147   , \"firstNode\": None},   {     \"id\": 595,\"name\": \"crs 595\",     \"departmentId\": 148   , \"firstNode\": None},   {     \"id\": 596,\"name\": \"crs 596\",     \"departmentId\": 149   , \"firstNode\": None},   {     \"id\": 597,\"name\": \"crs 597\",     \"departmentId\": 150   , \"firstNode\": None},   {     \"id\": 598,\"name\": \"crs 598\",     \"departmentId\": 151   , \"firstNode\": None},   {     \"id\": 599,\"name\": \"crs 599\",     \"departmentId\": 152   , \"firstNode\": None},   {     \"id\": 600,\"name\": \"crs 600\",     \"departmentId\": 153   , \"firstNode\": None},   {     \"id\": 601,\"name\": \"crs 601\",     \"departmentId\": 154   , \"firstNode\": None},   {     \"id\": 602,\"name\": \"crs 602\",     \"departmentId\": 155   , \"firstNode\": None},   {     \"id\": 603,\"name\": \"crs 603\",     \"departmentId\": 156   , \"firstNode\": None},   {     \"id\": 604,\"name\": \"crs 604\",     \"departmentId\": 157   , \"firstNode\": None},   {     \"id\": 605,\"name\": \"crs 605\",     \"departmentId\": 158   , \"firstNode\": None},   {     \"id\": 606,\"name\": \"crs 606\",     \"departmentId\": 159   , \"firstNode\": None},   {     \"id\": 607,\"name\": \"crs 607\",     \"departmentId\": 160   , \"firstNode\": None},   {     \"id\": 608,\"name\": \"crs 608\",     \"departmentId\": 161   , \"firstNode\": None},   {     \"id\": 609,\"name\": \"crs 609\",     \"departmentId\": 162   , \"firstNode\": None},   {     \"id\": 610,\"name\": \"crs 610\",     \"departmentId\": 163   , \"firstNode\": None},   {     \"id\": 611,\"name\": \"crs 611\",     \"departmentId\": 164   , \"firstNode\": None},   {     \"id\": 612,\"name\": \"crs 612\",     \"departmentId\": 165   , \"firstNode\": None},   {     \"id\": 613,\"name\": \"crs 613\",     \"departmentId\": 166   , \"firstNode\": None},   {     \"id\": 614,\"name\": \"crs 614\",     \"departmentId\": 167   , \"firstNode\": None},   {     \"id\": 615,\"name\": \"crs 615\",     \"departmentId\": 168   , \"firstNode\": None},   {     \"id\": 616,\"name\": \"crs 616\",     \"departmentId\": 169   , \"firstNode\": None},   {     \"id\": 617,\"name\": \"crs 617\",     \"departmentId\": 170   , \"firstNode\": None},   {     \"id\": 618,\"name\": \"crs 618\",     \"departmentId\": 171   , \"firstNode\": None},   {     \"id\": 619,\"name\": \"crs 619\",     \"departmentId\": 172   , \"firstNode\": None},   {     \"id\": 620,\"name\": \"crs 620\",     \"departmentId\": 173   , \"firstNode\": None},   {     \"id\": 621,\"name\": \"crs 621\",     \"departmentId\": 174   , \"firstNode\": None},   {     \"id\": 622,\"name\": \"crs 622\",     \"departmentId\": 175   , \"firstNode\": None},   {     \"id\": 623,\"name\": \"crs 623\",     \"departmentId\": 176   , \"firstNode\": None},   {     \"id\": 624,\"name\": \"crs 624\",     \"departmentId\": 177   , \"firstNode\": None},   {     \"id\": 625,\"name\": \"crs 625\",     \"departmentId\": 178   , \"firstNode\": None},   {     \"id\": 626,\"name\": \"crs 626\",     \"departmentId\": 179   , \"firstNode\": None},   {     \"id\": 627,\"name\": \"crs 627\",     \"departmentId\": 180   , \"firstNode\": None},   {     \"id\": 628,\"name\": \"crs 628\",     \"departmentId\": 181   , \"firstNode\": None},   {     \"id\": 629,\"name\": \"crs 629\",     \"departmentId\": 182   , \"firstNode\": None},   {     \"id\": 630,\"name\": \"crs 630\",     \"departmentId\": 183   , \"firstNode\": None},   {     \"id\": 631,\"name\": \"crs 631\",     \"departmentId\": 184   , \"firstNode\": None},   {     \"id\": 632,\"name\": \"crs 632\",     \"departmentId\": 185   , \"firstNode\": None},   {     \"id\": 633,\"name\": \"crs 633\",     \"departmentId\": 186   , \"firstNode\": None},   {     \"id\": 634,\"name\": \"crs 634\",     \"departmentId\": 187   , \"firstNode\": None},   {     \"id\": 635,\"name\": \"crs 635\",     \"departmentId\": 188   , \"firstNode\": None},   {     \"id\": 636,\"name\": \"crs 636\",     \"departmentId\": 189   , \"firstNode\": None},   {     \"id\": 637,\"name\": \"crs 637\",     \"departmentId\": 190   , \"firstNode\": None},   {     \"id\": 638,\"name\": \"crs 638\",     \"departmentId\": 191   , \"firstNode\": None},   {     \"id\": 639,\"name\": \"crs 639\",     \"departmentId\": 192   , \"firstNode\": None},   {     \"id\": 640,\"name\": \"crs 640\",     \"departmentId\": 193   , \"firstNode\": None},   {     \"id\": 641,\"name\": \"crs 641\",     \"departmentId\": 194   , \"firstNode\": None},   {     \"id\": 642,\"name\": \"crs 642\",     \"departmentId\": 195   , \"firstNode\": None},   {     \"id\": 643,\"name\": \"crs 643\",     \"departmentId\": 196   , \"firstNode\": None},   {     \"id\": 644,\"name\": \"crs 644\",     \"departmentId\": 197   , \"firstNode\": None},   {     \"id\": 645,\"name\": \"crs 645\",     \"departmentId\": 198   , \"firstNode\": None},   {     \"id\": 646,\"name\": \"crs 646\",     \"departmentId\": 199   , \"firstNode\": None},   {     \"id\": 647,\"name\": \"crs 647\",     \"departmentId\": 200   , \"firstNode\": None},   {     \"id\": 648,\"name\": \"crs 648\",     \"departmentId\": 201   , \"firstNode\": None},   {     \"id\": 649,\"name\": \"crs 649\",     \"departmentId\": 202   , \"firstNode\": None},   {     \"id\": 650,\"name\": \"crs 650\",     \"departmentId\": 203   , \"firstNode\": None},   {     \"id\": 651,\"name\": \"crs 651\",     \"departmentId\": 204   , \"firstNode\": None},   {     \"id\": 652,\"name\": \"crs 652\",     \"departmentId\": 205   , \"firstNode\": None},   {     \"id\": 653,\"name\": \"crs 653\",     \"departmentId\": 206   , \"firstNode\": None},   {     \"id\": 654,\"name\": \"crs 654\",     \"departmentId\": 207   , \"firstNode\": None},   {     \"id\": 655,\"name\": \"crs 655\",     \"departmentId\": 208   , \"firstNode\": None},   {     \"id\": 656,\"name\": \"crs 656\",     \"departmentId\": 209   , \"firstNode\": None},   {     \"id\": 657,\"name\": \"crs 657\",     \"departmentId\": 210   , \"firstNode\": None},   {     \"id\": 658,\"name\": \"crs 658\",     \"departmentId\": 211   , \"firstNode\": None},   {     \"id\": 659,\"name\": \"crs 659\",     \"departmentId\": 212   , \"firstNode\": None},   {     \"id\": 660,\"name\": \"crs 660\",     \"departmentId\": 213   , \"firstNode\": None},   {     \"id\": 661,\"name\": \"crs 661\",     \"departmentId\": 214   , \"firstNode\": None},   {     \"id\": 662,\"name\": \"crs 662\",     \"departmentId\": 215   , \"firstNode\": None},   {     \"id\": 663,\"name\": \"crs 663\",     \"departmentId\": 216   , \"firstNode\": None},   {     \"id\": 664,\"name\": \"crs 664\",     \"departmentId\": 217   , \"firstNode\": None},   {     \"id\": 665,\"name\": \"crs 665\",     \"departmentId\": 218   , \"firstNode\": None},   {     \"id\": 666,\"name\": \"crs 666\",     \"departmentId\": 219   , \"firstNode\": None},   {     \"id\": 667,\"name\": \"crs 667\",     \"departmentId\": 220   , \"firstNode\": None} ]"
   ]
  },
  {
   "cell_type": "code",
   "execution_count": 4,
   "metadata": {},
   "outputs": [],
   "source": [
    "#Data of Students\n",
    "students = [{\"id\": 1,\"name\": \"Sophia Alvarez\",\"departmentId\": 1 , \"firstNode\": None},   {     \"id\": 2,     \"name\": \"Jerry Powell\",     \"departmentId\": 1   , \"firstNode\": None},   {     \"id\": 3,     \"name\": \"May Coleman\",     \"departmentId\": 1   , \"firstNode\": None},   {     \"id\": 4,     \"name\": \"Jessica Barlow\",     \"departmentId\": 1   , \"firstNode\": None},   {     \"id\": 5,     \"name\": \"Verna Casey\",     \"departmentId\": 1   , \"firstNode\": None},   {     \"id\": 6,     \"name\": \"Sosa Barr\",     \"departmentId\": 1   , \"firstNode\": None},   {     \"id\": 7,     \"name\": \"Dillard Holden\",     \"departmentId\": 1   , \"firstNode\": None},   {     \"id\": 8,     \"name\": \"Hester Avery\",     \"departmentId\": 1   , \"firstNode\": None},   {     \"id\": 9,     \"name\": \"Effie Doyle\",     \"departmentId\": 1   , \"firstNode\": None},   {     \"id\": 10,     \"name\": \"Bartlett Soto\",     \"departmentId\": 1   , \"firstNode\": None},   {     \"id\": 11,     \"name\": \"Coleen Bradley\",     \"departmentId\": 2   , \"firstNode\": None},   {     \"id\": 12,     \"name\": \"Julia Flores\",     \"departmentId\": 2   , \"firstNode\": None},   {     \"id\": 13,     \"name\": \"Josefina Schmidt\",     \"departmentId\": 2   , \"firstNode\": None},   {     \"id\": 14,     \"name\": \"Schultz Bailey\",     \"departmentId\": 2   , \"firstNode\": None},   {     \"id\": 15,     \"name\": \"Franklin Harrington\",     \"departmentId\": 2   , \"firstNode\": None},   {     \"id\": 16,     \"name\": \"Martin Vazquez\",     \"departmentId\": 3   , \"firstNode\": None},   {     \"id\": 17,     \"name\": \"Coffey Roberson\",     \"departmentId\": 3   , \"firstNode\": None},   {     \"id\": 18,     \"name\": \"Vinson Kirk\",     \"departmentId\": 3   , \"firstNode\": None},   {     \"id\": 19,     \"name\": \"Mcleod Mullen\",     \"departmentId\": 3   , \"firstNode\": None},   {     \"id\": 20,     \"name\": \"Miller Berry\",     \"departmentId\": 3   , \"firstNode\": None},   {     \"id\": 21,     \"name\": \"Noelle Alston\",     \"departmentId\": 4   , \"firstNode\": None},   {     \"id\": 22,     \"name\": \"Rose Chaney\",     \"departmentId\": 4   , \"firstNode\": None},   {     \"id\": 23,     \"name\": \"Alexandria Roach\",     \"departmentId\": 4   , \"firstNode\": None},   {     \"id\": 24,     \"name\": \"Naomi Ruiz\",     \"departmentId\": 4   , \"firstNode\": None},   {     \"id\": 25,     \"name\": \"Page Yates\",     \"departmentId\": 4   , \"firstNode\": None},   {     \"id\": 26,     \"name\": \"Angelita Stewart\",     \"departmentId\": 5   , \"firstNode\": None},   {     \"id\": 27,     \"name\": \"Mckenzie Stephenson\",     \"departmentId\": 5   , \"firstNode\": None},   {     \"id\": 28,     \"name\": \"Rebecca Griffith\",     \"departmentId\": 5   , \"firstNode\": None},   {     \"id\": 29,     \"name\": \"Christa Nicholson\",     \"departmentId\": 5   , \"firstNode\": None},   {     \"id\": 30,     \"name\": \"Romero Shannon\",     \"departmentId\": 5   , \"firstNode\": None},   {     \"id\": 31,     \"name\": \"Hollie Leon\",     \"departmentId\": 6   , \"firstNode\": None},   {     \"id\": 32,     \"name\": \"Leach Murphy\",     \"departmentId\": 6   , \"firstNode\": None},   {     \"id\": 33,     \"name\": \"Santiago Keller\",     \"departmentId\": 6   , \"firstNode\": None},   {     \"id\": 34,     \"name\": \"Logan Hayden\",     \"departmentId\": 6   , \"firstNode\": None},   {     \"id\": 35,     \"name\": \"Brennan Ingram\",     \"departmentId\": 6   , \"firstNode\": None},   {     \"id\": 36,     \"name\": \"Marcella Roth\",     \"departmentId\": 7   , \"firstNode\": None},   {     \"id\": 37,     \"name\": \"Newman Fuentes\",     \"departmentId\":   7, \"firstNode\": None},   {     \"id\": 38,     \"name\": \"Tina Quinn\",     \"departmentId\": 7   , \"firstNode\": None},   {     \"id\": 39,     \"name\": \"Goodman Norton\",     \"departmentId\": 7   , \"firstNode\": None},   {     \"id\": 40,     \"name\": \"Cervantes Newman\",     \"departmentId\": 7   , \"firstNode\": None},   {     \"id\": 41,     \"name\": \"Blanche Marks\",     \"departmentId\": 8   , \"firstNode\": None},   {     \"id\": 42,     \"name\": \"Christy Todd\",     \"departmentId\": 8   , \"firstNode\": None},   {     \"id\": 43,     \"name\": \"Sheena Conley\",     \"departmentId\": 8   , \"firstNode\": None},   {     \"id\": 44,     \"name\": \"Goldie Willis\",     \"departmentId\": 8   , \"firstNode\": None},   {     \"id\": 45,     \"name\": \"Yolanda Allen\",     \"departmentId\": 8   , \"firstNode\": None},   {     \"id\": 46,     \"name\": \"Lola Snider\",     \"departmentId\": 9   , \"firstNode\": None},   {     \"id\": 47,     \"name\": \"Clark Hendrix\",     \"departmentId\": 9   , \"firstNode\": None},   {     \"id\": 48,     \"name\": \"Francis Kennedy\",     \"departmentId\": 9   , \"firstNode\": None},   {     \"id\": 49,     \"name\": \"Lee Riggs\",     \"departmentId\": 9   , \"firstNode\": None},   {     \"id\": 50,     \"name\": \"Cooley Bowman\",     \"departmentId\": 9   , \"firstNode\": None} ]"
   ]
  },
  {
   "cell_type": "code",
   "execution_count": 6,
   "metadata": {},
   "outputs": [],
   "source": [
    "# A Helper class was created to be as an interface to make use of the functionalities as\n",
    "# * add new register for a student in a course\n",
    "# * getting total number of registrations\n",
    "# * get list & count of students registered in a course\n",
    "# * get list & count of courses registered by a student\n",
    "\n",
    "#importing that Helper class\n",
    "from helper import Helper\n",
    "\n",
    "# creating an instance of the Helper Class\n",
    "helper = Helper(colleges, departments, students, courses)"
   ]
  },
  {
   "cell_type": "code",
   "execution_count": 7,
   "metadata": {},
   "outputs": [
    {
     "name": "stdout",
     "output_type": "stream",
     "text": [
      "{'id': 1, 'name': 'Agriculture'}\n",
      "{'id': 2, 'name': 'Medicine'}\n",
      "{'id': 3, 'name': 'Arts'}\n",
      "{'id': 4, 'name': 'Commerce'}\n",
      "{'id': 5, 'name': 'Engineering'}\n",
      "{'id': 6, 'name': 'Law'}\n",
      "{'id': 7, 'name': 'Science'}\n",
      "{'id': 8, 'name': 'Pharmacy'}\n",
      "{'id': 9, 'name': 'Nursing'}\n",
      "{'id': 10, 'name': 'Physical Education'}\n",
      "{'id': 11, 'name': 'Fine Arts'}\n",
      "{'id': 12, 'name': 'Education'}\n",
      "{'id': 13, 'name': 'Dentistry '}\n",
      "{'id': 14, 'name': 'Veterinary Medicine'}\n",
      "{'id': 15, 'name': 'Tourism and Hotels'}\n",
      "{'id': 16, 'name': 'Education for Early Childhood'}\n",
      "{'id': 17, 'name': 'Economic Studies & Political Science'}\n",
      "{'id': 18, 'name': 'Computing and Data Science'}\n",
      "{'id': 19, 'name': 'IGSR'}\n",
      "{'id': 20, 'name': 'Institute of Medical Research'}\n"
     ]
    }
   ],
   "source": [
    "# print all elements of colleges (remove comment)\n",
    "helper.getAllItemsOfData(colleges)"
   ]
  },
  {
   "cell_type": "code",
   "execution_count": 8,
   "metadata": {},
   "outputs": [
    {
     "name": "stdout",
     "output_type": "stream",
     "text": [
      "{'id': 1, 'name': 'dept1', 'collegeId': 1}\n",
      "{'id': 2, 'name': 'dept2', 'collegeId': 1}\n",
      "{'id': 3, 'name': 'dept3', 'collegeId': 1}\n",
      "{'id': 4, 'name': 'dept4', 'collegeId': 1}\n",
      "{'id': 5, 'name': 'dept5', 'collegeId': 2}\n",
      "{'id': 6, 'name': 'dept6', 'collegeId': 2}\n",
      "{'id': 7, 'name': 'dept7', 'collegeId': 2}\n",
      "{'id': 8, 'name': 'dept8', 'collegeId': 2}\n",
      "{'id': 9, 'name': 'dept9', 'collegeId': 3}\n",
      "{'id': 10, 'name': 'dept10', 'collegeId': 3}\n",
      "{'id': 11, 'name': 'dept11', 'collegeId': 3}\n",
      "{'id': 12, 'name': 'dept12', 'collegeId': 3}\n",
      "{'id': 13, 'name': 'dept13', 'collegeId': 3}\n",
      "{'id': 14, 'name': 'dept14', 'collegeId': 3}\n",
      "{'id': 15, 'name': 'dept15', 'collegeId': 4}\n",
      "{'id': 16, 'name': 'dept16', 'collegeId': 4}\n",
      "{'id': 17, 'name': 'dept17', 'collegeId': 4}\n",
      "{'id': 18, 'name': 'dept18', 'collegeId': 4}\n",
      "{'id': 19, 'name': 'dept19', 'collegeId': 4}\n",
      "{'id': 20, 'name': 'dept20', 'collegeId': 4}\n",
      "{'id': 21, 'name': 'dept21', 'collegeId': 5}\n",
      "{'id': 22, 'name': 'dept22', 'collegeId': 5}\n",
      "{'id': 23, 'name': 'dept23', 'collegeId': 5}\n",
      "{'id': 24, 'name': 'dept24', 'collegeId': 5}\n",
      "{'id': 25, 'name': 'dept25', 'collegeId': 5}\n",
      "{'id': 26, 'name': 'dept26', 'collegeId': 5}\n",
      "{'id': 27, 'name': 'dept27', 'collegeId': 6}\n",
      "{'id': 28, 'name': 'dept28', 'collegeId': 6}\n",
      "{'id': 29, 'name': 'dept29', 'collegeId': 6}\n",
      "{'id': 30, 'name': 'dept30', 'collegeId': 6}\n",
      "{'id': 31, 'name': 'dept31', 'collegeId': 6}\n",
      "{'id': 32, 'name': 'dept32', 'collegeId': 6}\n",
      "{'id': 33, 'name': 'dept33', 'collegeId': 6}\n",
      "{'id': 34, 'name': 'dept34', 'collegeId': 6}\n",
      "{'id': 35, 'name': 'dept35', 'collegeId': 7}\n",
      "{'id': 36, 'name': 'dept36', 'collegeId': 7}\n",
      "{'id': 37, 'name': 'dept37', 'collegeId': 7}\n",
      "{'id': 38, 'name': 'dept38', 'collegeId': 7}\n",
      "{'id': 39, 'name': 'dept39', 'collegeId': 7}\n",
      "{'id': 40, 'name': 'dept40', 'collegeId': 7}\n",
      "{'id': 41, 'name': 'dept41', 'collegeId': 7}\n",
      "{'id': 42, 'name': 'dept42', 'collegeId': 7}\n",
      "{'id': 43, 'name': 'dept43', 'collegeId': 8}\n",
      "{'id': 44, 'name': 'dept44', 'collegeId': 8}\n",
      "{'id': 45, 'name': 'dept45', 'collegeId': 8}\n",
      "{'id': 46, 'name': 'dept46', 'collegeId': 8}\n",
      "{'id': 47, 'name': 'dept47', 'collegeId': 8}\n",
      "{'id': 48, 'name': 'dept48', 'collegeId': 8}\n",
      "{'id': 49, 'name': 'dept49', 'collegeId': 8}\n",
      "{'id': 50, 'name': 'dept50', 'collegeId': 8}\n",
      "{'id': 51, 'name': 'dept51', 'collegeId': 9}\n",
      "{'id': 52, 'name': 'dept52', 'collegeId': 9}\n",
      "{'id': 53, 'name': 'dept53', 'collegeId': 9}\n",
      "{'id': 54, 'name': 'dept54', 'collegeId': 9}\n",
      "{'id': 55, 'name': 'dept55', 'collegeId': 9}\n",
      "{'id': 56, 'name': 'dept56', 'collegeId': 9}\n",
      "{'id': 57, 'name': 'dept57', 'collegeId': 9}\n",
      "{'id': 58, 'name': 'dept58', 'collegeId': 9}\n",
      "{'id': 59, 'name': 'dept59', 'collegeId': 9}\n",
      "{'id': 60, 'name': 'dept60', 'collegeId': 9}\n",
      "{'id': 61, 'name': 'dept61', 'collegeId': 10}\n",
      "{'id': 62, 'name': 'dept62', 'collegeId': 10}\n",
      "{'id': 63, 'name': 'dept63', 'collegeId': 10}\n",
      "{'id': 64, 'name': 'dept64', 'collegeId': 10}\n",
      "{'id': 65, 'name': 'dept65', 'collegeId': 10}\n",
      "{'id': 66, 'name': 'dept66', 'collegeId': 10}\n",
      "{'id': 67, 'name': 'dept67', 'collegeId': 10}\n",
      "{'id': 68, 'name': 'dept68', 'collegeId': 10}\n",
      "{'id': 69, 'name': 'dept69', 'collegeId': 10}\n",
      "{'id': 70, 'name': 'dept70', 'collegeId': 10}\n",
      "{'id': 71, 'name': 'dept71', 'collegeId': 11}\n",
      "{'id': 72, 'name': 'dept72', 'collegeId': 11}\n",
      "{'id': 73, 'name': 'dept73', 'collegeId': 11}\n",
      "{'id': 74, 'name': 'dept74', 'collegeId': 11}\n",
      "{'id': 75, 'name': 'dept75', 'collegeId': 11}\n",
      "{'id': 76, 'name': 'dept76', 'collegeId': 11}\n",
      "{'id': 77, 'name': 'dept77', 'collegeId': 11}\n",
      "{'id': 78, 'name': 'dept78', 'collegeId': 11}\n",
      "{'id': 79, 'name': 'dept79', 'collegeId': 11}\n",
      "{'id': 80, 'name': 'dept80', 'collegeId': 11}\n",
      "{'id': 81, 'name': 'dept81', 'collegeId': 12}\n",
      "{'id': 82, 'name': 'dept82', 'collegeId': 12}\n",
      "{'id': 83, 'name': 'dept83', 'collegeId': 12}\n",
      "{'id': 84, 'name': 'dept84', 'collegeId': 12}\n",
      "{'id': 85, 'name': 'dept85', 'collegeId': 12}\n",
      "{'id': 86, 'name': 'dept86', 'collegeId': 12}\n",
      "{'id': 87, 'name': 'dept87', 'collegeId': 12}\n",
      "{'id': 88, 'name': 'dept88', 'collegeId': 12}\n",
      "{'id': 89, 'name': 'dept89', 'collegeId': 12}\n",
      "{'id': 90, 'name': 'dept90', 'collegeId': 12}\n",
      "{'id': 91, 'name': 'dept91', 'collegeId': 12}\n",
      "{'id': 92, 'name': 'dept92', 'collegeId': 12}\n",
      "{'id': 93, 'name': 'dept93', 'collegeId': 13}\n",
      "{'id': 94, 'name': 'dept94', 'collegeId': 13}\n",
      "{'id': 95, 'name': 'dept95', 'collegeId': 13}\n",
      "{'id': 96, 'name': 'dept96', 'collegeId': 13}\n",
      "{'id': 97, 'name': 'dept97', 'collegeId': 13}\n",
      "{'id': 98, 'name': 'dept98', 'collegeId': 13}\n",
      "{'id': 99, 'name': 'dept99', 'collegeId': 13}\n",
      "{'id': 100, 'name': 'dept100', 'collegeId': 13}\n",
      "{'id': 101, 'name': 'dept101', 'collegeId': 13}\n",
      "{'id': 102, 'name': 'dept102', 'collegeId': 13}\n",
      "{'id': 103, 'name': 'dept103', 'collegeId': 13}\n",
      "{'id': 104, 'name': 'dept104', 'collegeId': 13}\n",
      "{'id': 105, 'name': 'dept105', 'collegeId': 14}\n",
      "{'id': 106, 'name': 'dept106', 'collegeId': 14}\n",
      "{'id': 107, 'name': 'dept107', 'collegeId': 14}\n",
      "{'id': 108, 'name': 'dept108', 'collegeId': 14}\n",
      "{'id': 109, 'name': 'dept109', 'collegeId': 14}\n",
      "{'id': 110, 'name': 'dept110', 'collegeId': 14}\n",
      "{'id': 111, 'name': 'dept111', 'collegeId': 14}\n",
      "{'id': 112, 'name': 'dept112', 'collegeId': 14}\n",
      "{'id': 113, 'name': 'dept113', 'collegeId': 14}\n",
      "{'id': 114, 'name': 'dept114', 'collegeId': 14}\n",
      "{'id': 115, 'name': 'dept115', 'collegeId': 14}\n",
      "{'id': 116, 'name': 'dept116', 'collegeId': 14}\n",
      "{'id': 117, 'name': 'dept117', 'collegeId': 15}\n",
      "{'id': 118, 'name': 'dept118', 'collegeId': 15}\n",
      "{'id': 119, 'name': 'dept119', 'collegeId': 15}\n",
      "{'id': 120, 'name': 'dept120', 'collegeId': 15}\n",
      "{'id': 121, 'name': 'dept121', 'collegeId': 15}\n",
      "{'id': 122, 'name': 'dept122', 'collegeId': 15}\n",
      "{'id': 123, 'name': 'dept123', 'collegeId': 15}\n",
      "{'id': 124, 'name': 'dept124', 'collegeId': 15}\n",
      "{'id': 125, 'name': 'dept125', 'collegeId': 15}\n",
      "{'id': 126, 'name': 'dept126', 'collegeId': 15}\n",
      "{'id': 127, 'name': 'dept127', 'collegeId': 15}\n",
      "{'id': 128, 'name': 'dept128', 'collegeId': 15}\n",
      "{'id': 129, 'name': 'dept129', 'collegeId': 15}\n",
      "{'id': 130, 'name': 'dept130', 'collegeId': 15}\n",
      "{'id': 131, 'name': 'dept131', 'collegeId': 16}\n",
      "{'id': 132, 'name': 'dept132', 'collegeId': 16}\n",
      "{'id': 133, 'name': 'dept133', 'collegeId': 16}\n",
      "{'id': 134, 'name': 'dept134', 'collegeId': 16}\n",
      "{'id': 135, 'name': 'dept135', 'collegeId': 16}\n",
      "{'id': 136, 'name': 'dept136', 'collegeId': 16}\n",
      "{'id': 137, 'name': 'dept137', 'collegeId': 16}\n",
      "{'id': 138, 'name': 'dept138', 'collegeId': 16}\n",
      "{'id': 139, 'name': 'dept139', 'collegeId': 16}\n",
      "{'id': 140, 'name': 'dept140', 'collegeId': 16}\n",
      "{'id': 141, 'name': 'dept141', 'collegeId': 16}\n",
      "{'id': 142, 'name': 'dept142', 'collegeId': 16}\n",
      "{'id': 143, 'name': 'dept143', 'collegeId': 16}\n",
      "{'id': 144, 'name': 'dept144', 'collegeId': 16}\n",
      "{'id': 145, 'name': 'dept145', 'collegeId': 17}\n",
      "{'id': 146, 'name': 'dept146', 'collegeId': 17}\n",
      "{'id': 147, 'name': 'dept147', 'collegeId': 17}\n",
      "{'id': 148, 'name': 'dept148', 'collegeId': 17}\n",
      "{'id': 149, 'name': 'dept149', 'collegeId': 17}\n",
      "{'id': 150, 'name': 'dept150', 'collegeId': 17}\n",
      "{'id': 151, 'name': 'dept151', 'collegeId': 17}\n",
      "{'id': 152, 'name': 'dept152', 'collegeId': 17}\n",
      "{'id': 153, 'name': 'dept153', 'collegeId': 17}\n",
      "{'id': 154, 'name': 'dept154', 'collegeId': 17}\n",
      "{'id': 155, 'name': 'dept155', 'collegeId': 17}\n",
      "{'id': 156, 'name': 'dept156', 'collegeId': 17}\n",
      "{'id': 157, 'name': 'dept157', 'collegeId': 17}\n",
      "{'id': 158, 'name': 'dept158', 'collegeId': 17}\n",
      "{'id': 159, 'name': 'dept159', 'collegeId': 17}\n",
      "{'id': 160, 'name': 'dept160', 'collegeId': 17}\n",
      "{'id': 161, 'name': 'dept161', 'collegeId': 17}\n",
      "{'id': 162, 'name': 'dept162', 'collegeId': 17}\n",
      "{'id': 163, 'name': 'dept163', 'collegeId': 18}\n",
      "{'id': 164, 'name': 'dept164', 'collegeId': 18}\n",
      "{'id': 165, 'name': 'dept165', 'collegeId': 18}\n",
      "{'id': 166, 'name': 'dept166', 'collegeId': 18}\n",
      "{'id': 167, 'name': 'dept167', 'collegeId': 18}\n",
      "{'id': 168, 'name': 'dept168', 'collegeId': 18}\n",
      "{'id': 169, 'name': 'dept169', 'collegeId': 18}\n",
      "{'id': 170, 'name': 'dept170', 'collegeId': 18}\n",
      "{'id': 171, 'name': 'dept171', 'collegeId': 18}\n",
      "{'id': 172, 'name': 'dept172', 'collegeId': 18}\n",
      "{'id': 173, 'name': 'dept173', 'collegeId': 18}\n",
      "{'id': 174, 'name': 'dept174', 'collegeId': 18}\n",
      "{'id': 175, 'name': 'dept175', 'collegeId': 18}\n",
      "{'id': 176, 'name': 'dept176', 'collegeId': 18}\n",
      "{'id': 177, 'name': 'dept177', 'collegeId': 18}\n",
      "{'id': 178, 'name': 'dept178', 'collegeId': 18}\n",
      "{'id': 179, 'name': 'dept179', 'collegeId': 18}\n",
      "{'id': 180, 'name': 'dept180', 'collegeId': 18}\n",
      "{'id': 181, 'name': 'dept181', 'collegeId': 19}\n",
      "{'id': 182, 'name': 'dept182', 'collegeId': 19}\n",
      "{'id': 183, 'name': 'dept183', 'collegeId': 19}\n",
      "{'id': 184, 'name': 'dept184', 'collegeId': 19}\n",
      "{'id': 185, 'name': 'dept185', 'collegeId': 19}\n",
      "{'id': 186, 'name': 'dept186', 'collegeId': 19}\n",
      "{'id': 187, 'name': 'dept187', 'collegeId': 19}\n",
      "{'id': 188, 'name': 'dept188', 'collegeId': 19}\n",
      "{'id': 189, 'name': 'dept189', 'collegeId': 19}\n",
      "{'id': 190, 'name': 'dept190', 'collegeId': 19}\n",
      "{'id': 191, 'name': 'dept191', 'collegeId': 19}\n",
      "{'id': 192, 'name': 'dept192', 'collegeId': 19}\n",
      "{'id': 193, 'name': 'dept193', 'collegeId': 19}\n",
      "{'id': 194, 'name': 'dept194', 'collegeId': 19}\n",
      "{'id': 195, 'name': 'dept195', 'collegeId': 19}\n",
      "{'id': 196, 'name': 'dept196', 'collegeId': 19}\n",
      "{'id': 197, 'name': 'dept197', 'collegeId': 19}\n",
      "{'id': 198, 'name': 'dept198', 'collegeId': 19}\n",
      "{'id': 199, 'name': 'dept199', 'collegeId': 19}\n",
      "{'id': 200, 'name': 'dept200', 'collegeId': 19}\n",
      "{'id': 201, 'name': 'dept201', 'collegeId': 20}\n",
      "{'id': 202, 'name': 'dept202', 'collegeId': 20}\n",
      "{'id': 203, 'name': 'dept203', 'collegeId': 20}\n",
      "{'id': 204, 'name': 'dept204', 'collegeId': 20}\n",
      "{'id': 205, 'name': 'dept205', 'collegeId': 20}\n",
      "{'id': 206, 'name': 'dept206', 'collegeId': 20}\n",
      "{'id': 207, 'name': 'dept207', 'collegeId': 20}\n",
      "{'id': 208, 'name': 'dept208', 'collegeId': 20}\n",
      "{'id': 209, 'name': 'dept209', 'collegeId': 20}\n",
      "{'id': 210, 'name': 'dept210', 'collegeId': 20}\n",
      "{'id': 211, 'name': 'dept211', 'collegeId': 20}\n",
      "{'id': 212, 'name': 'dept212', 'collegeId': 20}\n",
      "{'id': 213, 'name': 'dept213', 'collegeId': 20}\n",
      "{'id': 214, 'name': 'dept214', 'collegeId': 20}\n",
      "{'id': 215, 'name': 'dept215', 'collegeId': 20}\n",
      "{'id': 216, 'name': 'dept216', 'collegeId': 20}\n",
      "{'id': 217, 'name': 'dept217', 'collegeId': 20}\n",
      "{'id': 218, 'name': 'dept218', 'collegeId': 20}\n",
      "{'id': 219, 'name': 'dept219', 'collegeId': 20}\n",
      "{'id': 220, 'name': 'dept220', 'collegeId': 20}\n"
     ]
    }
   ],
   "source": [
    "# print all elements of departments (remove comment)\n",
    "helper.getAllItemsOfData(departments)"
   ]
  },
  {
   "cell_type": "code",
   "execution_count": 9,
   "metadata": {},
   "outputs": [
    {
     "name": "stdout",
     "output_type": "stream",
     "text": [
      "{'id': 1, 'name': 'Sophia Alvarez', 'departmentId': 1, 'firstNode': None}\n",
      "{'id': 2, 'name': 'Jerry Powell', 'departmentId': 1, 'firstNode': None}\n",
      "{'id': 3, 'name': 'May Coleman', 'departmentId': 1, 'firstNode': None}\n",
      "{'id': 4, 'name': 'Jessica Barlow', 'departmentId': 1, 'firstNode': None}\n",
      "{'id': 5, 'name': 'Verna Casey', 'departmentId': 1, 'firstNode': None}\n",
      "{'id': 6, 'name': 'Sosa Barr', 'departmentId': 1, 'firstNode': None}\n",
      "{'id': 7, 'name': 'Dillard Holden', 'departmentId': 1, 'firstNode': None}\n",
      "{'id': 8, 'name': 'Hester Avery', 'departmentId': 1, 'firstNode': None}\n",
      "{'id': 9, 'name': 'Effie Doyle', 'departmentId': 1, 'firstNode': None}\n",
      "{'id': 10, 'name': 'Bartlett Soto', 'departmentId': 1, 'firstNode': None}\n",
      "{'id': 11, 'name': 'Coleen Bradley', 'departmentId': 2, 'firstNode': None}\n",
      "{'id': 12, 'name': 'Julia Flores', 'departmentId': 2, 'firstNode': None}\n",
      "{'id': 13, 'name': 'Josefina Schmidt', 'departmentId': 2, 'firstNode': None}\n",
      "{'id': 14, 'name': 'Schultz Bailey', 'departmentId': 2, 'firstNode': None}\n",
      "{'id': 15, 'name': 'Franklin Harrington', 'departmentId': 2, 'firstNode': None}\n",
      "{'id': 16, 'name': 'Martin Vazquez', 'departmentId': 3, 'firstNode': None}\n",
      "{'id': 17, 'name': 'Coffey Roberson', 'departmentId': 3, 'firstNode': None}\n",
      "{'id': 18, 'name': 'Vinson Kirk', 'departmentId': 3, 'firstNode': None}\n",
      "{'id': 19, 'name': 'Mcleod Mullen', 'departmentId': 3, 'firstNode': None}\n",
      "{'id': 20, 'name': 'Miller Berry', 'departmentId': 3, 'firstNode': None}\n",
      "{'id': 21, 'name': 'Noelle Alston', 'departmentId': 4, 'firstNode': None}\n",
      "{'id': 22, 'name': 'Rose Chaney', 'departmentId': 4, 'firstNode': None}\n",
      "{'id': 23, 'name': 'Alexandria Roach', 'departmentId': 4, 'firstNode': None}\n",
      "{'id': 24, 'name': 'Naomi Ruiz', 'departmentId': 4, 'firstNode': None}\n",
      "{'id': 25, 'name': 'Page Yates', 'departmentId': 4, 'firstNode': None}\n",
      "{'id': 26, 'name': 'Angelita Stewart', 'departmentId': 5, 'firstNode': None}\n",
      "{'id': 27, 'name': 'Mckenzie Stephenson', 'departmentId': 5, 'firstNode': None}\n",
      "{'id': 28, 'name': 'Rebecca Griffith', 'departmentId': 5, 'firstNode': None}\n",
      "{'id': 29, 'name': 'Christa Nicholson', 'departmentId': 5, 'firstNode': None}\n",
      "{'id': 30, 'name': 'Romero Shannon', 'departmentId': 5, 'firstNode': None}\n",
      "{'id': 31, 'name': 'Hollie Leon', 'departmentId': 6, 'firstNode': None}\n",
      "{'id': 32, 'name': 'Leach Murphy', 'departmentId': 6, 'firstNode': None}\n",
      "{'id': 33, 'name': 'Santiago Keller', 'departmentId': 6, 'firstNode': None}\n",
      "{'id': 34, 'name': 'Logan Hayden', 'departmentId': 6, 'firstNode': None}\n",
      "{'id': 35, 'name': 'Brennan Ingram', 'departmentId': 6, 'firstNode': None}\n",
      "{'id': 36, 'name': 'Marcella Roth', 'departmentId': 7, 'firstNode': None}\n",
      "{'id': 37, 'name': 'Newman Fuentes', 'departmentId': 7, 'firstNode': None}\n",
      "{'id': 38, 'name': 'Tina Quinn', 'departmentId': 7, 'firstNode': None}\n",
      "{'id': 39, 'name': 'Goodman Norton', 'departmentId': 7, 'firstNode': None}\n",
      "{'id': 40, 'name': 'Cervantes Newman', 'departmentId': 7, 'firstNode': None}\n",
      "{'id': 41, 'name': 'Blanche Marks', 'departmentId': 8, 'firstNode': None}\n",
      "{'id': 42, 'name': 'Christy Todd', 'departmentId': 8, 'firstNode': None}\n",
      "{'id': 43, 'name': 'Sheena Conley', 'departmentId': 8, 'firstNode': None}\n",
      "{'id': 44, 'name': 'Goldie Willis', 'departmentId': 8, 'firstNode': None}\n",
      "{'id': 45, 'name': 'Yolanda Allen', 'departmentId': 8, 'firstNode': None}\n",
      "{'id': 46, 'name': 'Lola Snider', 'departmentId': 9, 'firstNode': None}\n",
      "{'id': 47, 'name': 'Clark Hendrix', 'departmentId': 9, 'firstNode': None}\n",
      "{'id': 48, 'name': 'Francis Kennedy', 'departmentId': 9, 'firstNode': None}\n",
      "{'id': 49, 'name': 'Lee Riggs', 'departmentId': 9, 'firstNode': None}\n",
      "{'id': 50, 'name': 'Cooley Bowman', 'departmentId': 9, 'firstNode': None}\n"
     ]
    }
   ],
   "source": [
    "# print all elements of students (remove comment)\n",
    "helper.getAllItemsOfData(students)"
   ]
  },
  {
   "cell_type": "code",
   "execution_count": 10,
   "metadata": {},
   "outputs": [
    {
     "name": "stdout",
     "output_type": "stream",
     "text": [
      "{'id': 1, 'name': 'crs 1', 'departmentId': 1, 'firstNode': None}\n",
      "{'id': 2, 'name': 'crs 2', 'departmentId': 1, 'firstNode': None}\n",
      "{'id': 3, 'name': 'crs 3', 'departmentId': 1, 'firstNode': None}\n",
      "{'id': 4, 'name': 'crs 4', 'departmentId': 1, 'firstNode': None}\n",
      "{'id': 5, 'name': 'crs 5', 'departmentId': 1, 'firstNode': None}\n",
      "{'id': 6, 'name': 'crs 6', 'departmentId': 1, 'firstNode': None}\n",
      "{'id': 7, 'name': 'crs 7', 'departmentId': 1, 'firstNode': None}\n",
      "{'id': 8, 'name': 'crs 8', 'departmentId': 1, 'firstNode': None}\n",
      "{'id': 9, 'name': 'crs 9', 'departmentId': 1, 'firstNode': None}\n",
      "{'id': 10, 'name': 'crs 10', 'departmentId': 1, 'firstNode': None}\n",
      "{'id': 11, 'name': 'crs 11', 'departmentId': 2, 'firstNode': None}\n",
      "{'id': 12, 'name': 'crs 12', 'departmentId': 2, 'firstNode': None}\n",
      "{'id': 13, 'name': 'crs 13', 'departmentId': 2, 'firstNode': None}\n",
      "{'id': 14, 'name': 'crs 14', 'departmentId': 2, 'firstNode': None}\n",
      "{'id': 15, 'name': 'crs 15', 'departmentId': 2, 'firstNode': None}\n",
      "{'id': 16, 'name': 'crs 16', 'departmentId': 2, 'firstNode': None}\n",
      "{'id': 17, 'name': 'crs 17', 'departmentId': 2, 'firstNode': None}\n",
      "{'id': 18, 'name': 'crs 18', 'departmentId': 2, 'firstNode': None}\n",
      "{'id': 19, 'name': 'crs 19', 'departmentId': 3, 'firstNode': None}\n",
      "{'id': 20, 'name': 'crs 20', 'departmentId': 3, 'firstNode': None}\n",
      "{'id': 21, 'name': 'crs 21', 'departmentId': 3, 'firstNode': None}\n",
      "{'id': 22, 'name': 'crs 22', 'departmentId': 3, 'firstNode': None}\n",
      "{'id': 23, 'name': 'crs 23', 'departmentId': 3, 'firstNode': None}\n",
      "{'id': 24, 'name': 'crs 24', 'departmentId': 3, 'firstNode': None}\n",
      "{'id': 25, 'name': 'crs 25', 'departmentId': 3, 'firstNode': None}\n",
      "{'id': 26, 'name': 'crs 26', 'departmentId': 3, 'firstNode': None}\n",
      "{'id': 27, 'name': 'crs 27', 'departmentId': 3, 'firstNode': None}\n",
      "{'id': 28, 'name': 'crs 28', 'departmentId': 3, 'firstNode': None}\n",
      "{'id': 29, 'name': 'crs 29', 'departmentId': 3, 'firstNode': None}\n",
      "{'id': 30, 'name': 'crs 30', 'departmentId': 3, 'firstNode': None}\n",
      "{'id': 31, 'name': 'crs 31', 'departmentId': 4, 'firstNode': None}\n",
      "{'id': 32, 'name': 'crs 32', 'departmentId': 4, 'firstNode': None}\n",
      "{'id': 33, 'name': 'crs 33', 'departmentId': 4, 'firstNode': None}\n",
      "{'id': 34, 'name': 'crs 34', 'departmentId': 4, 'firstNode': None}\n",
      "{'id': 35, 'name': 'crs 35', 'departmentId': 4, 'firstNode': None}\n",
      "{'id': 36, 'name': 'crs 36', 'departmentId': 4, 'firstNode': None}\n",
      "{'id': 37, 'name': 'crs 37', 'departmentId': 4, 'firstNode': None}\n",
      "{'id': 38, 'name': 'crs 38', 'departmentId': 4, 'firstNode': None}\n",
      "{'id': 39, 'name': 'crs 39', 'departmentId': 4, 'firstNode': None}\n",
      "{'id': 40, 'name': 'crs 40', 'departmentId': 4, 'firstNode': None}\n",
      "{'id': 41, 'name': 'crs 41', 'departmentId': 4, 'firstNode': None}\n",
      "{'id': 42, 'name': 'crs 42', 'departmentId': 4, 'firstNode': None}\n",
      "{'id': 43, 'name': 'crs 43', 'departmentId': 4, 'firstNode': None}\n",
      "{'id': 44, 'name': 'crs 44', 'departmentId': 4, 'firstNode': None}\n",
      "{'id': 45, 'name': 'crs 45', 'departmentId': 5, 'firstNode': None}\n",
      "{'id': 46, 'name': 'crs 46', 'departmentId': 5, 'firstNode': None}\n",
      "{'id': 47, 'name': 'crs 47', 'departmentId': 5, 'firstNode': None}\n",
      "{'id': 48, 'name': 'crs 48', 'departmentId': 5, 'firstNode': None}\n",
      "{'id': 49, 'name': 'crs 49', 'departmentId': 5, 'firstNode': None}\n",
      "{'id': 50, 'name': 'crs 50', 'departmentId': 5, 'firstNode': None}\n",
      "{'id': 51, 'name': 'crs 51', 'departmentId': 5, 'firstNode': None}\n",
      "{'id': 52, 'name': 'crs 52', 'departmentId': 5, 'firstNode': None}\n",
      "{'id': 53, 'name': 'crs 53', 'departmentId': 5, 'firstNode': None}\n",
      "{'id': 54, 'name': 'crs 54', 'departmentId': 5, 'firstNode': None}\n",
      "{'id': 55, 'name': 'crs 55', 'departmentId': 5, 'firstNode': None}\n",
      "{'id': 56, 'name': 'crs 56', 'departmentId': 5, 'firstNode': None}\n",
      "{'id': 57, 'name': 'crs 57', 'departmentId': 6, 'firstNode': None}\n",
      "{'id': 58, 'name': 'crs 58', 'departmentId': 6, 'firstNode': None}\n",
      "{'id': 59, 'name': 'crs 59', 'departmentId': 6, 'firstNode': None}\n",
      "{'id': 60, 'name': 'crs 60', 'departmentId': 6, 'firstNode': None}\n",
      "{'id': 61, 'name': 'crs 61', 'departmentId': 6, 'firstNode': None}\n",
      "{'id': 62, 'name': 'crs 62', 'departmentId': 6, 'firstNode': None}\n",
      "{'id': 63, 'name': 'crs 63', 'departmentId': 6, 'firstNode': None}\n",
      "{'id': 64, 'name': 'crs 64', 'departmentId': 6, 'firstNode': None}\n",
      "{'id': 65, 'name': 'crs 65', 'departmentId': 7, 'firstNode': None}\n",
      "{'id': 66, 'name': 'crs 66', 'departmentId': 7, 'firstNode': None}\n",
      "{'id': 67, 'name': 'crs 67', 'departmentId': 7, 'firstNode': None}\n",
      "{'id': 68, 'name': 'crs 68', 'departmentId': 7, 'firstNode': None}\n",
      "{'id': 69, 'name': 'crs 69', 'departmentId': 7, 'firstNode': None}\n",
      "{'id': 70, 'name': 'crs 70', 'departmentId': 7, 'firstNode': None}\n",
      "{'id': 71, 'name': 'crs 71', 'departmentId': 7, 'firstNode': None}\n",
      "{'id': 72, 'name': 'crs 72', 'departmentId': 7, 'firstNode': None}\n",
      "{'id': 73, 'name': 'crs 73', 'departmentId': 7, 'firstNode': None}\n",
      "{'id': 74, 'name': 'crs 74', 'departmentId': 7, 'firstNode': None}\n",
      "{'id': 75, 'name': 'crs 75', 'departmentId': 7, 'firstNode': None}\n",
      "{'id': 76, 'name': 'crs 76', 'departmentId': 7, 'firstNode': None}\n",
      "{'id': 77, 'name': 'crs 77', 'departmentId': 7, 'firstNode': None}\n",
      "{'id': 78, 'name': 'crs 78', 'departmentId': 7, 'firstNode': None}\n",
      "{'id': 79, 'name': 'crs 79', 'departmentId': 7, 'firstNode': None}\n",
      "{'id': 80, 'name': 'crs 80', 'departmentId': 7, 'firstNode': None}\n",
      "{'id': 81, 'name': 'crs 81', 'departmentId': 7, 'firstNode': None}\n",
      "{'id': 82, 'name': 'crs 82', 'departmentId': 7, 'firstNode': None}\n",
      "{'id': 83, 'name': 'crs 83', 'departmentId': 7, 'firstNode': None}\n",
      "{'id': 84, 'name': 'crs 84', 'departmentId': 7, 'firstNode': None}\n",
      "{'id': 85, 'name': 'crs 85', 'departmentId': 8, 'firstNode': None}\n",
      "{'id': 86, 'name': 'crs 86', 'departmentId': 8, 'firstNode': None}\n",
      "{'id': 87, 'name': 'crs 87', 'departmentId': 8, 'firstNode': None}\n",
      "{'id': 88, 'name': 'crs 88', 'departmentId': 8, 'firstNode': None}\n",
      "{'id': 89, 'name': 'crs 89', 'departmentId': 8, 'firstNode': None}\n",
      "{'id': 90, 'name': 'crs 90', 'departmentId': 8, 'firstNode': None}\n",
      "{'id': 91, 'name': 'crs 91', 'departmentId': 8, 'firstNode': None}\n",
      "{'id': 92, 'name': 'crs 92', 'departmentId': 8, 'firstNode': None}\n",
      "{'id': 93, 'name': 'crs 93', 'departmentId': 8, 'firstNode': None}\n",
      "{'id': 94, 'name': 'crs 94', 'departmentId': 8, 'firstNode': None}\n",
      "{'id': 95, 'name': 'crs 95', 'departmentId': 8, 'firstNode': None}\n",
      "{'id': 96, 'name': 'crs 96', 'departmentId': 8, 'firstNode': None}\n",
      "{'id': 97, 'name': 'crs 97', 'departmentId': 8, 'firstNode': None}\n",
      "{'id': 98, 'name': 'crs 98', 'departmentId': 8, 'firstNode': None}\n",
      "{'id': 99, 'name': 'crs 99', 'departmentId': 8, 'firstNode': None}\n",
      "{'id': 100, 'name': 'crs 100', 'departmentId': 8, 'firstNode': None}\n",
      "{'id': 101, 'name': 'crs 101', 'departmentId': 8, 'firstNode': None}\n",
      "{'id': 102, 'name': 'crs 102', 'departmentId': 8, 'firstNode': None}\n",
      "{'id': 103, 'name': 'crs 103', 'departmentId': 9, 'firstNode': None}\n",
      "{'id': 104, 'name': 'crs 104', 'departmentId': 9, 'firstNode': None}\n",
      "{'id': 105, 'name': 'crs 105', 'departmentId': 9, 'firstNode': None}\n",
      "{'id': 106, 'name': 'crs 106', 'departmentId': 9, 'firstNode': None}\n",
      "{'id': 107, 'name': 'crs 107', 'departmentId': 9, 'firstNode': None}\n",
      "{'id': 108, 'name': 'crs 108', 'departmentId': 9, 'firstNode': None}\n",
      "{'id': 109, 'name': 'crs 109', 'departmentId': 9, 'firstNode': None}\n",
      "{'id': 110, 'name': 'crs 110', 'departmentId': 9, 'firstNode': None}\n",
      "{'id': 111, 'name': 'crs 111', 'departmentId': 9, 'firstNode': None}\n",
      "{'id': 112, 'name': 'crs 112', 'departmentId': 9, 'firstNode': None}\n",
      "{'id': 113, 'name': 'crs 113', 'departmentId': 10, 'firstNode': None}\n",
      "{'id': 114, 'name': 'crs 114', 'departmentId': 10, 'firstNode': None}\n",
      "{'id': 115, 'name': 'crs 115', 'departmentId': 10, 'firstNode': None}\n",
      "{'id': 116, 'name': 'crs 116', 'departmentId': 10, 'firstNode': None}\n",
      "{'id': 117, 'name': 'crs 117', 'departmentId': 10, 'firstNode': None}\n",
      "{'id': 118, 'name': 'crs 118', 'departmentId': 10, 'firstNode': None}\n",
      "{'id': 119, 'name': 'crs 119', 'departmentId': 10, 'firstNode': None}\n",
      "{'id': 120, 'name': 'crs 120', 'departmentId': 10, 'firstNode': None}\n",
      "{'id': 121, 'name': 'crs 121', 'departmentId': 10, 'firstNode': None}\n",
      "{'id': 122, 'name': 'crs 122', 'departmentId': 10, 'firstNode': None}\n",
      "{'id': 123, 'name': 'crs 123', 'departmentId': 11, 'firstNode': None}\n",
      "{'id': 124, 'name': 'crs 124', 'departmentId': 11, 'firstNode': None}\n",
      "{'id': 125, 'name': 'crs 125', 'departmentId': 11, 'firstNode': None}\n",
      "{'id': 126, 'name': 'crs 126', 'departmentId': 11, 'firstNode': None}\n",
      "{'id': 127, 'name': 'crs 127', 'departmentId': 11, 'firstNode': None}\n",
      "{'id': 128, 'name': 'crs 128', 'departmentId': 11, 'firstNode': None}\n",
      "{'id': 129, 'name': 'crs 129', 'departmentId': 11, 'firstNode': None}\n",
      "{'id': 130, 'name': 'crs 130', 'departmentId': 11, 'firstNode': None}\n",
      "{'id': 131, 'name': 'crs 131', 'departmentId': 11, 'firstNode': None}\n",
      "{'id': 132, 'name': 'crs 132', 'departmentId': 11, 'firstNode': None}\n",
      "{'id': 133, 'name': 'crs 133', 'departmentId': 11, 'firstNode': None}\n",
      "{'id': 134, 'name': 'crs 134', 'departmentId': 11, 'firstNode': None}\n",
      "{'id': 135, 'name': 'crs 135', 'departmentId': 12, 'firstNode': None}\n",
      "{'id': 136, 'name': 'crs 136', 'departmentId': 12, 'firstNode': None}\n",
      "{'id': 137, 'name': 'crs 137', 'departmentId': 12, 'firstNode': None}\n",
      "{'id': 138, 'name': 'crs 138', 'departmentId': 12, 'firstNode': None}\n",
      "{'id': 139, 'name': 'crs 139', 'departmentId': 12, 'firstNode': None}\n",
      "{'id': 140, 'name': 'crs 140', 'departmentId': 12, 'firstNode': None}\n",
      "{'id': 141, 'name': 'crs 141', 'departmentId': 12, 'firstNode': None}\n",
      "{'id': 142, 'name': 'crs 142', 'departmentId': 12, 'firstNode': None}\n",
      "{'id': 143, 'name': 'crs 143', 'departmentId': 12, 'firstNode': None}\n",
      "{'id': 144, 'name': 'crs 144', 'departmentId': 12, 'firstNode': None}\n",
      "{'id': 145, 'name': 'crs 145', 'departmentId': 12, 'firstNode': None}\n",
      "{'id': 146, 'name': 'crs 146', 'departmentId': 12, 'firstNode': None}\n",
      "{'id': 147, 'name': 'crs 147', 'departmentId': 12, 'firstNode': None}\n",
      "{'id': 148, 'name': 'crs 148', 'departmentId': 12, 'firstNode': None}\n",
      "{'id': 149, 'name': 'crs 149', 'departmentId': 13, 'firstNode': None}\n",
      "{'id': 150, 'name': 'crs 150', 'departmentId': 13, 'firstNode': None}\n",
      "{'id': 151, 'name': 'crs 151', 'departmentId': 13, 'firstNode': None}\n",
      "{'id': 152, 'name': 'crs 152', 'departmentId': 13, 'firstNode': None}\n",
      "{'id': 153, 'name': 'crs 153', 'departmentId': 13, 'firstNode': None}\n",
      "{'id': 154, 'name': 'crs 154', 'departmentId': 13, 'firstNode': None}\n",
      "{'id': 155, 'name': 'crs 155', 'departmentId': 13, 'firstNode': None}\n",
      "{'id': 156, 'name': 'crs 156', 'departmentId': 13, 'firstNode': None}\n",
      "{'id': 157, 'name': 'crs 157', 'departmentId': 13, 'firstNode': None}\n",
      "{'id': 158, 'name': 'crs 158', 'departmentId': 13, 'firstNode': None}\n",
      "{'id': 159, 'name': 'crs 159', 'departmentId': 13, 'firstNode': None}\n",
      "{'id': 160, 'name': 'crs 160', 'departmentId': 13, 'firstNode': None}\n",
      "{'id': 161, 'name': 'crs 161', 'departmentId': 13, 'firstNode': None}\n",
      "{'id': 162, 'name': 'crs 162', 'departmentId': 13, 'firstNode': None}\n",
      "{'id': 163, 'name': 'crs 163', 'departmentId': 13, 'firstNode': None}\n",
      "{'id': 164, 'name': 'crs 164', 'departmentId': 13, 'firstNode': None}\n",
      "{'id': 165, 'name': 'crs 165', 'departmentId': 13, 'firstNode': None}\n",
      "{'id': 166, 'name': 'crs 166', 'departmentId': 14, 'firstNode': None}\n",
      "{'id': 167, 'name': 'crs 167', 'departmentId': 14, 'firstNode': None}\n",
      "{'id': 168, 'name': 'crs 168', 'departmentId': 14, 'firstNode': None}\n",
      "{'id': 169, 'name': 'crs 169', 'departmentId': 14, 'firstNode': None}\n",
      "{'id': 170, 'name': 'crs 170', 'departmentId': 14, 'firstNode': None}\n",
      "{'id': 171, 'name': 'crs 171', 'departmentId': 14, 'firstNode': None}\n",
      "{'id': 172, 'name': 'crs 172', 'departmentId': 14, 'firstNode': None}\n",
      "{'id': 173, 'name': 'crs 173', 'departmentId': 14, 'firstNode': None}\n",
      "{'id': 174, 'name': 'crs 174', 'departmentId': 14, 'firstNode': None}\n",
      "{'id': 175, 'name': 'crs 175', 'departmentId': 14, 'firstNode': None}\n",
      "{'id': 176, 'name': 'crs 176', 'departmentId': 14, 'firstNode': None}\n",
      "{'id': 177, 'name': 'crs 177', 'departmentId': 14, 'firstNode': None}\n",
      "{'id': 178, 'name': 'crs 178', 'departmentId': 14, 'firstNode': None}\n",
      "{'id': 179, 'name': 'crs 179', 'departmentId': 14, 'firstNode': None}\n",
      "{'id': 180, 'name': 'crs 180', 'departmentId': 14, 'firstNode': None}\n",
      "{'id': 181, 'name': 'crs 181', 'departmentId': 14, 'firstNode': None}\n",
      "{'id': 182, 'name': 'crs 182', 'departmentId': 14, 'firstNode': None}\n",
      "{'id': 183, 'name': 'crs 183', 'departmentId': 15, 'firstNode': None}\n",
      "{'id': 184, 'name': 'crs 184', 'departmentId': 15, 'firstNode': None}\n",
      "{'id': 185, 'name': 'crs 185', 'departmentId': 15, 'firstNode': None}\n",
      "{'id': 186, 'name': 'crs 186', 'departmentId': 15, 'firstNode': None}\n",
      "{'id': 187, 'name': 'crs 187', 'departmentId': 15, 'firstNode': None}\n",
      "{'id': 188, 'name': 'crs 188', 'departmentId': 15, 'firstNode': None}\n",
      "{'id': 189, 'name': 'crs 189', 'departmentId': 15, 'firstNode': None}\n",
      "{'id': 190, 'name': 'crs 190', 'departmentId': 15, 'firstNode': None}\n",
      "{'id': 191, 'name': 'crs 191', 'departmentId': 15, 'firstNode': None}\n",
      "{'id': 192, 'name': 'crs 192', 'departmentId': 15, 'firstNode': None}\n",
      "{'id': 193, 'name': 'crs 193', 'departmentId': 15, 'firstNode': None}\n",
      "{'id': 194, 'name': 'crs 194', 'departmentId': 15, 'firstNode': None}\n",
      "{'id': 195, 'name': 'crs 195', 'departmentId': '', 'firstNode': None}\n",
      "{'id': 196, 'name': 'crs 196', 'departmentId': 16, 'firstNode': None}\n",
      "{'id': 197, 'name': 'crs 197', 'departmentId': 16, 'firstNode': None}\n",
      "{'id': 198, 'name': 'crs 198', 'departmentId': 16, 'firstNode': None}\n",
      "{'id': 199, 'name': 'crs 199', 'departmentId': 16, 'firstNode': None}\n",
      "{'id': 200, 'name': 'crs 200', 'departmentId': 16, 'firstNode': None}\n",
      "{'id': 201, 'name': 'crs 201', 'departmentId': 16, 'firstNode': None}\n",
      "{'id': 202, 'name': 'crs 202', 'departmentId': 16, 'firstNode': None}\n",
      "{'id': 203, 'name': 'crs 203', 'departmentId': 16, 'firstNode': None}\n",
      "{'id': 204, 'name': 'crs 204', 'departmentId': 16, 'firstNode': None}\n",
      "{'id': 205, 'name': 'crs 205', 'departmentId': 16, 'firstNode': None}\n",
      "{'id': 206, 'name': 'crs 206', 'departmentId': 16, 'firstNode': None}\n",
      "{'id': 207, 'name': 'crs 207', 'departmentId': 16, 'firstNode': None}\n",
      "{'id': 208, 'name': 'crs 208', 'departmentId': 17, 'firstNode': None}\n",
      "{'id': 209, 'name': 'crs 209', 'departmentId': 17, 'firstNode': None}\n",
      "{'id': 210, 'name': 'crs 210', 'departmentId': 17, 'firstNode': None}\n",
      "{'id': 211, 'name': 'crs 211', 'departmentId': 17, 'firstNode': None}\n",
      "{'id': 212, 'name': 'crs 212', 'departmentId': 17, 'firstNode': None}\n",
      "{'id': 213, 'name': 'crs 213', 'departmentId': 17, 'firstNode': None}\n",
      "{'id': 214, 'name': 'crs 214', 'departmentId': 17, 'firstNode': None}\n",
      "{'id': 215, 'name': 'crs 215', 'departmentId': 17, 'firstNode': None}\n",
      "{'id': 216, 'name': 'crs 216', 'departmentId': 17, 'firstNode': None}\n",
      "{'id': 217, 'name': 'crs 217', 'departmentId': 17, 'firstNode': None}\n",
      "{'id': 218, 'name': 'crs 218', 'departmentId': 17, 'firstNode': None}\n",
      "{'id': 219, 'name': 'crs 219', 'departmentId': 17, 'firstNode': None}\n",
      "{'id': 220, 'name': 'crs 220', 'departmentId': 17, 'firstNode': None}\n",
      "{'id': 221, 'name': 'crs 221', 'departmentId': 17, 'firstNode': None}\n",
      "{'id': 222, 'name': 'crs 222', 'departmentId': 17, 'firstNode': None}\n",
      "{'id': 223, 'name': 'crs 223', 'departmentId': 17, 'firstNode': None}\n",
      "{'id': 224, 'name': 'crs 224', 'departmentId': 18, 'firstNode': None}\n",
      "{'id': 225, 'name': 'crs 225', 'departmentId': 18, 'firstNode': None}\n",
      "{'id': 226, 'name': 'crs 226', 'departmentId': 18, 'firstNode': None}\n",
      "{'id': 227, 'name': 'crs 227', 'departmentId': 18, 'firstNode': None}\n",
      "{'id': 228, 'name': 'crs 228', 'departmentId': 18, 'firstNode': None}\n",
      "{'id': 229, 'name': 'crs 229', 'departmentId': 18, 'firstNode': None}\n",
      "{'id': 230, 'name': 'crs 230', 'departmentId': 18, 'firstNode': None}\n",
      "{'id': 231, 'name': 'crs 231', 'departmentId': 18, 'firstNode': None}\n",
      "{'id': 232, 'name': 'crs 232', 'departmentId': 18, 'firstNode': None}\n",
      "{'id': 233, 'name': 'crs 233', 'departmentId': 18, 'firstNode': None}\n",
      "{'id': 234, 'name': 'crs 234', 'departmentId': 18, 'firstNode': None}\n",
      "{'id': 235, 'name': 'crs 235', 'departmentId': 18, 'firstNode': None}\n",
      "{'id': 236, 'name': 'crs 236', 'departmentId': 18, 'firstNode': None}\n",
      "{'id': 237, 'name': 'crs 237', 'departmentId': 18, 'firstNode': None}\n",
      "{'id': 238, 'name': 'crs 238', 'departmentId': 18, 'firstNode': None}\n",
      "{'id': 239, 'name': 'crs 239', 'departmentId': 18, 'firstNode': None}\n",
      "{'id': 240, 'name': 'crs 240', 'departmentId': 18, 'firstNode': None}\n",
      "{'id': 241, 'name': 'crs 241', 'departmentId': 20, 'firstNode': None}\n",
      "{'id': 242, 'name': 'crs 242', 'departmentId': 20, 'firstNode': None}\n",
      "{'id': 243, 'name': 'crs 243', 'departmentId': 20, 'firstNode': None}\n",
      "{'id': 244, 'name': 'crs 244', 'departmentId': 20, 'firstNode': None}\n",
      "{'id': 245, 'name': 'crs 245', 'departmentId': 20, 'firstNode': None}\n",
      "{'id': 246, 'name': 'crs 246', 'departmentId': 20, 'firstNode': None}\n",
      "{'id': 247, 'name': 'crs 247', 'departmentId': 20, 'firstNode': None}\n",
      "{'id': 248, 'name': 'crs 248', 'departmentId': 20, 'firstNode': None}\n",
      "{'id': 249, 'name': 'crs 249', 'departmentId': 20, 'firstNode': None}\n",
      "{'id': 250, 'name': 'crs 250', 'departmentId': 20, 'firstNode': None}\n",
      "{'id': 251, 'name': 'crs 251', 'departmentId': 20, 'firstNode': None}\n",
      "{'id': 252, 'name': 'crs 252', 'departmentId': 20, 'firstNode': None}\n",
      "{'id': 253, 'name': 'crs 253', 'departmentId': 20, 'firstNode': None}\n",
      "{'id': 254, 'name': 'crs 254', 'departmentId': 20, 'firstNode': None}\n",
      "{'id': 255, 'name': 'crs 255', 'departmentId': 20, 'firstNode': None}\n",
      "{'id': 256, 'name': 'crs 256', 'departmentId': 20, 'firstNode': None}\n",
      "{'id': 257, 'name': 'crs 257', 'departmentId': 20, 'firstNode': None}\n",
      "{'id': 258, 'name': 'crs 258', 'departmentId': 20, 'firstNode': None}\n",
      "{'id': 259, 'name': 'crs 259', 'departmentId': 20, 'firstNode': None}\n",
      "{'id': 260, 'name': 'crs 260', 'departmentId': 21, 'firstNode': None}\n",
      "{'id': 261, 'name': 'crs 261', 'departmentId': 21, 'firstNode': None}\n",
      "{'id': 262, 'name': 'crs 262', 'departmentId': 21, 'firstNode': None}\n",
      "{'id': 263, 'name': 'crs 263', 'departmentId': 21, 'firstNode': None}\n",
      "{'id': 264, 'name': 'crs 264', 'departmentId': 21, 'firstNode': None}\n",
      "{'id': 265, 'name': 'crs 265', 'departmentId': 21, 'firstNode': None}\n",
      "{'id': 266, 'name': 'crs 266', 'departmentId': 21, 'firstNode': None}\n",
      "{'id': 267, 'name': 'crs 267', 'departmentId': 21, 'firstNode': None}\n",
      "{'id': 268, 'name': 'crs 268', 'departmentId': 21, 'firstNode': None}\n",
      "{'id': 269, 'name': 'crs 269', 'departmentId': 21, 'firstNode': None}\n",
      "{'id': 270, 'name': 'crs 270', 'departmentId': 21, 'firstNode': None}\n",
      "{'id': 271, 'name': 'crs 271', 'departmentId': 21, 'firstNode': None}\n",
      "{'id': 272, 'name': 'crs 272', 'departmentId': 21, 'firstNode': None}\n",
      "{'id': 273, 'name': 'crs 273', 'departmentId': 21, 'firstNode': None}\n",
      "{'id': 274, 'name': 'crs 274', 'departmentId': 21, 'firstNode': None}\n",
      "{'id': 275, 'name': 'crs 275', 'departmentId': 21, 'firstNode': None}\n",
      "{'id': 276, 'name': 'crs 276', 'departmentId': 21, 'firstNode': None}\n",
      "{'id': 277, 'name': 'crs 277', 'departmentId': 21, 'firstNode': None}\n",
      "{'id': 278, 'name': 'crs 278', 'departmentId': 21, 'firstNode': None}\n",
      "{'id': 279, 'name': 'crs 279', 'departmentId': 21, 'firstNode': None}\n",
      "{'id': 280, 'name': 'crs 280', 'departmentId': 21, 'firstNode': None}\n",
      "{'id': 281, 'name': 'crs 281', 'departmentId': 21, 'firstNode': None}\n",
      "{'id': 282, 'name': 'crs 282', 'departmentId': 21, 'firstNode': None}\n",
      "{'id': 283, 'name': 'crs 283', 'departmentId': 21, 'firstNode': None}\n",
      "{'id': 284, 'name': 'crs 284', 'departmentId': 21, 'firstNode': None}\n",
      "{'id': 285, 'name': 'crs 285', 'departmentId': 21, 'firstNode': None}\n",
      "{'id': 286, 'name': 'crs 286', 'departmentId': 21, 'firstNode': None}\n",
      "{'id': 287, 'name': 'crs 287', 'departmentId': 21, 'firstNode': None}\n",
      "{'id': 288, 'name': 'crs 288', 'departmentId': 21, 'firstNode': None}\n",
      "{'id': 289, 'name': 'crs 289', 'departmentId': 21, 'firstNode': None}\n",
      "{'id': 290, 'name': 'crs 290', 'departmentId': 21, 'firstNode': None}\n",
      "{'id': 291, 'name': 'crs 291', 'departmentId': 21, 'firstNode': None}\n",
      "{'id': 292, 'name': 'crs 292', 'departmentId': 21, 'firstNode': None}\n",
      "{'id': 293, 'name': 'crs 293', 'departmentId': 21, 'firstNode': None}\n",
      "{'id': 294, 'name': 'crs 294', 'departmentId': 21, 'firstNode': None}\n",
      "{'id': 295, 'name': 'crs 295', 'departmentId': 21, 'firstNode': None}\n",
      "{'id': 296, 'name': 'crs 296', 'departmentId': 21, 'firstNode': None}\n",
      "{'id': 297, 'name': 'crs 297', 'departmentId': 21, 'firstNode': None}\n",
      "{'id': 298, 'name': 'crs 298', 'departmentId': 21, 'firstNode': None}\n",
      "{'id': 299, 'name': 'crs 299', 'departmentId': 21, 'firstNode': None}\n",
      "{'id': 300, 'name': 'crs 300', 'departmentId': 21, 'firstNode': None}\n",
      "{'id': 301, 'name': 'crs 301', 'departmentId': 21, 'firstNode': None}\n",
      "{'id': 302, 'name': 'crs 302', 'departmentId': 21, 'firstNode': None}\n",
      "{'id': 303, 'name': 'crs 303', 'departmentId': 21, 'firstNode': None}\n",
      "{'id': 304, 'name': 'crs 304', 'departmentId': 21, 'firstNode': None}\n",
      "{'id': 305, 'name': 'crs 305', 'departmentId': 21, 'firstNode': None}\n",
      "{'id': 306, 'name': 'crs 306', 'departmentId': 22, 'firstNode': None}\n",
      "{'id': 307, 'name': 'crs 307', 'departmentId': 22, 'firstNode': None}\n",
      "{'id': 308, 'name': 'crs 308', 'departmentId': 22, 'firstNode': None}\n",
      "{'id': 309, 'name': 'crs 309', 'departmentId': 22, 'firstNode': None}\n",
      "{'id': 310, 'name': 'crs 310', 'departmentId': 22, 'firstNode': None}\n",
      "{'id': 311, 'name': 'crs 311', 'departmentId': 22, 'firstNode': None}\n",
      "{'id': 312, 'name': 'crs 312', 'departmentId': 22, 'firstNode': None}\n",
      "{'id': 313, 'name': 'crs 313', 'departmentId': 22, 'firstNode': None}\n",
      "{'id': 314, 'name': 'crs 314', 'departmentId': 22, 'firstNode': None}\n",
      "{'id': 315, 'name': 'crs 315', 'departmentId': 22, 'firstNode': None}\n",
      "{'id': 316, 'name': 'crs 316', 'departmentId': 22, 'firstNode': None}\n",
      "{'id': 317, 'name': 'crs 317', 'departmentId': 22, 'firstNode': None}\n",
      "{'id': 318, 'name': 'crs 318', 'departmentId': 22, 'firstNode': None}\n",
      "{'id': 319, 'name': 'crs 319', 'departmentId': 22, 'firstNode': None}\n",
      "{'id': 320, 'name': 'crs 320', 'departmentId': 22, 'firstNode': None}\n",
      "{'id': 321, 'name': 'crs 321', 'departmentId': 22, 'firstNode': None}\n",
      "{'id': 322, 'name': 'crs 322', 'departmentId': 22, 'firstNode': None}\n",
      "{'id': 323, 'name': 'crs 323', 'departmentId': 22, 'firstNode': None}\n",
      "{'id': 324, 'name': 'crs 324', 'departmentId': 22, 'firstNode': None}\n",
      "{'id': 325, 'name': 'crs 325', 'departmentId': 22, 'firstNode': None}\n",
      "{'id': 326, 'name': 'crs 326', 'departmentId': 22, 'firstNode': None}\n",
      "{'id': 327, 'name': 'crs 327', 'departmentId': 22, 'firstNode': None}\n",
      "{'id': 328, 'name': 'crs 328', 'departmentId': 22, 'firstNode': None}\n",
      "{'id': 329, 'name': 'crs 329', 'departmentId': 22, 'firstNode': None}\n",
      "{'id': 330, 'name': 'crs 330', 'departmentId': 22, 'firstNode': None}\n",
      "{'id': 331, 'name': 'crs 331', 'departmentId': 22, 'firstNode': None}\n",
      "{'id': 332, 'name': 'crs 332', 'departmentId': 22, 'firstNode': None}\n",
      "{'id': 333, 'name': 'crs 333', 'departmentId': 22, 'firstNode': None}\n",
      "{'id': 334, 'name': 'crs 334', 'departmentId': 22, 'firstNode': None}\n",
      "{'id': 335, 'name': 'crs 335', 'departmentId': 22, 'firstNode': None}\n",
      "{'id': 336, 'name': 'crs 336', 'departmentId': 22, 'firstNode': None}\n",
      "{'id': 337, 'name': 'crs 337', 'departmentId': 22, 'firstNode': None}\n",
      "{'id': 338, 'name': 'crs 338', 'departmentId': 22, 'firstNode': None}\n",
      "{'id': 339, 'name': 'crs 339', 'departmentId': 22, 'firstNode': None}\n",
      "{'id': 340, 'name': 'crs 340', 'departmentId': 22, 'firstNode': None}\n",
      "{'id': 341, 'name': 'crs 341', 'departmentId': 22, 'firstNode': None}\n",
      "{'id': 342, 'name': 'crs 342', 'departmentId': 22, 'firstNode': None}\n",
      "{'id': 343, 'name': 'crs 343', 'departmentId': 22, 'firstNode': None}\n",
      "{'id': 344, 'name': 'crs 344', 'departmentId': 22, 'firstNode': None}\n",
      "{'id': 345, 'name': 'crs 345', 'departmentId': 22, 'firstNode': None}\n",
      "{'id': 346, 'name': 'crs 346', 'departmentId': 22, 'firstNode': None}\n",
      "{'id': 347, 'name': 'crs 347', 'departmentId': 22, 'firstNode': None}\n",
      "{'id': 348, 'name': 'crs 348', 'departmentId': 22, 'firstNode': None}\n",
      "{'id': 349, 'name': 'crs 349', 'departmentId': 22, 'firstNode': None}\n",
      "{'id': 350, 'name': 'crs 350', 'departmentId': 22, 'firstNode': None}\n",
      "{'id': 351, 'name': 'crs 351', 'departmentId': 22, 'firstNode': None}\n",
      "{'id': 352, 'name': 'crs 352', 'departmentId': 22, 'firstNode': None}\n",
      "{'id': 353, 'name': 'crs 353', 'departmentId': 22, 'firstNode': None}\n",
      "{'id': 354, 'name': 'crs 354', 'departmentId': 22, 'firstNode': None}\n",
      "{'id': 355, 'name': 'crs 355', 'departmentId': 22, 'firstNode': None}\n",
      "{'id': 356, 'name': 'crs 356', 'departmentId': 22, 'firstNode': None}\n",
      "{'id': 357, 'name': 'crs 357', 'departmentId': 22, 'firstNode': None}\n",
      "{'id': 358, 'name': 'crs 358', 'departmentId': 22, 'firstNode': None}\n",
      "{'id': 359, 'name': 'crs 359', 'departmentId': 22, 'firstNode': None}\n",
      "{'id': 360, 'name': 'crs 360', 'departmentId': 22, 'firstNode': None}\n",
      "{'id': 361, 'name': 'crs 361', 'departmentId': 22, 'firstNode': None}\n",
      "{'id': 362, 'name': 'crs 362', 'departmentId': 22, 'firstNode': None}\n",
      "{'id': 363, 'name': 'crs 363', 'departmentId': 22, 'firstNode': None}\n",
      "{'id': 364, 'name': 'crs 364', 'departmentId': 22, 'firstNode': None}\n",
      "{'id': 365, 'name': 'crs 365', 'departmentId': 22, 'firstNode': None}\n",
      "{'id': 366, 'name': 'crs 366', 'departmentId': 22, 'firstNode': None}\n",
      "{'id': 367, 'name': 'crs 367', 'departmentId': 22, 'firstNode': None}\n",
      "{'id': 368, 'name': 'crs 368', 'departmentId': 22, 'firstNode': None}\n",
      "{'id': 369, 'name': 'crs 369', 'departmentId': 22, 'firstNode': None}\n",
      "{'id': 370, 'name': 'crs 370', 'departmentId': 22, 'firstNode': None}\n",
      "{'id': 371, 'name': 'crs 371', 'departmentId': 22, 'firstNode': None}\n",
      "{'id': 372, 'name': 'crs 372', 'departmentId': 22, 'firstNode': None}\n",
      "{'id': 373, 'name': 'crs 373', 'departmentId': 22, 'firstNode': None}\n",
      "{'id': 374, 'name': 'crs 374', 'departmentId': 22, 'firstNode': None}\n",
      "{'id': 375, 'name': 'crs 375', 'departmentId': 22, 'firstNode': None}\n",
      "{'id': 376, 'name': 'crs 376', 'departmentId': 22, 'firstNode': None}\n",
      "{'id': 377, 'name': 'crs 377', 'departmentId': 22, 'firstNode': None}\n",
      "{'id': 378, 'name': 'crs 378', 'departmentId': 22, 'firstNode': None}\n",
      "{'id': 379, 'name': 'crs 379', 'departmentId': 22, 'firstNode': None}\n",
      "{'id': 380, 'name': 'crs 380', 'departmentId': 22, 'firstNode': None}\n",
      "{'id': 381, 'name': 'crs 381', 'departmentId': 22, 'firstNode': None}\n",
      "{'id': 382, 'name': 'crs 382', 'departmentId': 22, 'firstNode': None}\n",
      "{'id': 383, 'name': 'crs 383', 'departmentId': 22, 'firstNode': None}\n",
      "{'id': 384, 'name': 'crs 384', 'departmentId': 22, 'firstNode': None}\n",
      "{'id': 385, 'name': 'crs 385', 'departmentId': 22, 'firstNode': None}\n",
      "{'id': 386, 'name': 'crs 386', 'departmentId': 22, 'firstNode': None}\n",
      "{'id': 387, 'name': 'crs 387', 'departmentId': 22, 'firstNode': None}\n",
      "{'id': 388, 'name': 'crs 388', 'departmentId': 22, 'firstNode': None}\n",
      "{'id': 389, 'name': 'crs 389', 'departmentId': 22, 'firstNode': None}\n",
      "{'id': 390, 'name': 'crs 390', 'departmentId': 22, 'firstNode': None}\n",
      "{'id': 391, 'name': 'crs 391', 'departmentId': 22, 'firstNode': None}\n",
      "{'id': 392, 'name': 'crs 392', 'departmentId': 22, 'firstNode': None}\n",
      "{'id': 393, 'name': 'crs 393', 'departmentId': 22, 'firstNode': None}\n",
      "{'id': 394, 'name': 'crs 394', 'departmentId': 23, 'firstNode': None}\n",
      "{'id': 395, 'name': 'crs 395', 'departmentId': 23, 'firstNode': None}\n",
      "{'id': 396, 'name': 'crs 396', 'departmentId': 23, 'firstNode': None}\n",
      "{'id': 397, 'name': 'crs 397', 'departmentId': 23, 'firstNode': None}\n",
      "{'id': 398, 'name': 'crs 398', 'departmentId': 23, 'firstNode': None}\n",
      "{'id': 399, 'name': 'crs 399', 'departmentId': 23, 'firstNode': None}\n",
      "{'id': 400, 'name': 'crs 400', 'departmentId': 23, 'firstNode': None}\n",
      "{'id': 401, 'name': 'crs 401', 'departmentId': 23, 'firstNode': None}\n",
      "{'id': 402, 'name': 'crs 402', 'departmentId': 23, 'firstNode': None}\n",
      "{'id': 403, 'name': 'crs 403', 'departmentId': 23, 'firstNode': None}\n",
      "{'id': 404, 'name': 'crs 404', 'departmentId': 23, 'firstNode': None}\n",
      "{'id': 405, 'name': 'crs 405', 'departmentId': 23, 'firstNode': None}\n",
      "{'id': 406, 'name': 'crs 406', 'departmentId': 23, 'firstNode': None}\n",
      "{'id': 407, 'name': 'crs 407', 'departmentId': 23, 'firstNode': None}\n",
      "{'id': 408, 'name': 'crs 408', 'departmentId': 23, 'firstNode': None}\n",
      "{'id': 409, 'name': 'crs 409', 'departmentId': 23, 'firstNode': None}\n",
      "{'id': 410, 'name': 'crs 410', 'departmentId': 23, 'firstNode': None}\n",
      "{'id': 411, 'name': 'crs 411', 'departmentId': 23, 'firstNode': None}\n",
      "{'id': 412, 'name': 'crs 412', 'departmentId': 23, 'firstNode': None}\n",
      "{'id': 413, 'name': 'crs 413', 'departmentId': 23, 'firstNode': None}\n",
      "{'id': 414, 'name': 'crs 414', 'departmentId': 23, 'firstNode': None}\n",
      "{'id': 415, 'name': 'crs 415', 'departmentId': 23, 'firstNode': None}\n",
      "{'id': 416, 'name': 'crs 416', 'departmentId': 23, 'firstNode': None}\n",
      "{'id': 417, 'name': 'crs 417', 'departmentId': 23, 'firstNode': None}\n",
      "{'id': 418, 'name': 'crs 418', 'departmentId': 23, 'firstNode': None}\n",
      "{'id': 419, 'name': 'crs 419', 'departmentId': 23, 'firstNode': None}\n",
      "{'id': 420, 'name': 'crs 420', 'departmentId': 23, 'firstNode': None}\n",
      "{'id': 421, 'name': 'crs 421', 'departmentId': 23, 'firstNode': None}\n",
      "{'id': 422, 'name': 'crs 422', 'departmentId': 24, 'firstNode': None}\n",
      "{'id': 423, 'name': 'crs 423', 'departmentId': 24, 'firstNode': None}\n",
      "{'id': 424, 'name': 'crs 424', 'departmentId': 24, 'firstNode': None}\n",
      "{'id': 425, 'name': 'crs 425', 'departmentId': 24, 'firstNode': None}\n",
      "{'id': 426, 'name': 'crs 426', 'departmentId': 24, 'firstNode': None}\n",
      "{'id': 427, 'name': 'crs 427', 'departmentId': 24, 'firstNode': None}\n",
      "{'id': 428, 'name': 'crs 428', 'departmentId': 24, 'firstNode': None}\n",
      "{'id': 429, 'name': 'crs 429', 'departmentId': 24, 'firstNode': None}\n",
      "{'id': 430, 'name': 'crs 430', 'departmentId': 24, 'firstNode': None}\n",
      "{'id': 431, 'name': 'crs 431', 'departmentId': 24, 'firstNode': None}\n",
      "{'id': 432, 'name': 'crs 432', 'departmentId': 24, 'firstNode': None}\n",
      "{'id': 433, 'name': 'crs 433', 'departmentId': 24, 'firstNode': None}\n",
      "{'id': 434, 'name': 'crs 434', 'departmentId': 24, 'firstNode': None}\n",
      "{'id': 435, 'name': 'crs 435', 'departmentId': 24, 'firstNode': None}\n",
      "{'id': 436, 'name': 'crs 436', 'departmentId': 24, 'firstNode': None}\n",
      "{'id': 437, 'name': 'crs 437', 'departmentId': 24, 'firstNode': None}\n",
      "{'id': 438, 'name': 'crs 438', 'departmentId': 24, 'firstNode': None}\n",
      "{'id': 439, 'name': 'crs 439', 'departmentId': 24, 'firstNode': None}\n",
      "{'id': 440, 'name': 'crs 440', 'departmentId': 24, 'firstNode': None}\n",
      "{'id': 441, 'name': 'crs 441', 'departmentId': 24, 'firstNode': None}\n",
      "{'id': 442, 'name': 'crs 442', 'departmentId': 24, 'firstNode': None}\n",
      "{'id': 443, 'name': 'crs 443', 'departmentId': 24, 'firstNode': None}\n",
      "{'id': 444, 'name': 'crs 444', 'departmentId': 24, 'firstNode': None}\n",
      "{'id': 445, 'name': 'crs 445', 'departmentId': 24, 'firstNode': None}\n",
      "{'id': 446, 'name': 'crs 446', 'departmentId': 24, 'firstNode': None}\n",
      "{'id': 447, 'name': 'crs 447', 'departmentId': 24, 'firstNode': None}\n",
      "{'id': 448, 'name': 'crs 448', 'departmentId': 24, 'firstNode': None}\n",
      "{'id': 449, 'name': 'crs 449', 'departmentId': 24, 'firstNode': None}\n",
      "{'id': 450, 'name': 'crs 450', 'departmentId': 24, 'firstNode': None}\n",
      "{'id': 451, 'name': 'crs 451', 'departmentId': 24, 'firstNode': None}\n",
      "{'id': 452, 'name': 'crs 452', 'departmentId': 24, 'firstNode': None}\n",
      "{'id': 453, 'name': 'crs 453', 'departmentId': 24, 'firstNode': None}\n",
      "{'id': 454, 'name': 'crs 454', 'departmentId': 24, 'firstNode': None}\n",
      "{'id': 455, 'name': 'crs 455', 'departmentId': 24, 'firstNode': None}\n",
      "{'id': 456, 'name': 'crs 456', 'departmentId': 24, 'firstNode': None}\n",
      "{'id': 457, 'name': 'crs 457', 'departmentId': 25, 'firstNode': None}\n",
      "{'id': 458, 'name': 'crs 458', 'departmentId': 25, 'firstNode': None}\n",
      "{'id': 459, 'name': 'crs 459', 'departmentId': 25, 'firstNode': None}\n",
      "{'id': 460, 'name': 'crs 460', 'departmentId': 25, 'firstNode': None}\n",
      "{'id': 461, 'name': 'crs 461', 'departmentId': 25, 'firstNode': None}\n",
      "{'id': 462, 'name': 'crs 462', 'departmentId': 25, 'firstNode': None}\n",
      "{'id': 463, 'name': 'crs 463', 'departmentId': 25, 'firstNode': None}\n",
      "{'id': 464, 'name': 'crs 464', 'departmentId': 25, 'firstNode': None}\n",
      "{'id': 465, 'name': 'crs 465', 'departmentId': 25, 'firstNode': None}\n",
      "{'id': 466, 'name': 'crs 466', 'departmentId': 25, 'firstNode': None}\n",
      "{'id': 467, 'name': 'crs 467', 'departmentId': 25, 'firstNode': None}\n",
      "{'id': 468, 'name': 'crs 468', 'departmentId': 25, 'firstNode': None}\n",
      "{'id': 469, 'name': 'crs 469', 'departmentId': 25, 'firstNode': None}\n",
      "{'id': 470, 'name': 'crs 470', 'departmentId': 25, 'firstNode': None}\n",
      "{'id': 471, 'name': 'crs 471', 'departmentId': 25, 'firstNode': None}\n",
      "{'id': 472, 'name': 'crs 472', 'departmentId': 25, 'firstNode': None}\n",
      "{'id': 473, 'name': 'crs 473', 'departmentId': 26, 'firstNode': None}\n",
      "{'id': 474, 'name': 'crs 474', 'departmentId': 27, 'firstNode': None}\n",
      "{'id': 475, 'name': 'crs 475', 'departmentId': 28, 'firstNode': None}\n",
      "{'id': 476, 'name': 'crs 476', 'departmentId': 29, 'firstNode': None}\n",
      "{'id': 477, 'name': 'crs 477', 'departmentId': 30, 'firstNode': None}\n",
      "{'id': 478, 'name': 'crs 478', 'departmentId': 31, 'firstNode': None}\n",
      "{'id': 479, 'name': 'crs 479', 'departmentId': 32, 'firstNode': None}\n",
      "{'id': 480, 'name': 'crs 480', 'departmentId': 33, 'firstNode': None}\n",
      "{'id': 481, 'name': 'crs 481', 'departmentId': 34, 'firstNode': None}\n",
      "{'id': 482, 'name': 'crs 482', 'departmentId': 35, 'firstNode': None}\n",
      "{'id': 483, 'name': 'crs 483', 'departmentId': 36, 'firstNode': None}\n",
      "{'id': 484, 'name': 'crs 484', 'departmentId': 37, 'firstNode': None}\n",
      "{'id': 485, 'name': 'crs 485', 'departmentId': 38, 'firstNode': None}\n",
      "{'id': 486, 'name': 'crs 486', 'departmentId': 39, 'firstNode': None}\n",
      "{'id': 487, 'name': 'crs 487', 'departmentId': 40, 'firstNode': None}\n",
      "{'id': 488, 'name': 'crs 488', 'departmentId': 41, 'firstNode': None}\n",
      "{'id': 489, 'name': 'crs 489', 'departmentId': 42, 'firstNode': None}\n",
      "{'id': 490, 'name': 'crs 490', 'departmentId': 43, 'firstNode': None}\n",
      "{'id': 491, 'name': 'crs 491', 'departmentId': 44, 'firstNode': None}\n",
      "{'id': 492, 'name': 'crs 492', 'departmentId': 45, 'firstNode': None}\n",
      "{'id': 493, 'name': 'crs 493', 'departmentId': 46, 'firstNode': None}\n",
      "{'id': 494, 'name': 'crs 494', 'departmentId': 47, 'firstNode': None}\n",
      "{'id': 495, 'name': 'crs 495', 'departmentId': 48, 'firstNode': None}\n",
      "{'id': 496, 'name': 'crs 496', 'departmentId': 49, 'firstNode': None}\n",
      "{'id': 497, 'name': 'crs 497', 'departmentId': 50, 'firstNode': None}\n",
      "{'id': 498, 'name': 'crs 498', 'departmentId': 51, 'firstNode': None}\n",
      "{'id': 499, 'name': 'crs 499', 'departmentId': 52, 'firstNode': None}\n",
      "{'id': 500, 'name': 'crs 500', 'departmentId': 53, 'firstNode': None}\n",
      "{'id': 501, 'name': 'crs 501', 'departmentId': 54, 'firstNode': None}\n",
      "{'id': 502, 'name': 'crs 502', 'departmentId': 55, 'firstNode': None}\n",
      "{'id': 503, 'name': 'crs 503', 'departmentId': 56, 'firstNode': None}\n",
      "{'id': 504, 'name': 'crs 504', 'departmentId': 57, 'firstNode': None}\n",
      "{'id': 505, 'name': 'crs 505', 'departmentId': 58, 'firstNode': None}\n",
      "{'id': 506, 'name': 'crs 506', 'departmentId': 59, 'firstNode': None}\n",
      "{'id': 507, 'name': 'crs 507', 'departmentId': 60, 'firstNode': None}\n",
      "{'id': 508, 'name': 'crs 508', 'departmentId': 61, 'firstNode': None}\n",
      "{'id': 509, 'name': 'crs 509', 'departmentId': 62, 'firstNode': None}\n",
      "{'id': 510, 'name': 'crs 510', 'departmentId': 63, 'firstNode': None}\n",
      "{'id': 511, 'name': 'crs 511', 'departmentId': 64, 'firstNode': None}\n",
      "{'id': 512, 'name': 'crs 512', 'departmentId': 65, 'firstNode': None}\n",
      "{'id': 513, 'name': 'crs 513', 'departmentId': 66, 'firstNode': None}\n",
      "{'id': 514, 'name': 'crs 514', 'departmentId': 67, 'firstNode': None}\n",
      "{'id': 515, 'name': 'crs 515', 'departmentId': 68, 'firstNode': None}\n",
      "{'id': 516, 'name': 'crs 516', 'departmentId': 69, 'firstNode': None}\n",
      "{'id': 517, 'name': 'crs 517', 'departmentId': 70, 'firstNode': None}\n",
      "{'id': 518, 'name': 'crs 518', 'departmentId': 71, 'firstNode': None}\n",
      "{'id': 519, 'name': 'crs 519', 'departmentId': 72, 'firstNode': None}\n",
      "{'id': 520, 'name': 'crs 520', 'departmentId': 73, 'firstNode': None}\n",
      "{'id': 521, 'name': 'crs 521', 'departmentId': 74, 'firstNode': None}\n",
      "{'id': 522, 'name': 'crs 522', 'departmentId': 75, 'firstNode': None}\n",
      "{'id': 523, 'name': 'crs 523', 'departmentId': 76, 'firstNode': None}\n",
      "{'id': 524, 'name': 'crs 524', 'departmentId': 77, 'firstNode': None}\n",
      "{'id': 525, 'name': 'crs 525', 'departmentId': 78, 'firstNode': None}\n",
      "{'id': 526, 'name': 'crs 526', 'departmentId': 79, 'firstNode': None}\n",
      "{'id': 527, 'name': 'crs 527', 'departmentId': 80, 'firstNode': None}\n",
      "{'id': 528, 'name': 'crs 528', 'departmentId': 81, 'firstNode': None}\n",
      "{'id': 529, 'name': 'crs 529', 'departmentId': 82, 'firstNode': None}\n",
      "{'id': 530, 'name': 'crs 530', 'departmentId': 83, 'firstNode': None}\n",
      "{'id': 531, 'name': 'crs 531', 'departmentId': 84, 'firstNode': None}\n",
      "{'id': 532, 'name': 'crs 532', 'departmentId': 85, 'firstNode': None}\n",
      "{'id': 533, 'name': 'crs 533', 'departmentId': 86, 'firstNode': None}\n",
      "{'id': 534, 'name': 'crs 534', 'departmentId': 87, 'firstNode': None}\n",
      "{'id': 535, 'name': 'crs 535', 'departmentId': 88, 'firstNode': None}\n",
      "{'id': 536, 'name': 'crs 536', 'departmentId': 89, 'firstNode': None}\n",
      "{'id': 537, 'name': 'crs 537', 'departmentId': 90, 'firstNode': None}\n",
      "{'id': 538, 'name': 'crs 538', 'departmentId': 91, 'firstNode': None}\n",
      "{'id': 539, 'name': 'crs 539', 'departmentId': 92, 'firstNode': None}\n",
      "{'id': 540, 'name': 'crs 540', 'departmentId': 93, 'firstNode': None}\n",
      "{'id': 541, 'name': 'crs 541', 'departmentId': 94, 'firstNode': None}\n",
      "{'id': 542, 'name': 'crs 542', 'departmentId': 95, 'firstNode': None}\n",
      "{'id': 543, 'name': 'crs 543', 'departmentId': 96, 'firstNode': None}\n",
      "{'id': 544, 'name': 'crs 544', 'departmentId': 97, 'firstNode': None}\n",
      "{'id': 545, 'name': 'crs 545', 'departmentId': 98, 'firstNode': None}\n",
      "{'id': 546, 'name': 'crs 546', 'departmentId': 99, 'firstNode': None}\n",
      "{'id': 547, 'name': 'crs 547', 'departmentId': 100, 'firstNode': None}\n",
      "{'id': 548, 'name': 'crs 548', 'departmentId': 101, 'firstNode': None}\n",
      "{'id': 549, 'name': 'crs 549', 'departmentId': 102, 'firstNode': None}\n",
      "{'id': 550, 'name': 'crs 550', 'departmentId': 103, 'firstNode': None}\n",
      "{'id': 551, 'name': 'crs 551', 'departmentId': 104, 'firstNode': None}\n",
      "{'id': 552, 'name': 'crs 552', 'departmentId': 105, 'firstNode': None}\n",
      "{'id': 553, 'name': 'crs 553', 'departmentId': 106, 'firstNode': None}\n",
      "{'id': 554, 'name': 'crs 554', 'departmentId': 107, 'firstNode': None}\n",
      "{'id': 555, 'name': 'crs 555', 'departmentId': 108, 'firstNode': None}\n",
      "{'id': 556, 'name': 'crs 556', 'departmentId': 109, 'firstNode': None}\n",
      "{'id': 557, 'name': 'crs 557', 'departmentId': 110, 'firstNode': None}\n",
      "{'id': 558, 'name': 'crs 558', 'departmentId': 111, 'firstNode': None}\n",
      "{'id': 559, 'name': 'crs 559', 'departmentId': 112, 'firstNode': None}\n",
      "{'id': 560, 'name': 'crs 560', 'departmentId': 113, 'firstNode': None}\n",
      "{'id': 561, 'name': 'crs 561', 'departmentId': 114, 'firstNode': None}\n",
      "{'id': 562, 'name': 'crs 562', 'departmentId': 115, 'firstNode': None}\n",
      "{'id': 563, 'name': 'crs 563', 'departmentId': 116, 'firstNode': None}\n",
      "{'id': 564, 'name': 'crs 564', 'departmentId': 117, 'firstNode': None}\n",
      "{'id': 565, 'name': 'crs 565', 'departmentId': 118, 'firstNode': None}\n",
      "{'id': 566, 'name': 'crs 566', 'departmentId': 119, 'firstNode': None}\n",
      "{'id': 567, 'name': 'crs 567', 'departmentId': 120, 'firstNode': None}\n",
      "{'id': 568, 'name': 'crs 568', 'departmentId': 121, 'firstNode': None}\n",
      "{'id': 569, 'name': 'crs 569', 'departmentId': 122, 'firstNode': None}\n",
      "{'id': 570, 'name': 'crs 570', 'departmentId': 123, 'firstNode': None}\n",
      "{'id': 571, 'name': 'crs 571', 'departmentId': 124, 'firstNode': None}\n",
      "{'id': 572, 'name': 'crs 572', 'departmentId': 125, 'firstNode': None}\n",
      "{'id': 573, 'name': 'crs 573', 'departmentId': 126, 'firstNode': None}\n",
      "{'id': 574, 'name': 'crs 574', 'departmentId': 127, 'firstNode': None}\n",
      "{'id': 575, 'name': 'crs 575', 'departmentId': 128, 'firstNode': None}\n",
      "{'id': 576, 'name': 'crs 576', 'departmentId': 129, 'firstNode': None}\n",
      "{'id': 577, 'name': 'crs 577', 'departmentId': 130, 'firstNode': None}\n",
      "{'id': 578, 'name': 'crs 578', 'departmentId': 131, 'firstNode': None}\n",
      "{'id': 579, 'name': 'crs 579', 'departmentId': 132, 'firstNode': None}\n",
      "{'id': 580, 'name': 'crs 580', 'departmentId': 133, 'firstNode': None}\n",
      "{'id': 581, 'name': 'crs 581', 'departmentId': 134, 'firstNode': None}\n",
      "{'id': 582, 'name': 'crs 582', 'departmentId': 135, 'firstNode': None}\n",
      "{'id': 583, 'name': 'crs 583', 'departmentId': 136, 'firstNode': None}\n",
      "{'id': 584, 'name': 'crs 584', 'departmentId': 137, 'firstNode': None}\n",
      "{'id': 585, 'name': 'crs 585', 'departmentId': 138, 'firstNode': None}\n",
      "{'id': 586, 'name': 'crs 586', 'departmentId': 139, 'firstNode': None}\n",
      "{'id': 587, 'name': 'crs 587', 'departmentId': 140, 'firstNode': None}\n",
      "{'id': 588, 'name': 'crs 588', 'departmentId': 141, 'firstNode': None}\n",
      "{'id': 589, 'name': 'crs 589', 'departmentId': 142, 'firstNode': None}\n",
      "{'id': 590, 'name': 'crs 590', 'departmentId': 143, 'firstNode': None}\n",
      "{'id': 591, 'name': 'crs 591', 'departmentId': 144, 'firstNode': None}\n",
      "{'id': 592, 'name': 'crs 592', 'departmentId': 145, 'firstNode': None}\n",
      "{'id': 593, 'name': 'crs 593', 'departmentId': 146, 'firstNode': None}\n",
      "{'id': 594, 'name': 'crs 594', 'departmentId': 147, 'firstNode': None}\n",
      "{'id': 595, 'name': 'crs 595', 'departmentId': 148, 'firstNode': None}\n",
      "{'id': 596, 'name': 'crs 596', 'departmentId': 149, 'firstNode': None}\n",
      "{'id': 597, 'name': 'crs 597', 'departmentId': 150, 'firstNode': None}\n",
      "{'id': 598, 'name': 'crs 598', 'departmentId': 151, 'firstNode': None}\n",
      "{'id': 599, 'name': 'crs 599', 'departmentId': 152, 'firstNode': None}\n",
      "{'id': 600, 'name': 'crs 600', 'departmentId': 153, 'firstNode': None}\n",
      "{'id': 601, 'name': 'crs 601', 'departmentId': 154, 'firstNode': None}\n",
      "{'id': 602, 'name': 'crs 602', 'departmentId': 155, 'firstNode': None}\n",
      "{'id': 603, 'name': 'crs 603', 'departmentId': 156, 'firstNode': None}\n",
      "{'id': 604, 'name': 'crs 604', 'departmentId': 157, 'firstNode': None}\n",
      "{'id': 605, 'name': 'crs 605', 'departmentId': 158, 'firstNode': None}\n",
      "{'id': 606, 'name': 'crs 606', 'departmentId': 159, 'firstNode': None}\n",
      "{'id': 607, 'name': 'crs 607', 'departmentId': 160, 'firstNode': None}\n",
      "{'id': 608, 'name': 'crs 608', 'departmentId': 161, 'firstNode': None}\n",
      "{'id': 609, 'name': 'crs 609', 'departmentId': 162, 'firstNode': None}\n",
      "{'id': 610, 'name': 'crs 610', 'departmentId': 163, 'firstNode': None}\n",
      "{'id': 611, 'name': 'crs 611', 'departmentId': 164, 'firstNode': None}\n",
      "{'id': 612, 'name': 'crs 612', 'departmentId': 165, 'firstNode': None}\n",
      "{'id': 613, 'name': 'crs 613', 'departmentId': 166, 'firstNode': None}\n",
      "{'id': 614, 'name': 'crs 614', 'departmentId': 167, 'firstNode': None}\n",
      "{'id': 615, 'name': 'crs 615', 'departmentId': 168, 'firstNode': None}\n",
      "{'id': 616, 'name': 'crs 616', 'departmentId': 169, 'firstNode': None}\n",
      "{'id': 617, 'name': 'crs 617', 'departmentId': 170, 'firstNode': None}\n",
      "{'id': 618, 'name': 'crs 618', 'departmentId': 171, 'firstNode': None}\n",
      "{'id': 619, 'name': 'crs 619', 'departmentId': 172, 'firstNode': None}\n",
      "{'id': 620, 'name': 'crs 620', 'departmentId': 173, 'firstNode': None}\n",
      "{'id': 621, 'name': 'crs 621', 'departmentId': 174, 'firstNode': None}\n",
      "{'id': 622, 'name': 'crs 622', 'departmentId': 175, 'firstNode': None}\n",
      "{'id': 623, 'name': 'crs 623', 'departmentId': 176, 'firstNode': None}\n",
      "{'id': 624, 'name': 'crs 624', 'departmentId': 177, 'firstNode': None}\n",
      "{'id': 625, 'name': 'crs 625', 'departmentId': 178, 'firstNode': None}\n",
      "{'id': 626, 'name': 'crs 626', 'departmentId': 179, 'firstNode': None}\n",
      "{'id': 627, 'name': 'crs 627', 'departmentId': 180, 'firstNode': None}\n",
      "{'id': 628, 'name': 'crs 628', 'departmentId': 181, 'firstNode': None}\n",
      "{'id': 629, 'name': 'crs 629', 'departmentId': 182, 'firstNode': None}\n",
      "{'id': 630, 'name': 'crs 630', 'departmentId': 183, 'firstNode': None}\n",
      "{'id': 631, 'name': 'crs 631', 'departmentId': 184, 'firstNode': None}\n",
      "{'id': 632, 'name': 'crs 632', 'departmentId': 185, 'firstNode': None}\n",
      "{'id': 633, 'name': 'crs 633', 'departmentId': 186, 'firstNode': None}\n",
      "{'id': 634, 'name': 'crs 634', 'departmentId': 187, 'firstNode': None}\n",
      "{'id': 635, 'name': 'crs 635', 'departmentId': 188, 'firstNode': None}\n",
      "{'id': 636, 'name': 'crs 636', 'departmentId': 189, 'firstNode': None}\n",
      "{'id': 637, 'name': 'crs 637', 'departmentId': 190, 'firstNode': None}\n",
      "{'id': 638, 'name': 'crs 638', 'departmentId': 191, 'firstNode': None}\n",
      "{'id': 639, 'name': 'crs 639', 'departmentId': 192, 'firstNode': None}\n",
      "{'id': 640, 'name': 'crs 640', 'departmentId': 193, 'firstNode': None}\n",
      "{'id': 641, 'name': 'crs 641', 'departmentId': 194, 'firstNode': None}\n",
      "{'id': 642, 'name': 'crs 642', 'departmentId': 195, 'firstNode': None}\n",
      "{'id': 643, 'name': 'crs 643', 'departmentId': 196, 'firstNode': None}\n",
      "{'id': 644, 'name': 'crs 644', 'departmentId': 197, 'firstNode': None}\n",
      "{'id': 645, 'name': 'crs 645', 'departmentId': 198, 'firstNode': None}\n",
      "{'id': 646, 'name': 'crs 646', 'departmentId': 199, 'firstNode': None}\n",
      "{'id': 647, 'name': 'crs 647', 'departmentId': 200, 'firstNode': None}\n",
      "{'id': 648, 'name': 'crs 648', 'departmentId': 201, 'firstNode': None}\n",
      "{'id': 649, 'name': 'crs 649', 'departmentId': 202, 'firstNode': None}\n",
      "{'id': 650, 'name': 'crs 650', 'departmentId': 203, 'firstNode': None}\n",
      "{'id': 651, 'name': 'crs 651', 'departmentId': 204, 'firstNode': None}\n",
      "{'id': 652, 'name': 'crs 652', 'departmentId': 205, 'firstNode': None}\n",
      "{'id': 653, 'name': 'crs 653', 'departmentId': 206, 'firstNode': None}\n",
      "{'id': 654, 'name': 'crs 654', 'departmentId': 207, 'firstNode': None}\n",
      "{'id': 655, 'name': 'crs 655', 'departmentId': 208, 'firstNode': None}\n",
      "{'id': 656, 'name': 'crs 656', 'departmentId': 209, 'firstNode': None}\n",
      "{'id': 657, 'name': 'crs 657', 'departmentId': 210, 'firstNode': None}\n",
      "{'id': 658, 'name': 'crs 658', 'departmentId': 211, 'firstNode': None}\n",
      "{'id': 659, 'name': 'crs 659', 'departmentId': 212, 'firstNode': None}\n",
      "{'id': 660, 'name': 'crs 660', 'departmentId': 213, 'firstNode': None}\n",
      "{'id': 661, 'name': 'crs 661', 'departmentId': 214, 'firstNode': None}\n",
      "{'id': 662, 'name': 'crs 662', 'departmentId': 215, 'firstNode': None}\n",
      "{'id': 663, 'name': 'crs 663', 'departmentId': 216, 'firstNode': None}\n",
      "{'id': 664, 'name': 'crs 664', 'departmentId': 217, 'firstNode': None}\n",
      "{'id': 665, 'name': 'crs 665', 'departmentId': 218, 'firstNode': None}\n",
      "{'id': 666, 'name': 'crs 666', 'departmentId': 219, 'firstNode': None}\n",
      "{'id': 667, 'name': 'crs 667', 'departmentId': 220, 'firstNode': None}\n"
     ]
    }
   ],
   "source": [
    "# print all elements of courses (remove comment)\n",
    "helper.getAllItemsOfData(courses)"
   ]
  },
  {
   "cell_type": "code",
   "execution_count": 11,
   "metadata": {},
   "outputs": [
    {
     "data": {
      "text/plain": [
       "'please insert correct arguments e.g. helper.addNewRegister(1, 1)'"
      ]
     },
     "execution_count": 11,
     "metadata": {},
     "output_type": "execute_result"
    }
   ],
   "source": [
    "######################################################\n",
    "# add new register for a student in a course as follows\n",
    "#helper.addNewRegister(studentId, courseId)\n",
    "helper.addNewRegister(1)"
   ]
  },
  {
   "cell_type": "code",
   "execution_count": 12,
   "metadata": {},
   "outputs": [
    {
     "data": {
      "text/plain": [
       "'enter a valid Student ID'"
      ]
     },
     "execution_count": 12,
     "metadata": {},
     "output_type": "execute_result"
    }
   ],
   "source": [
    "#adding wrong student id\n",
    "helper.addNewRegister(100000, 1)"
   ]
  },
  {
   "cell_type": "code",
   "execution_count": 13,
   "metadata": {},
   "outputs": [
    {
     "data": {
      "text/plain": [
       "'enter a valid Course ID'"
      ]
     },
     "execution_count": 13,
     "metadata": {},
     "output_type": "execute_result"
    }
   ],
   "source": [
    "#adding wrong course id\n",
    "helper.addNewRegister(1, 10000)"
   ]
  },
  {
   "cell_type": "code",
   "execution_count": 14,
   "metadata": {},
   "outputs": [
    {
     "data": {
      "text/plain": [
       "'student registered successfully'"
      ]
     },
     "execution_count": 14,
     "metadata": {},
     "output_type": "execute_result"
    }
   ],
   "source": [
    "#correct inputs\n",
    "helper.addNewRegister(1, 1)"
   ]
  },
  {
   "cell_type": "code",
   "execution_count": 15,
   "metadata": {},
   "outputs": [
    {
     "data": {
      "text/plain": [
       "'student registered successfully'"
      ]
     },
     "execution_count": 15,
     "metadata": {},
     "output_type": "execute_result"
    }
   ],
   "source": [
    "helper.addNewRegister(1, 2)"
   ]
  },
  {
   "cell_type": "code",
   "execution_count": 16,
   "metadata": {},
   "outputs": [
    {
     "data": {
      "text/plain": [
       "'student registered successfully'"
      ]
     },
     "execution_count": 16,
     "metadata": {},
     "output_type": "execute_result"
    }
   ],
   "source": [
    "helper.addNewRegister(2, 1)"
   ]
  },
  {
   "cell_type": "code",
   "execution_count": 17,
   "metadata": {},
   "outputs": [
    {
     "data": {
      "text/plain": [
       "'student registered successfully'"
      ]
     },
     "execution_count": 17,
     "metadata": {},
     "output_type": "execute_result"
    }
   ],
   "source": [
    "helper.addNewRegister(2, 3)"
   ]
  },
  {
   "cell_type": "code",
   "execution_count": 18,
   "metadata": {},
   "outputs": [
    {
     "data": {
      "text/plain": [
       "'student registered successfully'"
      ]
     },
     "execution_count": 18,
     "metadata": {},
     "output_type": "execute_result"
    }
   ],
   "source": [
    "helper.addNewRegister(2, 4)"
   ]
  },
  {
   "cell_type": "code",
   "execution_count": 19,
   "metadata": {},
   "outputs": [
    {
     "data": {
      "text/plain": [
       "'student registered successfully'"
      ]
     },
     "execution_count": 19,
     "metadata": {},
     "output_type": "execute_result"
    }
   ],
   "source": [
    "helper.addNewRegister(3, 1)"
   ]
  },
  {
   "cell_type": "code",
   "execution_count": 20,
   "metadata": {},
   "outputs": [
    {
     "data": {
      "text/plain": [
       "'student registered successfully'"
      ]
     },
     "execution_count": 20,
     "metadata": {},
     "output_type": "execute_result"
    }
   ],
   "source": [
    "helper.addNewRegister(3, 3)"
   ]
  },
  {
   "cell_type": "code",
   "execution_count": 21,
   "metadata": {},
   "outputs": [
    {
     "data": {
      "text/plain": [
       "'student registered successfully'"
      ]
     },
     "execution_count": 21,
     "metadata": {},
     "output_type": "execute_result"
    }
   ],
   "source": [
    "helper.addNewRegister(3, 5)"
   ]
  },
  {
   "cell_type": "code",
   "execution_count": 22,
   "metadata": {},
   "outputs": [
    {
     "data": {
      "text/plain": [
       "'student registered successfully'"
      ]
     },
     "execution_count": 22,
     "metadata": {},
     "output_type": "execute_result"
    }
   ],
   "source": [
    "helper.addNewRegister(4, 2)"
   ]
  },
  {
   "cell_type": "code",
   "execution_count": 23,
   "metadata": {},
   "outputs": [
    {
     "data": {
      "text/plain": [
       "'student registered successfully'"
      ]
     },
     "execution_count": 23,
     "metadata": {},
     "output_type": "execute_result"
    }
   ],
   "source": [
    "helper.addNewRegister(4, 4)"
   ]
  },
  {
   "cell_type": "code",
   "execution_count": 24,
   "metadata": {},
   "outputs": [
    {
     "data": {
      "text/plain": [
       "'student registered successfully'"
      ]
     },
     "execution_count": 24,
     "metadata": {},
     "output_type": "execute_result"
    }
   ],
   "source": [
    "helper.addNewRegister(4, 5)"
   ]
  },
  {
   "cell_type": "code",
   "execution_count": 25,
   "metadata": {},
   "outputs": [
    {
     "data": {
      "text/plain": [
       "'student registered successfully'"
      ]
     },
     "execution_count": 25,
     "metadata": {},
     "output_type": "execute_result"
    }
   ],
   "source": [
    "helper.addNewRegister(5, 1)"
   ]
  },
  {
   "cell_type": "code",
   "execution_count": 26,
   "metadata": {},
   "outputs": [
    {
     "data": {
      "text/plain": [
       "'student registered successfully'"
      ]
     },
     "execution_count": 26,
     "metadata": {},
     "output_type": "execute_result"
    }
   ],
   "source": [
    "helper.addNewRegister(5, 2)"
   ]
  },
  {
   "cell_type": "code",
   "execution_count": 27,
   "metadata": {},
   "outputs": [
    {
     "data": {
      "text/plain": [
       "'student registered successfully'"
      ]
     },
     "execution_count": 27,
     "metadata": {},
     "output_type": "execute_result"
    }
   ],
   "source": [
    "helper.addNewRegister(5, 3)"
   ]
  },
  {
   "cell_type": "code",
   "execution_count": 28,
   "metadata": {},
   "outputs": [
    {
     "data": {
      "text/plain": [
       "'student registered successfully'"
      ]
     },
     "execution_count": 28,
     "metadata": {},
     "output_type": "execute_result"
    }
   ],
   "source": [
    "helper.addNewRegister(6, 3)"
   ]
  },
  {
   "cell_type": "code",
   "execution_count": 29,
   "metadata": {},
   "outputs": [
    {
     "data": {
      "text/plain": [
       "'student registered successfully'"
      ]
     },
     "execution_count": 29,
     "metadata": {},
     "output_type": "execute_result"
    }
   ],
   "source": [
    "helper.addNewRegister(6, 4)"
   ]
  },
  {
   "cell_type": "code",
   "execution_count": 30,
   "metadata": {},
   "outputs": [
    {
     "data": {
      "text/plain": [
       "'student registered successfully'"
      ]
     },
     "execution_count": 30,
     "metadata": {},
     "output_type": "execute_result"
    }
   ],
   "source": [
    "helper.addNewRegister(6, 5)"
   ]
  },
  {
   "cell_type": "code",
   "execution_count": 31,
   "metadata": {},
   "outputs": [
    {
     "data": {
      "text/plain": [
       "'student registered successfully'"
      ]
     },
     "execution_count": 31,
     "metadata": {},
     "output_type": "execute_result"
    }
   ],
   "source": [
    "helper.addNewRegister(7, 2)"
   ]
  },
  {
   "cell_type": "code",
   "execution_count": 32,
   "metadata": {},
   "outputs": [
    {
     "data": {
      "text/plain": [
       "'student registered successfully'"
      ]
     },
     "execution_count": 32,
     "metadata": {},
     "output_type": "execute_result"
    }
   ],
   "source": [
    "helper.addNewRegister(7, 4)"
   ]
  },
  {
   "cell_type": "code",
   "execution_count": 33,
   "metadata": {},
   "outputs": [
    {
     "data": {
      "text/plain": [
       "'student registered successfully'"
      ]
     },
     "execution_count": 33,
     "metadata": {},
     "output_type": "execute_result"
    }
   ],
   "source": [
    "helper.addNewRegister(7, 5)"
   ]
  },
  {
   "cell_type": "code",
   "execution_count": 34,
   "metadata": {},
   "outputs": [
    {
     "data": {
      "text/plain": [
       "20"
      ]
     },
     "execution_count": 34,
     "metadata": {},
     "output_type": "execute_result"
    }
   ],
   "source": [
    "######################################################\n",
    "# getting total number of registrations\n",
    "helper.getAllRegistrationsDone()"
   ]
  },
  {
   "cell_type": "code",
   "execution_count": 35,
   "metadata": {},
   "outputs": [
    {
     "name": "stdout",
     "output_type": "stream",
     "text": [
      "Registered Students in Course: crs 5:-\n",
      "* student Id: 3, student Name: May Coleman\n",
      "* student Id: 4, student Name: Jessica Barlow\n",
      "* student Id: 6, student Name: Sosa Barr\n",
      "* student Id: 7, student Name: Dillard Holden\n",
      "total # students registered in crs 5: 4\n"
     ]
    }
   ],
   "source": [
    "######################################################\n",
    "# get list & count of students registered in a course as follows:\n",
    "#helper.getRegisteredStudentsInCourse(courseId)\n",
    "helper.getRegisteredStudentsInCourse(5)"
   ]
  },
  {
   "cell_type": "code",
   "execution_count": 36,
   "metadata": {},
   "outputs": [
    {
     "name": "stdout",
     "output_type": "stream",
     "text": [
      "Course Registered by: Dillard Holden:-\n",
      "* course Id: 2, course Name: crs 2\n",
      "* course Id: 4, course Name: crs 4\n",
      "* course Id: 5, course Name: crs 5\n",
      "total # courses registered bt Dillard Holden: 3\n"
     ]
    }
   ],
   "source": [
    "######################################################\n",
    "# get list & count of courses registered by a student as follows:\n",
    "#helper.getCoursesRegisteredByStudent(studentId)\n",
    "helper.getCoursesRegisteredByStudent(7)"
   ]
  },
  {
   "cell_type": "code",
   "execution_count": 10,
   "metadata": {},
   "outputs": [
    {
     "data": {
      "text/plain": [
       "'please insert correct arguments e.g. helper.deleteRegistration(1, 1)'"
      ]
     },
     "execution_count": 10,
     "metadata": {},
     "output_type": "execute_result"
    }
   ],
   "source": [
    "######################################################\n",
    "# delete with wrong inputs\n",
    "helper.deleteRegistration()"
   ]
  },
  {
   "cell_type": "code",
   "execution_count": 28,
   "metadata": {},
   "outputs": [
    {
     "name": "stdout",
     "output_type": "stream",
     "text": [
      "Course Registered by: May Coleman:-\n",
      "* course Id: 1, course Name: crs 1\n",
      "* course Id: 3, course Name: crs 3\n",
      "* course Id: 5, course Name: crs 5\n",
      "total # courses registered bt May Coleman: 3\n"
     ]
    },
    {
     "data": {
      "text/plain": [
       "19"
      ]
     },
     "execution_count": 28,
     "metadata": {},
     "output_type": "execute_result"
    }
   ],
   "source": [
    "helper.getCoursesRegisteredByStudent(3)\n",
    "\n",
    "# delete registration as follows:\n",
    "#helper.deleteRegistration(studentId, courseId)\n",
    "helper.deleteRegistration(3, 3)\n",
    "helper.getAllRegistrationsDone()"
   ]
  },
  {
   "cell_type": "code",
   "execution_count": 29,
   "metadata": {},
   "outputs": [
    {
     "name": "stdout",
     "output_type": "stream",
     "text": [
      "Course Registered by: May Coleman:-\n",
      "* course Id: 1, course Name: crs 1\n",
      "* course Id: 5, course Name: crs 5\n",
      "total # courses registered bt May Coleman: 2\n"
     ]
    }
   ],
   "source": [
    "helper.getCoursesRegisteredByStudent(3)"
   ]
  }
 ],
 "metadata": {
  "kernelspec": {
   "display_name": "Python 3",
   "language": "python",
   "name": "python3"
  },
  "language_info": {
   "codemirror_mode": {
    "name": "ipython",
    "version": 3
   },
   "file_extension": ".py",
   "mimetype": "text/x-python",
   "name": "python",
   "nbconvert_exporter": "python",
   "pygments_lexer": "ipython3",
   "version": "3.8.5"
  }
 },
 "nbformat": 4,
 "nbformat_minor": 4
}
